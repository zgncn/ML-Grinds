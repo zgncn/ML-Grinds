{
 "cells": [
  {
   "cell_type": "markdown",
   "metadata": {},
   "source": [
    "# Demokrasi gibi düşün. En güçlü konsensus KAZANIR"
   ]
  },
  {
   "cell_type": "markdown",
   "metadata": {},
   "source": [
    "# Ensemble Learning(Topluluk Öğrenmesi)\n",
    "* Ensemble Learning birden fazla makine öğrenmesi modelini birleştirerek daha iyi tahmin performansı elde etmeyi amaçlayan bir yaklaşımdır.Temek fikir tek bir model yerine birden fazla modeli bir araya getirerek daha kararlı ve doğru sonuçlar elde etmektir\n",
    "\n",
    "## Avantajları\n",
    "* Daha yüksek tahmin doğruluğu\n",
    "* Overfitting riskini azaltma\n",
    "* Farklı model türlerinin güçlü yönlerini birleştirme\n",
    "* Model stabilitesini arttırma\n"
   ]
  },
  {
   "cell_type": "markdown",
   "metadata": {},
   "source": [
    "## Ensemble Yöntemleri"
   ]
  },
  {
   "cell_type": "markdown",
   "metadata": {},
   "source": [
    "### 1-)Bagging (Bootstrap AGGregatING)\n",
    "** Bagging yöntemi aynı algoritmanın bootstrap örneklemi adı verilen farklı veri alt kümelerinde eğitilmesine dayanır.Orijinal veri setinden rastgele örnekler seçerek(yerine koyarak) birçok veri alt kümesi oluşturulur.Her model bir alt küme üzerinde eğitilir ve sonuçlar birleştirilir(Sonuçlar oylanarak(kümeleme) ya da ortalama alınarak(regresyon) birleştirilir)\n",
    "* Random Forest baggingin en popüler örneğidir.Her düğümde rastgele seçilmiş özelliklerin alt kümesini kullanarak birden çok karar ağacı eğitilir\n",
    "* Amacı varyansı azaltmaktır. Özellikle yüksek varyansa sahip modeller için faydalıdır\n",
    "\n",
    "** Bagging matematiği bias-variance trade-off ile çalışır\n",
    "$$Var[\\hat{f}_{bag}] = \\frac{1}{B^2} \\sum Cov(\\hat{f}_i, \\hat{f}_j)$$\n",
    "\n",
    "* B=toplam model sayısı"
   ]
  },
  {
   "cell_type": "markdown",
   "metadata": {},
   "source": [
    "### 2-)Boosting\n",
    "** Boosting zayıf öğrencileri ardışık şekilde eğitir.Her yeni model bir önceki modelin yanlış sınıflandırdığı örneklere daha fazla odaklanarak birbirlerinin hatalarını düzeltmeye çalışır\n",
    "* Amacı biası azaltmaktır\n",
    "\n",
    "** Popüler boosting algoritmaları\n",
    "* AdaBoost--> Yanlış sınıflandırılan örneklerin ağırlıklarını arttırır.\n",
    "* Gradient Boosting--> Hatayı minimize etmek için gradyan(eğim) inişi kullanır\n",
    "* XGBoost--> Hız ve performans için optimize edilmiştir\n",
    "* LightGBM--> Büyük veri setleri için daha hızlıdır\n",
    "* CatBoost--> Kategorik değişkenlerle daha iyi çalışır\n",
    "\n",
    "** Boosting Matematiği\n",
    "$$F_m(x) = F_{m-1}(x) + \\gamma_m h_m(x)$$\n",
    "\n",
    "* Fm-1(x):önceki model\n",
    "* m(x):yeni öğrenilen zayıf model\n",
    "* γm:Öğrenme oranı\n"
   ]
  },
  {
   "cell_type": "markdown",
   "metadata": {},
   "source": [
    "### 3-)Stacking\n",
    "* Stacking farklı model türlerinin(örneğin bir logistic regresyon, bir decision tree,bir SVM) tahminlerini bir araya getirerek bir \"meta öğrenici\" eğitir.Bu öğrenici diğer modellerin çıktılarını girdi olarak alır ve son tahmini üretir.\n",
    "\n",
    "** Süreç\n",
    "* Birinci seviye modelleri(base learners) eğitin\n",
    "* Birinci seviye modellerin tahminlerini kullanarak ikinci seviye modeli(meta-learner) eğitin\n",
    "* Test veirleri için önce birince seviye modellerin tahminlerini alın,sonra bu tahminleri meta-learner'a girdi olarak verin\n"
   ]
  },
  {
   "cell_type": "markdown",
   "metadata": {},
   "source": [
    "### 4-)Voting\n",
    "Voting, birkaç modelin tahminlerini birleştirmenin en basit yoludur\n",
    "* Hard Voting:Sınıflandırma için çoğunluk oylaması yapar(en çok oy alan sınıf seçilir)\n",
    "* Soft Voting:Sınıflandırma için sınıf olasılıklarının ortalamasını alır\n",
    "* Regresyon için Voting:Tahminlerin ortalaması alınır"
   ]
  },
  {
   "cell_type": "markdown",
   "metadata": {},
   "source": [
    "## Ensemble Yöntemlerinde Hiperparametre Optimizasyonu\n",
    "* n_estimators:Toplulukta kullanılacak model sayısı\n",
    "* learning rate:Boosting algoritmalarında her modelin katkısını ölçeklendiren değer\n",
    "* max_depth:Ağaç modellerinde max derinlik\n",
    "* subsample:Her iterasyonda kullanılacak veri oranı\n",
    "* colsample_bytree:Her ağaç için kullanılacak özellik oranı"
   ]
  },
  {
   "cell_type": "markdown",
   "metadata": {},
   "source": [
    "## Ensemble Learning için Pratik İpuçları\n",
    "* Tek bir güçlü model ile başlayıp,benchmark olarak kullanın\n",
    "* Grid Search veya Random Search ile hiperparametre optimizasyonu yapın\n",
    "* Farklı model türlerini birleştir(doğrusal+ağaç tabanlı)\n",
    "* Aşırı karmaşık ensemble'lar her zaman daha iyi sonuç vermeyebilir"
   ]
  },
  {
   "cell_type": "markdown",
   "metadata": {},
   "source": [
    "# Ensemble Learning Kod Örnekleri"
   ]
  },
  {
   "cell_type": "code",
   "execution_count": 1,
   "metadata": {},
   "outputs": [],
   "source": [
    "import numpy as np\n",
    "import pandas as pd\n",
    "import matplotlib.pyplot as plt\n",
    "import seaborn as sns\n",
    "from sklearn.model_selection import train_test_split,cross_val_score\n",
    "from sklearn.preprocessing import StandardScaler\n",
    "from sklearn.metrics import accuracy_score,classification_report,confusion_matrix\n",
    "from sklearn.ensemble import RandomForestClassifier,GradientBoostingClassifier,VotingClassifier,AdaBoostClassifier,StackingClassifier\n",
    "from sklearn.tree import DecisionTreeClassifier\n",
    "from sklearn.linear_model import LogisticRegression\n",
    "from sklearn.svm import SVC\n",
    "from sklearn.neighbors import KNeighborsClassifier\n",
    "from sklearn.datasets import load_breast_cancer\n",
    "import warnings\n",
    "warnings.filterwarnings(\"ignore\")"
   ]
  },
  {
   "cell_type": "markdown",
   "metadata": {},
   "source": [
    "# -----Örnek 1-)BAGGING(RANDOM FOREST)------"
   ]
  },
  {
   "cell_type": "code",
   "execution_count": 2,
   "metadata": {},
   "outputs": [
    {
     "name": "stdout",
     "output_type": "stream",
     "text": [
      "Veri seti boyutu (569, 30)\n",
      "Sınıf dağılımı:\n",
      " 1    357\n",
      "0    212\n",
      "Name: count, dtype: int64\n"
     ]
    }
   ],
   "source": [
    "#Breast Cancer veri setini yükle\n",
    "cancer=load_breast_cancer()\n",
    "X=pd.DataFrame(cancer.data,columns=cancer.feature_names)\n",
    "y=cancer.target\n",
    "print(\"Veri seti boyutu\",X.shape)\n",
    "print(\"Sınıf dağılımı:\\n\",pd.Series(y).value_counts())"
   ]
  },
  {
   "cell_type": "code",
   "execution_count": 3,
   "metadata": {},
   "outputs": [
    {
     "name": "stdout",
     "output_type": "stream",
     "text": [
      "Random Forest Performansı:\n",
      "Doğruluk 0.9440559440559441\n",
      "--------------------------------------------------\n",
      "              precision    recall  f1-score   support\n",
      "\n",
      "           0       0.94      0.91      0.93        56\n",
      "           1       0.94      0.97      0.95        87\n",
      "\n",
      "    accuracy                           0.94       143\n",
      "   macro avg       0.94      0.94      0.94       143\n",
      "weighted avg       0.94      0.94      0.94       143\n",
      "\n"
     ]
    }
   ],
   "source": [
    "#Veriyi eğitim ve test olarak ayıralım\n",
    "X_train,X_test,y_train,y_test=train_test_split(X,y,test_size=0.25,random_state=31)\n",
    "#Baggin örneği random forest modelini oluştur ve fit et\n",
    "rf_model=RandomForestClassifier(n_estimators=100,random_state=31)\n",
    "rf_model.fit(X_train,y_train)\n",
    "#Test verisi üzerinden tahmin yap\n",
    "y_pred=rf_model.predict(X_test)\n",
    "print(\"Random Forest Performansı:\")\n",
    "print(\"Doğruluk\",accuracy_score(y_test,y_pred))\n",
    "print(\"-----\"*10)\n",
    "print(classification_report(y_test,y_pred))\n"
   ]
  },
  {
   "cell_type": "code",
   "execution_count": 4,
   "metadata": {},
   "outputs": [
    {
     "name": "stdout",
     "output_type": "stream",
     "text": [
      "En önemli 6 özellik:\n"
     ]
    },
    {
     "data": {
      "text/html": [
       "<div>\n",
       "<style scoped>\n",
       "    .dataframe tbody tr th:only-of-type {\n",
       "        vertical-align: middle;\n",
       "    }\n",
       "\n",
       "    .dataframe tbody tr th {\n",
       "        vertical-align: top;\n",
       "    }\n",
       "\n",
       "    .dataframe thead th {\n",
       "        text-align: right;\n",
       "    }\n",
       "</style>\n",
       "<table border=\"1\" class=\"dataframe\">\n",
       "  <thead>\n",
       "    <tr style=\"text-align: right;\">\n",
       "      <th></th>\n",
       "      <th>Feature</th>\n",
       "      <th>Importance</th>\n",
       "    </tr>\n",
       "  </thead>\n",
       "  <tbody>\n",
       "    <tr>\n",
       "      <th>20</th>\n",
       "      <td>worst radius</td>\n",
       "      <td>0.136938</td>\n",
       "    </tr>\n",
       "    <tr>\n",
       "      <th>23</th>\n",
       "      <td>worst area</td>\n",
       "      <td>0.125543</td>\n",
       "    </tr>\n",
       "    <tr>\n",
       "      <th>27</th>\n",
       "      <td>worst concave points</td>\n",
       "      <td>0.109565</td>\n",
       "    </tr>\n",
       "    <tr>\n",
       "      <th>22</th>\n",
       "      <td>worst perimeter</td>\n",
       "      <td>0.104903</td>\n",
       "    </tr>\n",
       "    <tr>\n",
       "      <th>3</th>\n",
       "      <td>mean area</td>\n",
       "      <td>0.093277</td>\n",
       "    </tr>\n",
       "    <tr>\n",
       "      <th>0</th>\n",
       "      <td>mean radius</td>\n",
       "      <td>0.083438</td>\n",
       "    </tr>\n",
       "  </tbody>\n",
       "</table>\n",
       "</div>"
      ],
      "text/plain": [
       "                 Feature  Importance\n",
       "20          worst radius    0.136938\n",
       "23            worst area    0.125543\n",
       "27  worst concave points    0.109565\n",
       "22       worst perimeter    0.104903\n",
       "3              mean area    0.093277\n",
       "0            mean radius    0.083438"
      ]
     },
     "execution_count": 4,
     "metadata": {},
     "output_type": "execute_result"
    }
   ],
   "source": [
    "#Özellik önemlerini görelim\n",
    "feature_importance=pd.DataFrame({\"Feature\":X.columns,\n",
    "                                 \"Importance\":rf_model.feature_importances_}).sort_values(\"Importance\",ascending=False)\n",
    "print(\"En önemli 6 özellik:\")\n",
    "feature_importance.head(6)"
   ]
  },
  {
   "cell_type": "markdown",
   "metadata": {},
   "source": [
    "# -----Örnek 2-)BOOSTING(Gradient Boosting)-----"
   ]
  },
  {
   "cell_type": "code",
   "execution_count": 5,
   "metadata": {},
   "outputs": [
    {
     "name": "stdout",
     "output_type": "stream",
     "text": [
      "Gradient Boosting Performansı\n",
      "Doğruluk 0.9790209790209791\n",
      "              precision    recall  f1-score   support\n",
      "\n",
      "           0       0.96      0.98      0.97        56\n",
      "           1       0.99      0.98      0.98        87\n",
      "\n",
      "    accuracy                           0.98       143\n",
      "   macro avg       0.98      0.98      0.98       143\n",
      "weighted avg       0.98      0.98      0.98       143\n",
      "\n"
     ]
    }
   ],
   "source": [
    "#Gradient Boosting(Gradyan Arttırma) modelini oluştur ve eğit\n",
    "gb_model=GradientBoostingClassifier(n_estimators=100,learning_rate=0.1,random_state=31)\n",
    "gb_model.fit(X_train,y_train)\n",
    "#test verisi üzerinden tahmin\n",
    "y_pred=gb_model.predict(X_test)\n",
    "print(\"Gradient Boosting Performansı\")\n",
    "print(\"Doğruluk\",accuracy_score(y_test,y_pred))\n",
    "print(classification_report(y_test,y_pred))"
   ]
  },
  {
   "cell_type": "markdown",
   "metadata": {},
   "source": [
    "## ----- Örnek 3-) Voting Classifier -----"
   ]
  },
  {
   "cell_type": "code",
   "execution_count": 6,
   "metadata": {},
   "outputs": [
    {
     "name": "stdout",
     "output_type": "stream",
     "text": [
      "Voting Classifier Performansı\n",
      "Doğruluk 0.9440559440559441\n",
      "              precision    recall  f1-score   support\n",
      "\n",
      "           0       1.00      0.86      0.92        56\n",
      "           1       0.92      1.00      0.96        87\n",
      "\n",
      "    accuracy                           0.94       143\n",
      "   macro avg       0.96      0.93      0.94       143\n",
      "weighted avg       0.95      0.94      0.94       143\n",
      "\n"
     ]
    }
   ],
   "source": [
    "#farklı modeller oluştur\n",
    "log_clf=LogisticRegression(random_state=31)\n",
    "rf_clf=RandomForestClassifier(n_estimators=100,random_state=31)\n",
    "svm_clf=SVC(probability=True,random_state=31)\n",
    "\n",
    "#voting classifier oluştur\n",
    "voting_clf=VotingClassifier(estimators=[\n",
    "    (\"lr\",log_clf),\n",
    "    (\"rf\",rf_clf),\n",
    "    (\"svc\",svm_clf)\n",
    "],voting=\"soft\")\n",
    "#modeli eğit\n",
    "voting_clf.fit(X_train,y_train)\n",
    "#test verisi üzerinden tahmin yap\n",
    "y_pred=voting_clf.predict(X_test)\n",
    "print(\"Voting Classifier Performansı\")\n",
    "print(\"Doğruluk\",accuracy_score(y_test,y_pred))\n",
    "print(classification_report(y_test,y_pred))"
   ]
  },
  {
   "cell_type": "markdown",
   "metadata": {},
   "source": [
    "## ----- Örnek 4-) STACKING CLASSIFIER -----"
   ]
  },
  {
   "cell_type": "code",
   "execution_count": 7,
   "metadata": {},
   "outputs": [
    {
     "name": "stdout",
     "output_type": "stream",
     "text": [
      "Stacking Classifier Performansı\n",
      "Doğruluk: 0.9790209790209791\n",
      "              precision    recall  f1-score   support\n",
      "\n",
      "           0       0.96      0.98      0.97        56\n",
      "           1       0.99      0.98      0.98        87\n",
      "\n",
      "    accuracy                           0.98       143\n",
      "   macro avg       0.98      0.98      0.98       143\n",
      "weighted avg       0.98      0.98      0.98       143\n",
      "\n"
     ]
    }
   ],
   "source": [
    "#base modelleri tanımla\n",
    "base_models=[\n",
    "    (\"rf\",RandomForestClassifier(n_estimators=50,random_state=31)),\n",
    "     (\"gb\",GradientBoostingClassifier(n_estimators=50,random_state=31)),\n",
    "     (\"dt\",DecisionTreeClassifier(random_state=31))]\n",
    "\n",
    "#Meta Learner Oluştur\n",
    "meta_learner=LogisticRegression(random_state=31)\n",
    "#Stacking Classifier oluştur\n",
    "stacking_clf=StackingClassifier(estimators=base_models,\n",
    "                                final_estimator=meta_learner,\n",
    "                                cv=5)\n",
    "#modeli eğit\n",
    "stacking_clf.fit(X_train,y_train)\n",
    "#tahmin yap\n",
    "y_pred=stacking_clf.predict(X_test)\n",
    "print(\"Stacking Classifier Performansı\")\n",
    "print(\"Doğruluk:\",accuracy_score(y_test,y_pred))\n",
    "print(classification_report(y_test,y_pred))"
   ]
  },
  {
   "cell_type": "markdown",
   "metadata": {},
   "source": [
    "## ----- Örnek 5-) ADABOOST-----"
   ]
  },
  {
   "cell_type": "code",
   "execution_count": 8,
   "metadata": {},
   "outputs": [
    {
     "name": "stdout",
     "output_type": "stream",
     "text": [
      "AdaBoost Performansı\n",
      "Doğruluk 0.9790209790209791\n",
      "              precision    recall  f1-score   support\n",
      "\n",
      "           0       0.96      0.98      0.97        56\n",
      "           1       0.99      0.98      0.98        87\n",
      "\n",
      "    accuracy                           0.98       143\n",
      "   macro avg       0.98      0.98      0.98       143\n",
      "weighted avg       0.98      0.98      0.98       143\n",
      "\n"
     ]
    }
   ],
   "source": [
    "#AdaBoost modelini oluştur ve eğit\n",
    "ada_model=AdaBoostClassifier(DecisionTreeClassifier(max_depth=1),#base estiamtor karar ağacı\n",
    "                             n_estimators=200,\n",
    "                             algorithm=\"SAMME\",\n",
    "                             learning_rate=0.8,\n",
    "                             random_state=31)\n",
    "ada_model.fit(X_train,y_train)\n",
    "#tahmin\n",
    "ada_model.predict(X_test)\n",
    "print(\"AdaBoost Performansı\")\n",
    "print(\"Doğruluk\",accuracy_score(y_test,y_pred))\n",
    "print(classification_report(y_test,y_pred))"
   ]
  },
  {
   "cell_type": "markdown",
   "metadata": {},
   "source": [
    "# MODELLER ARASI KARŞILAŞTIRMA"
   ]
  },
  {
   "cell_type": "code",
   "execution_count": 9,
   "metadata": {},
   "outputs": [
    {
     "name": "stdout",
     "output_type": "stream",
     "text": [
      "Modeller arası karşılaştırma(10 Fold cross validation)\n",
      "Random Forest: Ortalama Doğruluk = 0.9596, Standart Sapma = 0.0294\n",
      "Gradient Boosting: Ortalama Doğruluk = 0.9632, Standart Sapma = 0.0254\n",
      "Voting Classifier: Ortalama Doğruluk = 0.9543, Standart Sapma = 0.0250\n",
      "Stacking Classifier: Ortalama Doğruluk = 0.9596, Standart Sapma = 0.0249\n",
      "AdaBoost: Ortalama Doğruluk = 0.9754, Standart Sapma = 0.0141\n"
     ]
    }
   ],
   "source": [
    "\n",
    "\n",
    "models = [\n",
    "    (\"Random Forest\", rf_model),\n",
    "    (\"Gradient Boosting\", gb_model),\n",
    "    (\"Voting Classifier\", voting_clf),\n",
    "    (\"Stacking Classifier\", stacking_clf),\n",
    "    (\"AdaBoost\", ada_model)\n",
    "]\n",
    "print(\"Modeller arası karşılaştırma(10 Fold cross validation)\")\n",
    "for name,model in models:\n",
    "    scores=cross_val_score(model,X,y,cv=10,scoring=\"accuracy\")\n",
    "    print(f\"{name}: Ortalama Doğruluk = {scores.mean():.4f}, Standart Sapma = {scores.std():.4f}\")"
   ]
  },
  {
   "cell_type": "markdown",
   "metadata": {},
   "source": [
    "<h1 style=\"color:red\">California Housing Veri Seti ile Regresyon Örneği</h1>"
   ]
  },
  {
   "cell_type": "code",
   "execution_count": 10,
   "metadata": {},
   "outputs": [],
   "source": [
    "#gerekli kütüphaneleri yükle\n",
    "import numpy as np\n",
    "import pandas as pd\n",
    "import matplotlib.pyplot as plt\n",
    "from sklearn.datasets import fetch_california_housing\n",
    "from sklearn.model_selection import train_test_split,cross_val_score\n",
    "from sklearn.preprocessing import StandardScaler\n",
    "from sklearn.metrics import r2_score,mean_squared_error,mean_absolute_error\n",
    "from sklearn.ensemble import RandomForestRegressor,GradientBoostingRegressor,VotingRegressor,StackingRegressor,AdaBoostRegressor\n",
    "from sklearn.linear_model import LinearRegression,Ridge\n",
    "from sklearn.tree import DecisionTreeRegressor\n",
    "from sklearn.svm import SVR"
   ]
  },
  {
   "cell_type": "code",
   "execution_count": 21,
   "metadata": {},
   "outputs": [
    {
     "name": "stdout",
     "output_type": "stream",
     "text": [
      "Veri seti boyutu : (20640, 8)\n",
      "Hedef değişken istatistikleri:\n",
      "Min y: 0.14999\n",
      "Max  y: 5.00001\n",
      "Std y: 1.1539282040412253\n",
      "Mean y: 2.068558169089147\n"
     ]
    }
   ],
   "source": [
    "#veri setini yükle\n",
    "df=fetch_california_housing()\n",
    "X=pd.DataFrame(df.data,columns=df.feature_names)\n",
    "y=df.target\n",
    "print(\"Veri seti boyutu :\",X.shape)\n",
    "print(\"Hedef değişken istatistikleri:\")\n",
    "print(\"Min y:\",np.min(y))\n",
    "print(\"Max  y:\",np.max(y))\n",
    "print(\"Std y:\",np.std(y))\n",
    "print(\"Mean y:\",np.mean(y))"
   ]
  },
  {
   "cell_type": "code",
   "execution_count": 24,
   "metadata": {},
   "outputs": [],
   "source": [
    "#Veriyi eğitim ve test olarak böl\n",
    "X_train,X_test,y_train,y_test=train_test_split(X,y,test_size=0.2,random_state=31)\n",
    "#Özellileri ölceklendirme(scaling)\n",
    "scaler=StandardScaler()\n",
    "X_train_scaled=scaler.fit_transform(X_train)\n",
    "X_test_scaled=scaler.transform(X_test)"
   ]
  },
  {
   "cell_type": "markdown",
   "metadata": {},
   "source": [
    "### ----- Örnek 1-)Random Forest Regressor ----"
   ]
  },
  {
   "cell_type": "code",
   "execution_count": 39,
   "metadata": {},
   "outputs": [
    {
     "name": "stdout",
     "output_type": "stream",
     "text": [
      "MSE : 0.2591044361296861\n",
      "RMSE : 0.5090230212177894\n",
      "MAE : 0.33042886237887614\n",
      "R2_Score : 0.8025485781030028\n",
      "En önemli 5 özellik\n"
     ]
    },
    {
     "data": {
      "text/html": [
       "<div>\n",
       "<style scoped>\n",
       "    .dataframe tbody tr th:only-of-type {\n",
       "        vertical-align: middle;\n",
       "    }\n",
       "\n",
       "    .dataframe tbody tr th {\n",
       "        vertical-align: top;\n",
       "    }\n",
       "\n",
       "    .dataframe thead th {\n",
       "        text-align: right;\n",
       "    }\n",
       "</style>\n",
       "<table border=\"1\" class=\"dataframe\">\n",
       "  <thead>\n",
       "    <tr style=\"text-align: right;\">\n",
       "      <th></th>\n",
       "      <th>Feature</th>\n",
       "      <th>Importance</th>\n",
       "    </tr>\n",
       "  </thead>\n",
       "  <tbody>\n",
       "    <tr>\n",
       "      <th>0</th>\n",
       "      <td>MedInc</td>\n",
       "      <td>0.522559</td>\n",
       "    </tr>\n",
       "    <tr>\n",
       "      <th>5</th>\n",
       "      <td>AveOccup</td>\n",
       "      <td>0.136851</td>\n",
       "    </tr>\n",
       "    <tr>\n",
       "      <th>7</th>\n",
       "      <td>Longitude</td>\n",
       "      <td>0.088541</td>\n",
       "    </tr>\n",
       "    <tr>\n",
       "      <th>6</th>\n",
       "      <td>Latitude</td>\n",
       "      <td>0.087652</td>\n",
       "    </tr>\n",
       "    <tr>\n",
       "      <th>1</th>\n",
       "      <td>HouseAge</td>\n",
       "      <td>0.054186</td>\n",
       "    </tr>\n",
       "  </tbody>\n",
       "</table>\n",
       "</div>"
      ],
      "text/plain": [
       "     Feature  Importance\n",
       "0     MedInc    0.522559\n",
       "5   AveOccup    0.136851\n",
       "7  Longitude    0.088541\n",
       "6   Latitude    0.087652\n",
       "1   HouseAge    0.054186"
      ]
     },
     "execution_count": 39,
     "metadata": {},
     "output_type": "execute_result"
    }
   ],
   "source": [
    "rf_reg=RandomForestRegressor(n_estimators=100,random_state=31)\n",
    "rf_reg.fit(X_train_scaled,y_train)\n",
    "y_pred_rf=rf_reg.predict(X_test_scaled)\n",
    "print(\"MSE :\",mean_squared_error(y_test,y_pred_rf))\n",
    "print(\"RMSE :\",np.sqrt(mean_squared_error(y_test,y_pred_rf)))\n",
    "print(\"MAE :\",mean_absolute_error(y_test,y_pred_rf))\n",
    "print(\"R2_Score :\",r2_score(y_test,y_pred_rf))\n",
    "\n",
    "#Özellik Önemlerini Görselleştir\n",
    "feature_importance=pd.DataFrame({\"Feature\":X.columns,\n",
    "                                 \"Importance\":rf_reg.feature_importances_}).sort_values(\"Importance\",ascending=False)\n",
    "print(\"En önemli 5 özellik\")\n",
    "feature_importance.head(5)"
   ]
  },
  {
   "cell_type": "markdown",
   "metadata": {},
   "source": [
    "### ----- Örnek 2-)Gradient Boosting Regressor -----"
   ]
  },
  {
   "cell_type": "code",
   "execution_count": 46,
   "metadata": {},
   "outputs": [
    {
     "name": "stdout",
     "output_type": "stream",
     "text": [
      "MSE : 0.2881242745550127\n",
      "RMSE : 0.5367720880923418\n",
      "MAE : 0.36937518155171867\n",
      "R2_Score : 0.780433910959929\n"
     ]
    }
   ],
   "source": [
    "gb_reg=GradientBoostingRegressor(n_estimators=100,learning_rate=0.1,random_state=31)\n",
    "gb_reg.fit(X_train_scaled,y_train)\n",
    "y_pred_gb=gb_reg.predict(X_test_scaled)\n",
    "print(\"MSE :\",mean_squared_error(y_test,y_pred_gb))\n",
    "print(\"RMSE :\",np.sqrt(mean_squared_error(y_test,y_pred_gb)))\n",
    "print(\"MAE :\",mean_absolute_error(y_test,y_pred_gb))\n",
    "print(\"R2_Score :\",r2_score(y_test,y_pred_gb))"
   ]
  },
  {
   "cell_type": "markdown",
   "metadata": {},
   "source": [
    "### ----- Örnek 3-)Voting Regressor -----"
   ]
  },
  {
   "cell_type": "code",
   "execution_count": null,
   "metadata": {},
   "outputs": [
    {
     "name": "stdout",
     "output_type": "stream",
     "text": [
      "MSE : 0.2998539292592458\n",
      "RMSE : 0.5475891975370276\n",
      "MAE : 0.37880365811775996\n",
      "R2_Score : 0.7714952874677692\n"
     ]
    }
   ],
   "source": [
    "#Farklı regresyon modelleri oluştur\n",
    "lr=LinearRegression()\n",
    "rf=RandomForestRegressor(n_estimators=100,random_state=31)\n",
    "gbr=GradientBoostingRegressor(n_estimators=100,random_state=31)\n",
    "#Voting Regressor oluştur\n",
    "voting_reg=VotingRegressor([\n",
    "    (\"lr\",lr),\n",
    "    (\"rf\",rf),\n",
    "    (\"gbr\",gbr)\n",
    "])\n",
    "voting_reg.fit(X_train_scaled,y_train)\n",
    "y_pred_voting=voting_reg.predict(X_test_scaled)\n",
    "print(\"MSE :\",mean_squared_error(y_test,y_pred_voting))\n",
    "print(\"RMSE :\",np.sqrt(mean_squared_error(y_test,y_pred_voting)))\n",
    "print(\"MAE :\",mean_absolute_error(y_test,y_pred_voting))\n",
    "print(\"R2_Score :\",r2_score(y_test,y_pred_voting))\n"
   ]
  },
  {
   "cell_type": "markdown",
   "metadata": {},
   "source": [
    "### ----- Örnek 4-) Stacking Regressor ----\n"
   ]
  },
  {
   "cell_type": "code",
   "execution_count": 49,
   "metadata": {},
   "outputs": [
    {
     "name": "stdout",
     "output_type": "stream",
     "text": [
      "MSE : 0.25509818815503393\n",
      "RMSE : 0.5050724583216095\n",
      "MAE : 0.33038646010080236\n",
      "R2_Score : 0.8056015530766584\n"
     ]
    }
   ],
   "source": [
    "#Base estimatorları belirle\n",
    "estimators=[(\"rf\",RandomForestRegressor(n_estimators=100,random_state=31)),\n",
    "            (\"gbr\",GradientBoostingRegressor(n_estimators=100,random_state=31)),\n",
    "            (\"svr\",SVR(kernel=\"rbf\"))]\n",
    "# Stacking Regressor oluştur\n",
    "stacking_reg=StackingRegressor(estimators=estimators,\n",
    "                               final_estimator=Ridge(random_state=31))\n",
    "\n",
    "stacking_reg.fit(X_train_scaled,y_train)\n",
    "y_pred_stacking=stacking_reg.predict(X_test_scaled)\n",
    "print(\"MSE :\",mean_squared_error(y_test,y_pred_stacking))\n",
    "print(\"RMSE :\",np.sqrt(mean_squared_error(y_test,y_pred_stacking)))\n",
    "print(\"MAE :\",mean_absolute_error(y_test,y_pred_stacking))\n",
    "print(\"R2_Score :\",r2_score(y_test,y_pred_stacking))"
   ]
  },
  {
   "cell_type": "markdown",
   "metadata": {},
   "source": [
    "### ----- Örnek 5-) AdaBoost Regressor -----"
   ]
  },
  {
   "cell_type": "code",
   "execution_count": 51,
   "metadata": {},
   "outputs": [
    {
     "name": "stdout",
     "output_type": "stream",
     "text": [
      "MSE : 0.4771205088858854\n",
      "RMSE : 0.6907391033421268\n",
      "MAE : 0.5482875564570011\n",
      "R2_Score : 0.6364086840698313\n"
     ]
    }
   ],
   "source": [
    "ada_reg=AdaBoostRegressor(DecisionTreeRegressor(max_depth=4),\n",
    "                          n_estimators=100,\n",
    "                          learning_rate=0.1,\n",
    "                          random_state=31)\n",
    "\n",
    "ada_reg.fit(X_train_scaled,y_train)\n",
    "y_pred_ada=ada_reg.predict(X_test_scaled)\n",
    "print(\"MSE :\",mean_squared_error(y_test,y_pred_ada))\n",
    "print(\"RMSE :\",np.sqrt(mean_squared_error(y_test,y_pred_ada)))\n",
    "print(\"MAE :\",mean_absolute_error(y_test,y_pred_ada))\n",
    "print(\"R2_Score :\",r2_score(y_test,y_pred_ada))"
   ]
  },
  {
   "cell_type": "code",
   "execution_count": null,
   "metadata": {},
   "outputs": [],
   "source": []
  }
 ],
 "metadata": {
  "kernelspec": {
   "display_name": "Python 3",
   "language": "python",
   "name": "python3"
  },
  "language_info": {
   "codemirror_mode": {
    "name": "ipython",
    "version": 3
   },
   "file_extension": ".py",
   "mimetype": "text/x-python",
   "name": "python",
   "nbconvert_exporter": "python",
   "pygments_lexer": "ipython3",
   "version": "3.13.2"
  }
 },
 "nbformat": 4,
 "nbformat_minor": 2
}
