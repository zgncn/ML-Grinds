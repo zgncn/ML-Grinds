{
 "cells": [
  {
   "cell_type": "markdown",
   "metadata": {},
   "source": [
    "# Cross Validation Nedir\n",
    "\n",
    "** Cross validation amacı modelin genelleme performansını tahmin etmektir.Veriyi defalarca farklı şekillerde bölüp modelin başarısını tekrar tekrar test eder\n",
    "\n",
    "\n",
    "* 1-Veriyi birden fazla defa eğitim ve test setlerine böleriz\n",
    "* 2-Her bölmede model eğitilir\n",
    "* 3-Her test seti için hata hesaplanır(mse gibi)\n",
    "* 4-Ortalama hata hesaplanır\n",
    "\n",
    "** Parametredeki shuffle=True olduğunda\n",
    "\n",
    "* Veriler rastgele karışır sonra K parçaya bölünür\n",
    "* Bu sayede her fold daha rastgele ve çeşitli örnekler içerir\n",
    "* Veride belirli bir sıralama varsa çok önemlidir"
   ]
  },
  {
   "cell_type": "markdown",
   "metadata": {},
   "source": [
    "## K-Fold Cross Validation\n",
    "\n",
    "* Veri K parçaya bölünür.Her bir parça bir kez test verisi olur, geri kalan K-1 parça eğitim için kullanılır\n",
    "* Avantajı veriyi daha verimli kullanır ve genelleme hatasını daha güvenilir ölçer\n",
    "\n",
    "* Dezavantajı veri dengesizse bazı foldlarda sınıf dağılımı bozulabilir"
   ]
  },
  {
   "cell_type": "code",
   "execution_count": 1,
   "metadata": {},
   "outputs": [],
   "source": [
    "#Örnek kullanım\n",
    "from sklearn.model_selection import KFold\n",
    "kf=KFold(n_splits=5,shuffle=True,random_state=31)"
   ]
  },
  {
   "cell_type": "markdown",
   "metadata": {},
   "source": [
    "## Stratified(katmanlı) K-Fold Cross Validation\n",
    "* Kfoldun sınıf dengesini koruyan versiyonudur.Her fold orijinal veri kümesindeki sınıf oranlarını yansıtır\n",
    "* Sınıflar dengesiz ise kullanılır(örn %90 class A,yüzde 10 class B)"
   ]
  },
  {
   "cell_type": "code",
   "execution_count": null,
   "metadata": {},
   "outputs": [],
   "source": [
    "#Örnek kullanım\n",
    "from sklearn.model_selection import StratifiedKFold\n",
    "skf=StratifiedKFold(n_splits=5,shuffle=True,random_state=31)"
   ]
  },
  {
   "cell_type": "markdown",
   "metadata": {},
   "source": [
    "## Leave-One-Out Cross Validation(LOOCV)\n",
    "\n",
    "* Verideki her örnek sırayla test verisi olur.Yani N örnek var ise N kez model eğitilir\n",
    "* Az veri varsa işe yarar\n",
    "* Çok yavaştır büyük veri setlerinde pratik değildir kullanmak"
   ]
  },
  {
   "cell_type": "code",
   "execution_count": 2,
   "metadata": {},
   "outputs": [],
   "source": [
    "#Örnek kullanım\n",
    "from sklearn.model_selection import LeaveOneOut\n",
    "loo=LeaveOneOut()"
   ]
  },
  {
   "cell_type": "markdown",
   "metadata": {},
   "source": [
    "## Leave-P-Out Cross Validation(LPOCV)\n",
    "* LOO'nun genelleştirilmiş verisyonudur.Her test seti p örnek içerir.Tüm olası kombinasyonlar denenir\n",
    "* (n/p) adet kombinasyon oluşur\n",
    "* Kombinasyon sayısı çok fazla olacağı için NEREDEYSE HİÇ KULLANILMAZ"
   ]
  },
  {
   "cell_type": "markdown",
   "metadata": {},
   "source": [
    "## Repeated K-Fold\n",
    "* K-Fold işlemi birden fazla kez farklı shufflarla tekrarlanır.Böylece sonuçlar daha kararlı hale gelir ve rastgeleliğin etkisi azalır"
   ]
  },
  {
   "cell_type": "code",
   "execution_count": 3,
   "metadata": {},
   "outputs": [],
   "source": [
    "#Örnek kullanım\n",
    "from sklearn.model_selection import RepeatedKFold\n",
    "rkf=RepeatedKFold(n_splits=5,n_repeats=10,random_state=31)"
   ]
  },
  {
   "cell_type": "markdown",
   "metadata": {},
   "source": [
    "## TimeSeriesSplit(Zaman Serileri İçin)\n",
    "* Zaman sıralı verilerde geçmiş verilerle eğitiliğ gelecekle test yapılır.Shuffle yapılmaz.Foldlar zamansal olarak ilerle\n",
    "* Avantajı-->Gerçekci zaman tabanlı tahmin senaryoları\n",
    "* Dezavantajı-->Eğitim seti küçükkken hata yüksek olabilir"
   ]
  },
  {
   "cell_type": "code",
   "execution_count": 5,
   "metadata": {},
   "outputs": [],
   "source": [
    "#Örnek kullanım\n",
    "from sklearn.model_selection import TimeSeriesSplit\n",
    "tss=TimeSeriesSplit(n_splits=5)"
   ]
  },
  {
   "cell_type": "markdown",
   "metadata": {},
   "source": [
    "### Hangi CV yöntemi ne zaman kullanılır\n",
    "\n",
    "* KFOLD--> genel amaçlı,dengeli veri setlerinde\n",
    "* Stratified KFOLD--> Sınıflar dengesizse\n",
    "* LOOCV--> Az veri varsa,yüksek doğruluk isteniyorsa\n",
    "* Repeated KFOLD--> Sonuçları daha kararlı hale getirmek istiyorsak\n",
    "* TimeSeriesSplit--> Zaman serileri ile çalışıyorsak"
   ]
  },
  {
   "cell_type": "markdown",
   "metadata": {},
   "source": [
    "# Örnek Uygulama"
   ]
  },
  {
   "cell_type": "code",
   "execution_count": 14,
   "metadata": {},
   "outputs": [],
   "source": [
    "import numpy as np\n",
    "from sklearn.datasets import make_classification\n",
    "from sklearn.ensemble import RandomForestClassifier\n",
    "from sklearn.model_selection import(KFold,StratifiedKFold,LeaveOneOut,\n",
    "                                    LeavePOut,RepeatedKFold,TimeSeriesSplit,\n",
    "                                    cross_val_score)"
   ]
  },
  {
   "cell_type": "code",
   "execution_count": 10,
   "metadata": {},
   "outputs": [],
   "source": [
    "random_state=31\n",
    "#yapay verileri üretme\n",
    "X,y=make_classification(n_samples=20,n_features=5,n_informative=3,\n",
    "                        n_redundant=0,n_classes=2,random_state=random_state)\n",
    "\n",
    "model=RandomForestClassifier(random_state=random_state)"
   ]
  },
  {
   "cell_type": "markdown",
   "metadata": {},
   "source": [
    "## 1-) KFOLD Cross Validation"
   ]
  },
  {
   "cell_type": "code",
   "execution_count": 13,
   "metadata": {},
   "outputs": [
    {
     "name": "stdout",
     "output_type": "stream",
     "text": [
      "K-Fold Accuracy [0.5 0.5 0.5 0.5 0.5]\n",
      "Ortalama Accuracy 0.5\n"
     ]
    }
   ],
   "source": [
    "kf=KFold(n_splits=5,shuffle=True,random_state=random_state)\n",
    "scores=cross_val_score(model,X,y,cv=kf)\n",
    "print(\"K-Fold Accuracy\",scores)\n",
    "print(\"Ortalama Accuracy\",scores.mean())"
   ]
  },
  {
   "cell_type": "markdown",
   "metadata": {},
   "source": [
    "## 2-) Stratified KFOLD Cross Validation"
   ]
  },
  {
   "cell_type": "code",
   "execution_count": 16,
   "metadata": {},
   "outputs": [
    {
     "name": "stdout",
     "output_type": "stream",
     "text": [
      "Stratified K-Fold Accuracy [1.   0.75 0.25 1.   0.5 ]\n",
      "Ortalama Accuracy 0.7\n"
     ]
    }
   ],
   "source": [
    "skf=StratifiedKFold(n_splits=5,random_state=random_state,shuffle=True)\n",
    "scores=cross_val_score(model,X,y,cv=skf)\n",
    "print(\"Stratified K-Fold Accuracy\",scores)\n",
    "print(\"Ortalama Accuracy\",scores.mean())"
   ]
  },
  {
   "cell_type": "markdown",
   "metadata": {},
   "source": [
    "## 3-) Leave-One-Out Cross Validation(LOOCV)"
   ]
  },
  {
   "cell_type": "code",
   "execution_count": 18,
   "metadata": {},
   "outputs": [
    {
     "name": "stdout",
     "output_type": "stream",
     "text": [
      "LOOCV Accuracy [0. 1. 1. 0. 0. 1. 0. 0. 1. 1. 0. 0. 1. 1. 1. 0. 1. 1. 0. 1.]\n",
      "Ortalama Accuracy 0.55\n"
     ]
    }
   ],
   "source": [
    "loo=LeaveOneOut() #20 örnek olduğu için 20 kez model eğitilecek\n",
    "scores=cross_val_score(model,X,y,cv=loo)\n",
    "\n",
    "print(\"LOOCV Accuracy\",scores)\n",
    "print(\"Ortalama Accuracy\",scores.mean())"
   ]
  },
  {
   "cell_type": "markdown",
   "metadata": {},
   "source": [
    "## 4-) Leave-P-Out Cross Validation(LPOCV)"
   ]
  },
  {
   "cell_type": "code",
   "execution_count": 19,
   "metadata": {},
   "outputs": [
    {
     "name": "stdout",
     "output_type": "stream",
     "text": [
      "LPOCV Accuracy [0.5 0.5 0.  0.5 0.5 0.  0.5 0.5 0.5 0.  0.  0.  0.5 0.5 0.  0.5 0.5 0.\n",
      " 0.5 1.  0.5 0.5 1.  0.5 1.  1.  1.  0.5 0.5 0.5 1.  1.  0.5 0.5 1.  0.5\n",
      " 1.  0.5 1.  1.  0.5 1.  1.  1.  0.5 0.5 1.  1.  0.5 0.5 1.  0.  0.5 1.\n",
      " 0.  0.  0.  0.5 0.5 0.5 0.  0.  0.5 0.5 0.5 0.  0.5 0.5 0.  0.5 0.  0.\n",
      " 0.5 1.  0.5 0.  0.5 1.  1.  1.  0.5 1.  1.  0.5 0.5 0.5 1.  1.  0.5 0.5\n",
      " 0.5 1.  1.  1.  0.5 1.  0.  0.5 1.  0.5 0.5 0.5 0.  0.5 0.  0.5 0.5 0.\n",
      " 0.5 0.5 0.  0.5 1.  1.  0.  0.5 1.  0.5 1.  0.5 1.  1.  0.  0.  1.  0.5\n",
      " 0.5 1.  1.  1.  0.5 1.  1.  0.5 1.  0.5 0.5 1.  1.  1.  0.5 1.  1.  0.5\n",
      " 1.  0.  0.5 0.5 0.5 0.  0.5 0.5 0.  0.5 0.5 0.5 0.5 0.  0.5 0.5 0.  0.5\n",
      " 1.  0.5 0.5 0.5 1.  0.5 1.  1.  0.5 1.  1.  0.5 0.5 0.5 1.  1.  1.  1.\n",
      " 0.5 0.5 0.  0.5 1.  0.5 1.  1.  1.  0.5]\n",
      "Ortalama Accuracy 0.5842105263157895\n"
     ]
    }
   ],
   "source": [
    "lpo=LeavePOut(p=2) #20*19 / 2 tane kombinasyon olcak yani 190 tane\n",
    "scores=cross_val_score(model,X,y,cv=lpo)\n",
    "\n",
    "print(\"LPOCV Accuracy\",scores)\n",
    "print(\"Ortalama Accuracy\",scores.mean())"
   ]
  },
  {
   "cell_type": "markdown",
   "metadata": {},
   "source": [
    "## 5-) Repeated KFOLD Cross Validation"
   ]
  },
  {
   "cell_type": "code",
   "execution_count": 22,
   "metadata": {},
   "outputs": [
    {
     "name": "stdout",
     "output_type": "stream",
     "text": [
      "Repeated K-Fold Accuracy [0.5  0.5  0.5  0.5  0.5  0.75 0.5  0.75 0.5  0.5  0.5  0.25 0.75 0.75\n",
      " 0.25]\n",
      "Ortalama Accuracy 0.5333333333333333\n"
     ]
    }
   ],
   "source": [
    "rkf=RepeatedKFold(n_splits=5,n_repeats=3,random_state=random_state)\n",
    "scores=cross_val_score(model,X,y,cv=rkf)\n",
    "\n",
    "print(\"Repeated K-Fold Accuracy\",scores)\n",
    "print(\"Ortalama Accuracy\",scores.mean())"
   ]
  },
  {
   "cell_type": "markdown",
   "metadata": {},
   "source": [
    "## 6-) TimeSeriesSplit"
   ]
  },
  {
   "cell_type": "code",
   "execution_count": 23,
   "metadata": {},
   "outputs": [
    {
     "name": "stdout",
     "output_type": "stream",
     "text": [
      "TimeSeriesSplit Accuracy [0.66666667 0.33333333 0.66666667 0.66666667 1.        ]\n",
      "Ortalama Accuracy 0.6666666666666666\n"
     ]
    }
   ],
   "source": [
    "tscv=TimeSeriesSplit(n_splits=5)\n",
    "scores=cross_val_score(model,X,y,cv=tscv)\n",
    "\n",
    "print(\"TimeSeriesSplit Accuracy\",scores)\n",
    "print(\"Ortalama Accuracy\",scores.mean())"
   ]
  },
  {
   "cell_type": "code",
   "execution_count": null,
   "metadata": {},
   "outputs": [],
   "source": []
  }
 ],
 "metadata": {
  "kernelspec": {
   "display_name": "Python 3",
   "language": "python",
   "name": "python3"
  },
  "language_info": {
   "codemirror_mode": {
    "name": "ipython",
    "version": 3
   },
   "file_extension": ".py",
   "mimetype": "text/x-python",
   "name": "python",
   "nbconvert_exporter": "python",
   "pygments_lexer": "ipython3",
   "version": "3.13.2"
  }
 },
 "nbformat": 4,
 "nbformat_minor": 2
}
