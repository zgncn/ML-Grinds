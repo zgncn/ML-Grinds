{
 "cells": [
  {
   "cell_type": "markdown",
   "metadata": {},
   "source": [
    "# Örnekleme(Sampling) Yöntemleri ve Çeşitleri\n",
    "\n",
    "### Örnekleme (Sampling) Nedir?\n",
    "\n",
    "** Örnekleme bir ana kütleden(population) daha küçük bir alt küme (sample) seçme işlemidir.Amaç ana kütlenin temel özelliklerini yansıtan ve ondan çıkarımlar yapabileceğimiz temsili bir örnek elde etmektir.Bu yöntem özellikle\n",
    "\n",
    "* Büyük veri kümeleriyle çalışırken hesaplama maliyetini azaltır\n",
    "* Veri toplama maliyetini ve zamanını azaltır\n",
    "* Tüm populasyona ulaşmanın imkansız olduğu durumlarda kullanılır"
   ]
  },
  {
   "cell_type": "markdown",
   "metadata": {},
   "source": [
    "## Temel Örnekleme Yöntemleri\n",
    "\n",
    "### 1-) Basit Rastgele Örnekleme(Simple Random Sampling):\n",
    "\n",
    "** Özellikler\n",
    "\n",
    "* Her birime eşit seçilme şansı verilir\n",
    "* Seçim süreci tamamen rastgeledir\n",
    "* İstatistiksel analiz için en temek yöntemdir\n",
    "\n",
    "** Örnek\n",
    "\n",
    "* Bir okulda 1000 öğrenci varsa ve 100 öğrencilik bir anket çalışması yapacaksak tüm öğrencileri numaralandırıp rastgele sayı üretici kullanarak 100 öğrenci seçebiliriz\n",
    "\n",
    "** Avantajları\n",
    "\n",
    "* Uygulaması kolaydır\n",
    "* Önyargı(bias) riski küçüktür\n",
    "* Temsil gücü yüksektir\n",
    "\n",
    "** Dezavantajları\n",
    "\n",
    "* Farklı alt gruplar yeterince temsik edilmeyebilir\n",
    "* Fiziksel olarak dağınık veri kaynaklarından örnekleme yapmak zor olaiblir"
   ]
  },
  {
   "cell_type": "markdown",
   "metadata": {},
   "source": [
    "## 2-)Tabakalı Örnekleme (Strafied Sampling)\n",
    "\n",
    "Ana kütle, belirli özelliklere göre farklı tabaka veya gruplara ayrılır ve her tabakadan ayrı ayrı rastgele örnekelr alınır\n",
    "\n",
    "** Özellikler\n",
    "\n",
    "* Ana kütle önce homojen alt gruplara(tabakalara) ayrılır\n",
    "* Her tabakadan örnekler seçilir(orantılı veya orantısız)\n",
    "* Her alt grup için belirli bir örnekleme oranı kullanılabilir\n",
    "\n",
    "** Örnek\n",
    "\n",
    "* Bir müşteri memnuniyeti araştırması yaparken , müşterileri yaş gruplarına(18-25,26-40,41-65) göre ayırıp, her gruptan temsili sayıda kişi seçebiliriz\n",
    "\n",
    "** Avantajları\n",
    "\n",
    "* Her alt grup temsil edilir\n",
    "* Daha düşük örnekleme hatası\n",
    "* Heterojen populasyonlarda daha doğru sonuç verir\n",
    "\n",
    "** Dezavantajları\n",
    "\n",
    "* Uygulama ve anakiz daha karmaşıktır\n",
    "* Tabakaların doğru belirlenmesi gerekir\n"
   ]
  },
  {
   "cell_type": "markdown",
   "metadata": {},
   "source": [
    "## 3-)Küme Örnekleme(Cluster Sampling)\n",
    "\n",
    "Ana kütle önce kümelere ayrılır daha sonra rastgele seçilen kümelerin tüm birimleri örnekleme dahil edilir\n",
    "\n",
    "** Özellikler\n",
    "\n",
    "* Ana kütle doğal kümelere ayrılır(örn--> mahalleler, sınıflar,şehirler)\n",
    "* Rastgele kümeler seçilir\n",
    "* Seçilen kümelerdeki tüm birimler örnekleme dahil edilir\n",
    "\n",
    "** Örnek\n",
    "\n",
    "Bir ülkedeki vatandaşların sağlık durumunu araştırmak için rastgele 20 şehir seçip bu şehirlerdeki tüm kişileri örneklemimize dahil edebiliriz\n",
    "\n",
    "** Avantajları\n",
    "\n",
    "* Geniş coğrafi alanlarda uygulanması kolaydır\n",
    "* Zaman ve maliyet tasarrufu sağlar\n",
    "* Örnekleme çercevesi (sampling frame) gerektirmez\n",
    "\n",
    "** Dezavantajları\n",
    "\n",
    "* Örnekleme hatası yüksek olabilir\n",
    "* Kümeler arası varyasyon yüksekse temsil gücü düşebilir"
   ]
  },
  {
   "cell_type": "markdown",
   "metadata": {},
   "source": [
    "# E-Ticaret Platformu Müşteri Analizi Projesi"
   ]
  },
  {
   "cell_type": "markdown",
   "metadata": {},
   "source": [
    "## Aşama 1:Basit Rastgele Örnekleme\n",
    "\n",
    "** Senaryo--> Platformun genel kullanıcı davranışı hakkında fikir edinmek istiyoruz\n",
    "\n",
    "** Uygulama\n",
    "\n",
    "* 2 milyon kullanıcıdan 10 bin kullanıcı seç\n",
    "* Bu kullanıcıların davranış verilerini topla ve analiz et\n",
    "* Böylece genel kullanıcı eğilimlerini anlayabiliriz"
   ]
  },
  {
   "cell_type": "code",
   "execution_count": 87,
   "metadata": {},
   "outputs": [
    {
     "name": "stdout",
     "output_type": "stream",
     "text": [
      "Basit rastgele örnekleme boyutu :10000\n"
     ]
    },
    {
     "data": {
      "text/html": [
       "<div>\n",
       "<style scoped>\n",
       "    .dataframe tbody tr th:only-of-type {\n",
       "        vertical-align: middle;\n",
       "    }\n",
       "\n",
       "    .dataframe tbody tr th {\n",
       "        vertical-align: top;\n",
       "    }\n",
       "\n",
       "    .dataframe thead th {\n",
       "        text-align: right;\n",
       "    }\n",
       "</style>\n",
       "<table border=\"1\" class=\"dataframe\">\n",
       "  <thead>\n",
       "    <tr style=\"text-align: right;\">\n",
       "      <th></th>\n",
       "      <th>user_id</th>\n",
       "      <th>age</th>\n",
       "      <th>gender</th>\n",
       "      <th>purchase_frequency</th>\n",
       "      <th>avg_order_value</th>\n",
       "    </tr>\n",
       "  </thead>\n",
       "  <tbody>\n",
       "    <tr>\n",
       "      <th>476414</th>\n",
       "      <td>476415</td>\n",
       "      <td>56</td>\n",
       "      <td>M</td>\n",
       "      <td>0.064827</td>\n",
       "      <td>85.836203</td>\n",
       "    </tr>\n",
       "    <tr>\n",
       "      <th>1121950</th>\n",
       "      <td>1121951</td>\n",
       "      <td>26</td>\n",
       "      <td>M</td>\n",
       "      <td>3.541081</td>\n",
       "      <td>70.245475</td>\n",
       "    </tr>\n",
       "    <tr>\n",
       "      <th>698441</th>\n",
       "      <td>698442</td>\n",
       "      <td>55</td>\n",
       "      <td>M</td>\n",
       "      <td>0.747142</td>\n",
       "      <td>61.717742</td>\n",
       "    </tr>\n",
       "  </tbody>\n",
       "</table>\n",
       "</div>"
      ],
      "text/plain": [
       "         user_id  age gender  purchase_frequency  avg_order_value\n",
       "476414    476415   56      M            0.064827        85.836203\n",
       "1121950  1121951   26      M            3.541081        70.245475\n",
       "698441    698442   55      M            0.747142        61.717742"
      ]
     },
     "execution_count": 87,
     "metadata": {},
     "output_type": "execute_result"
    }
   ],
   "source": [
    "import numpy as np\n",
    "import pandas as pd\n",
    "import warnings\n",
    "warnings.filterwarnings(\"ignore\")\n",
    "\n",
    "#Tüm kullanıcı veritabanını temsil eden DataFrame\n",
    "users_df=pd.DataFrame({\"user_id\":range(1,2000001),\n",
    "                       \"age\":np.random.randint(18,80,size=2000000),\n",
    "                       \"gender\":np.random.choice([\"M\",\"F\"],size=2000000),\n",
    "                       \"purchase_frequency\":np.random.exponential(scale=2.5,size=2000000),\n",
    "                       \"avg_order_value\":np.random.normal(loc=50,scale=20,size=2000000)})\n",
    "\n",
    "#Basit Rastgele Örnekleme\n",
    "simple_random_sample=users_df.sample(n=10000,random_state=31)\n",
    "print(f\"Basit rastgele örnekleme boyutu :{len(simple_random_sample)}\")\n",
    "simple_random_sample.head(3)"
   ]
  },
  {
   "cell_type": "markdown",
   "metadata": {},
   "source": [
    "## Aşama 2:Tabakalı Örnekleme\n",
    "\n",
    "** Senaryo:Farklı yaş gruplarının satın alma davranışları arasındaki farklılıkları incelemek istiyoruz\n",
    "\n",
    "** Uygulama-->Kullanıcıları yaş gruplarına göre tabakalara ayırıyoruz\n",
    "\n",
    "* 18-25 yaş:500.000 kullanıcı\n",
    "* 26-35 yaş:700.000 kullanıcı\n",
    "* 36-50 yaş:500.000 kullanıcı\n",
    "* 51+ yaş:300.000 kullanıcı\n",
    "\n",
    "** Her tabakadan orantılı şekilde örneklem alıyoruz\n",
    "** Bu sayede her yaş grubunun temsil edildiğinden emin oluyoruz"
   ]
  },
  {
   "cell_type": "code",
   "execution_count": 88,
   "metadata": {},
   "outputs": [
    {
     "data": {
      "text/plain": [
       "0    18-25\n",
       "1      51+\n",
       "2    18-25\n",
       "Name: age_group, dtype: category\n",
       "Categories (4, object): ['18-25' < '26-35' < '36-50' < '51+']"
      ]
     },
     "execution_count": 88,
     "metadata": {},
     "output_type": "execute_result"
    }
   ],
   "source": [
    "# Yaş gruplarına göre tabakalar oluştur\n",
    "users_df[\"age_group\"]=pd.cut(users_df[\"age\"],bins=[17,25,35,50,80]\n",
    "                             ,labels=[\"18-25\",\"26-35\",\"36-50\",\"51+\"])\n",
    "users_df[\"age_group\"].head(3)"
   ]
  },
  {
   "cell_type": "code",
   "execution_count": 89,
   "metadata": {},
   "outputs": [
    {
     "name": "stdout",
     "output_type": "stream",
     "text": [
      "Tabakalı örnekleme boyutu: 9998\n",
      "age_group\n",
      "18-25    1294\n",
      "26-35    1616\n",
      "36-50    2418\n",
      "51+      4670\n",
      "dtype: int64\n"
     ]
    }
   ],
   "source": [
    "#Her tabakadan orantılı örnekleme\n",
    "stratified_sample=users_df.groupby(\"age_group\",group_keys=False).apply(\n",
    "    lambda x:x.sample(int(10000 * len(x) / len(users_df)),random_state=31)\n",
    ")\n",
    "print(f\"Tabakalı örnekleme boyutu: {len(stratified_sample)}\")\n",
    "print(stratified_sample.groupby(\"age_group\").size())"
   ]
  },
  {
   "cell_type": "markdown",
   "metadata": {},
   "source": [
    "## Aşama 3:Küme Örnekleme\n",
    "\n",
    "** Senaryo-->Farklı coğrafi bölgelerdeki kullanıc davranışlarını incelemek istiyoruz\n",
    "\n",
    "** Uygulama\n",
    "\n",
    "* Kullanıcıları coğrafi bölgelere(kümeler) göre ayırıyoruz.(örneğin 30 farklı şehir)\n",
    "* Rastgele 10 şehir seçiyoruz\n",
    "* Bu şehirlerdeki tüm kullanıcıları örneklemimize dahil ediyoruz"
   ]
  },
  {
   "cell_type": "code",
   "execution_count": 90,
   "metadata": {},
   "outputs": [
    {
     "data": {
      "text/html": [
       "<div>\n",
       "<style scoped>\n",
       "    .dataframe tbody tr th:only-of-type {\n",
       "        vertical-align: middle;\n",
       "    }\n",
       "\n",
       "    .dataframe tbody tr th {\n",
       "        vertical-align: top;\n",
       "    }\n",
       "\n",
       "    .dataframe thead th {\n",
       "        text-align: right;\n",
       "    }\n",
       "</style>\n",
       "<table border=\"1\" class=\"dataframe\">\n",
       "  <thead>\n",
       "    <tr style=\"text-align: right;\">\n",
       "      <th></th>\n",
       "      <th>user_id</th>\n",
       "      <th>age</th>\n",
       "      <th>gender</th>\n",
       "      <th>purchase_frequency</th>\n",
       "      <th>avg_order_value</th>\n",
       "      <th>age_group</th>\n",
       "      <th>city</th>\n",
       "    </tr>\n",
       "  </thead>\n",
       "  <tbody>\n",
       "    <tr>\n",
       "      <th>0</th>\n",
       "      <td>1</td>\n",
       "      <td>19</td>\n",
       "      <td>M</td>\n",
       "      <td>0.857852</td>\n",
       "      <td>71.616448</td>\n",
       "      <td>18-25</td>\n",
       "      <td>City_13</td>\n",
       "    </tr>\n",
       "    <tr>\n",
       "      <th>1</th>\n",
       "      <td>2</td>\n",
       "      <td>61</td>\n",
       "      <td>F</td>\n",
       "      <td>1.541593</td>\n",
       "      <td>31.136006</td>\n",
       "      <td>51+</td>\n",
       "      <td>City_25</td>\n",
       "    </tr>\n",
       "  </tbody>\n",
       "</table>\n",
       "</div>"
      ],
      "text/plain": [
       "   user_id  age gender  purchase_frequency  avg_order_value age_group     city\n",
       "0        1   19      M            0.857852        71.616448     18-25  City_13\n",
       "1        2   61      F            1.541593        31.136006       51+  City_25"
      ]
     },
     "execution_count": 90,
     "metadata": {},
     "output_type": "execute_result"
    }
   ],
   "source": [
    "#Şehirleri temsil eden kümeler oluştur(50 şehir)\n",
    "cities=[f\"City_{i}\" for i in range(1,51)]\n",
    "users_df[\"city\"]=np.random.choice(cities,size=2000000)\n",
    "users_df.head(2)"
   ]
  },
  {
   "cell_type": "code",
   "execution_count": 91,
   "metadata": {},
   "outputs": [
    {
     "data": {
      "text/plain": [
       "10"
      ]
     },
     "execution_count": 91,
     "metadata": {},
     "output_type": "execute_result"
    }
   ],
   "source": [
    "#Rastgele 10 şehir seç\n",
    "selected_cities=np.random.choice(cities,size=10,replace=False)\n",
    "#Seçilen şehirlerdeki tüm kullanıcılar\n",
    "cluster_sample=users_df[users_df[\"city\"].isin(selected_cities)]\n",
    "len(cluster_sample[\"city\"].unique())"
   ]
  },
  {
   "cell_type": "code",
   "execution_count": 92,
   "metadata": {},
   "outputs": [
    {
     "name": "stdout",
     "output_type": "stream",
     "text": [
      "Küme örnekleme boyutu 399536\n",
      "----------------------------------------------------------------------------------------------------------------------------\n",
      "city\n",
      "City_29    40308\n",
      "City_15    40197\n",
      "City_20    40089\n",
      "City_41    40057\n",
      "City_45    40000\n",
      "City_27    39995\n",
      "City_30    39878\n",
      "City_23    39793\n",
      "City_21    39634\n",
      "City_13    39585\n",
      "Name: count, dtype: int64\n"
     ]
    }
   ],
   "source": [
    "print(f\"Küme örnekleme boyutu {len(cluster_sample) }\")\n",
    "print(\"----\"*31)\n",
    "print(cluster_sample[\"city\"].value_counts())"
   ]
  },
  {
   "cell_type": "markdown",
   "metadata": {},
   "source": [
    "## Karşılaştırmali Analiz \n",
    "\n",
    "Her 3 örnekleme yöntemiyle elde ettiğimiz örneklemleri karşılaştıralım"
   ]
  },
  {
   "cell_type": "code",
   "execution_count": 93,
   "metadata": {},
   "outputs": [
    {
     "name": "stdout",
     "output_type": "stream",
     "text": [
      "Gerçek ortalama sipariş değeri: 49.97\n",
      "Basit rastgele örnekleme tahmini: 49.83\n",
      "Tabakalı örnekleme tahmini: 49.97\n",
      "Küme örnekleme tahmini: 49.92\n"
     ]
    }
   ],
   "source": [
    "#Her örneklemi kullanarak ortalama sipariş değerlerini hesapla\n",
    "true_avg=users_df[\"avg_order_value\"].mean()\n",
    "simple_avg=simple_random_sample[\"avg_order_value\"].mean()\n",
    "strafied_avg=stratified_sample[\"avg_order_value\"].mean()\n",
    "cluster_avg=cluster_sample[\"avg_order_value\"].mean()\n",
    "\n",
    "print(f\"Gerçek ortalama sipariş değeri: {true_avg:.2f}\")\n",
    "print(f\"Basit rastgele örnekleme tahmini: {simple_avg:.2f}\")\n",
    "print(f\"Tabakalı örnekleme tahmini: {strafied_avg:.2f}\")\n",
    "print(f\"Küme örnekleme tahmini: {cluster_avg:.2f}\")"
   ]
  },
  {
   "cell_type": "markdown",
   "metadata": {},
   "source": [
    "## Bir Makine Öğremesi Modeli (en iyi örnekleme ile)\n",
    "\n",
    "Tabakalı örnekleme en iyi örnekleme yukarıda"
   ]
  },
  {
   "cell_type": "code",
   "execution_count": 94,
   "metadata": {},
   "outputs": [],
   "source": [
    "from sklearn.model_selection import train_test_split\n",
    "from sklearn.ensemble import RandomForestRegressor\n",
    "from sklearn.metrics import mean_squared_error\n"
   ]
  },
  {
   "cell_type": "code",
   "execution_count": 96,
   "metadata": {},
   "outputs": [
    {
     "data": {
      "text/html": [
       "<div>\n",
       "<style scoped>\n",
       "    .dataframe tbody tr th:only-of-type {\n",
       "        vertical-align: middle;\n",
       "    }\n",
       "\n",
       "    .dataframe tbody tr th {\n",
       "        vertical-align: top;\n",
       "    }\n",
       "\n",
       "    .dataframe thead th {\n",
       "        text-align: right;\n",
       "    }\n",
       "</style>\n",
       "<table border=\"1\" class=\"dataframe\">\n",
       "  <thead>\n",
       "    <tr style=\"text-align: right;\">\n",
       "      <th></th>\n",
       "      <th>user_id</th>\n",
       "      <th>age</th>\n",
       "      <th>gender</th>\n",
       "      <th>purchase_frequency</th>\n",
       "      <th>avg_order_value</th>\n",
       "      <th>age_group</th>\n",
       "    </tr>\n",
       "  </thead>\n",
       "  <tbody>\n",
       "    <tr>\n",
       "      <th>7284</th>\n",
       "      <td>7285</td>\n",
       "      <td>25</td>\n",
       "      <td>F</td>\n",
       "      <td>1.117848</td>\n",
       "      <td>19.999675</td>\n",
       "      <td>18-25</td>\n",
       "    </tr>\n",
       "    <tr>\n",
       "      <th>1494757</th>\n",
       "      <td>1494758</td>\n",
       "      <td>20</td>\n",
       "      <td>F</td>\n",
       "      <td>2.065141</td>\n",
       "      <td>30.182386</td>\n",
       "      <td>18-25</td>\n",
       "    </tr>\n",
       "    <tr>\n",
       "      <th>1511769</th>\n",
       "      <td>1511770</td>\n",
       "      <td>21</td>\n",
       "      <td>F</td>\n",
       "      <td>2.288853</td>\n",
       "      <td>54.139177</td>\n",
       "      <td>18-25</td>\n",
       "    </tr>\n",
       "  </tbody>\n",
       "</table>\n",
       "</div>"
      ],
      "text/plain": [
       "         user_id  age gender  purchase_frequency  avg_order_value age_group\n",
       "7284        7285   25      F            1.117848        19.999675     18-25\n",
       "1494757  1494758   20      F            2.065141        30.182386     18-25\n",
       "1511769  1511770   21      F            2.288853        54.139177     18-25"
      ]
     },
     "execution_count": 96,
     "metadata": {},
     "output_type": "execute_result"
    }
   ],
   "source": [
    "stratified_sample.head(3)"
   ]
  },
  {
   "cell_type": "code",
   "execution_count": 99,
   "metadata": {},
   "outputs": [
    {
     "name": "stdout",
     "output_type": "stream",
     "text": [
      "RMSE: 22.058851152374828\n"
     ]
    }
   ],
   "source": [
    "X=stratified_sample[[\"age\",\"purchase_frequency\"]]\n",
    "y=stratified_sample[\"avg_order_value\"]\n",
    "\n",
    "X_train,X_test,y_train,y_test=train_test_split(X,y,test_size=0.2,random_state=31)\n",
    "model=RandomForestRegressor(n_estimators=100,random_state=31)\n",
    "model.fit(X_train,y_train)\n",
    "y_pred=model.predict(X_test)\n",
    "mse=mean_squared_error(y_test,y_pred)\n",
    "print(f\"RMSE: {mse**(1/2)}\")"
   ]
  },
  {
   "cell_type": "code",
   "execution_count": 101,
   "metadata": {},
   "outputs": [
    {
     "data": {
      "text/plain": [
       "486.59291416262823"
      ]
     },
     "execution_count": 101,
     "metadata": {},
     "output_type": "execute_result"
    }
   ],
   "source": [
    "mse"
   ]
  },
  {
   "cell_type": "code",
   "execution_count": null,
   "metadata": {},
   "outputs": [],
   "source": []
  }
 ],
 "metadata": {
  "kernelspec": {
   "display_name": "Python 3",
   "language": "python",
   "name": "python3"
  },
  "language_info": {
   "codemirror_mode": {
    "name": "ipython",
    "version": 3
   },
   "file_extension": ".py",
   "mimetype": "text/x-python",
   "name": "python",
   "nbconvert_exporter": "python",
   "pygments_lexer": "ipython3",
   "version": "3.13.2"
  }
 },
 "nbformat": 4,
 "nbformat_minor": 2
}
