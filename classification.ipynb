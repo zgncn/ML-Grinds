{
 "cells": [
  {
   "cell_type": "markdown",
   "id": "06a590c2",
   "metadata": {},
   "source": [
    "# Classification"
   ]
  },
  {
   "cell_type": "markdown",
   "id": "4f940505",
   "metadata": {},
   "source": [
    "## MNIST\n",
    "\n",
    "* MNIST, ABD nufus burosunda çalışanlar ve lise öğrencileri tarafından elle yazılmış rakamların küçük görüntülerinden(70.000 adet) oluşan bir veri setidir\n",
    "* Her görüntü,temsil ettiği rakamla etiketlenmiştir.\n",
    "* Bu veri seti o kadar çok incelenmiştir ki,genellikle makine öğrenmesinin(machine learning) \"merhaba dünya\" örneği olarak adlandırılır\n",
    "* insanlar yeni bir sınıflandırma algoritması geliştirdiklerinde, bunun MNIST üzerinde nasıl bir performans göstereceğini merak ederler, ayrıca makine öğrenmesini öğrenen herkes bu veri setiyle çalışır\n",
    "* sklearn popüler veri setlerini indirmek için birkaç yardımcı fonksiyon(helper function) sağlar."
   ]
  },
  {
   "cell_type": "code",
   "execution_count": 1,
   "id": "501ed17e",
   "metadata": {},
   "outputs": [
    {
     "data": {
      "text/plain": [
       "{'data': array([[0, 0, 0, ..., 0, 0, 0],\n",
       "        [0, 0, 0, ..., 0, 0, 0],\n",
       "        [0, 0, 0, ..., 0, 0, 0],\n",
       "        ...,\n",
       "        [0, 0, 0, ..., 0, 0, 0],\n",
       "        [0, 0, 0, ..., 0, 0, 0],\n",
       "        [0, 0, 0, ..., 0, 0, 0]], shape=(70000, 784)),\n",
       " 'target': array(['5', '0', '4', ..., '4', '5', '6'], shape=(70000,), dtype=object),\n",
       " 'frame': None,\n",
       " 'categories': {'class': ['0', '1', '2', '3', '4', '5', '6', '7', '8', '9']},\n",
       " 'feature_names': ['pixel1',\n",
       "  'pixel2',\n",
       "  'pixel3',\n",
       "  'pixel4',\n",
       "  'pixel5',\n",
       "  'pixel6',\n",
       "  'pixel7',\n",
       "  'pixel8',\n",
       "  'pixel9',\n",
       "  'pixel10',\n",
       "  'pixel11',\n",
       "  'pixel12',\n",
       "  'pixel13',\n",
       "  'pixel14',\n",
       "  'pixel15',\n",
       "  'pixel16',\n",
       "  'pixel17',\n",
       "  'pixel18',\n",
       "  'pixel19',\n",
       "  'pixel20',\n",
       "  'pixel21',\n",
       "  'pixel22',\n",
       "  'pixel23',\n",
       "  'pixel24',\n",
       "  'pixel25',\n",
       "  'pixel26',\n",
       "  'pixel27',\n",
       "  'pixel28',\n",
       "  'pixel29',\n",
       "  'pixel30',\n",
       "  'pixel31',\n",
       "  'pixel32',\n",
       "  'pixel33',\n",
       "  'pixel34',\n",
       "  'pixel35',\n",
       "  'pixel36',\n",
       "  'pixel37',\n",
       "  'pixel38',\n",
       "  'pixel39',\n",
       "  'pixel40',\n",
       "  'pixel41',\n",
       "  'pixel42',\n",
       "  'pixel43',\n",
       "  'pixel44',\n",
       "  'pixel45',\n",
       "  'pixel46',\n",
       "  'pixel47',\n",
       "  'pixel48',\n",
       "  'pixel49',\n",
       "  'pixel50',\n",
       "  'pixel51',\n",
       "  'pixel52',\n",
       "  'pixel53',\n",
       "  'pixel54',\n",
       "  'pixel55',\n",
       "  'pixel56',\n",
       "  'pixel57',\n",
       "  'pixel58',\n",
       "  'pixel59',\n",
       "  'pixel60',\n",
       "  'pixel61',\n",
       "  'pixel62',\n",
       "  'pixel63',\n",
       "  'pixel64',\n",
       "  'pixel65',\n",
       "  'pixel66',\n",
       "  'pixel67',\n",
       "  'pixel68',\n",
       "  'pixel69',\n",
       "  'pixel70',\n",
       "  'pixel71',\n",
       "  'pixel72',\n",
       "  'pixel73',\n",
       "  'pixel74',\n",
       "  'pixel75',\n",
       "  'pixel76',\n",
       "  'pixel77',\n",
       "  'pixel78',\n",
       "  'pixel79',\n",
       "  'pixel80',\n",
       "  'pixel81',\n",
       "  'pixel82',\n",
       "  'pixel83',\n",
       "  'pixel84',\n",
       "  'pixel85',\n",
       "  'pixel86',\n",
       "  'pixel87',\n",
       "  'pixel88',\n",
       "  'pixel89',\n",
       "  'pixel90',\n",
       "  'pixel91',\n",
       "  'pixel92',\n",
       "  'pixel93',\n",
       "  'pixel94',\n",
       "  'pixel95',\n",
       "  'pixel96',\n",
       "  'pixel97',\n",
       "  'pixel98',\n",
       "  'pixel99',\n",
       "  'pixel100',\n",
       "  'pixel101',\n",
       "  'pixel102',\n",
       "  'pixel103',\n",
       "  'pixel104',\n",
       "  'pixel105',\n",
       "  'pixel106',\n",
       "  'pixel107',\n",
       "  'pixel108',\n",
       "  'pixel109',\n",
       "  'pixel110',\n",
       "  'pixel111',\n",
       "  'pixel112',\n",
       "  'pixel113',\n",
       "  'pixel114',\n",
       "  'pixel115',\n",
       "  'pixel116',\n",
       "  'pixel117',\n",
       "  'pixel118',\n",
       "  'pixel119',\n",
       "  'pixel120',\n",
       "  'pixel121',\n",
       "  'pixel122',\n",
       "  'pixel123',\n",
       "  'pixel124',\n",
       "  'pixel125',\n",
       "  'pixel126',\n",
       "  'pixel127',\n",
       "  'pixel128',\n",
       "  'pixel129',\n",
       "  'pixel130',\n",
       "  'pixel131',\n",
       "  'pixel132',\n",
       "  'pixel133',\n",
       "  'pixel134',\n",
       "  'pixel135',\n",
       "  'pixel136',\n",
       "  'pixel137',\n",
       "  'pixel138',\n",
       "  'pixel139',\n",
       "  'pixel140',\n",
       "  'pixel141',\n",
       "  'pixel142',\n",
       "  'pixel143',\n",
       "  'pixel144',\n",
       "  'pixel145',\n",
       "  'pixel146',\n",
       "  'pixel147',\n",
       "  'pixel148',\n",
       "  'pixel149',\n",
       "  'pixel150',\n",
       "  'pixel151',\n",
       "  'pixel152',\n",
       "  'pixel153',\n",
       "  'pixel154',\n",
       "  'pixel155',\n",
       "  'pixel156',\n",
       "  'pixel157',\n",
       "  'pixel158',\n",
       "  'pixel159',\n",
       "  'pixel160',\n",
       "  'pixel161',\n",
       "  'pixel162',\n",
       "  'pixel163',\n",
       "  'pixel164',\n",
       "  'pixel165',\n",
       "  'pixel166',\n",
       "  'pixel167',\n",
       "  'pixel168',\n",
       "  'pixel169',\n",
       "  'pixel170',\n",
       "  'pixel171',\n",
       "  'pixel172',\n",
       "  'pixel173',\n",
       "  'pixel174',\n",
       "  'pixel175',\n",
       "  'pixel176',\n",
       "  'pixel177',\n",
       "  'pixel178',\n",
       "  'pixel179',\n",
       "  'pixel180',\n",
       "  'pixel181',\n",
       "  'pixel182',\n",
       "  'pixel183',\n",
       "  'pixel184',\n",
       "  'pixel185',\n",
       "  'pixel186',\n",
       "  'pixel187',\n",
       "  'pixel188',\n",
       "  'pixel189',\n",
       "  'pixel190',\n",
       "  'pixel191',\n",
       "  'pixel192',\n",
       "  'pixel193',\n",
       "  'pixel194',\n",
       "  'pixel195',\n",
       "  'pixel196',\n",
       "  'pixel197',\n",
       "  'pixel198',\n",
       "  'pixel199',\n",
       "  'pixel200',\n",
       "  'pixel201',\n",
       "  'pixel202',\n",
       "  'pixel203',\n",
       "  'pixel204',\n",
       "  'pixel205',\n",
       "  'pixel206',\n",
       "  'pixel207',\n",
       "  'pixel208',\n",
       "  'pixel209',\n",
       "  'pixel210',\n",
       "  'pixel211',\n",
       "  'pixel212',\n",
       "  'pixel213',\n",
       "  'pixel214',\n",
       "  'pixel215',\n",
       "  'pixel216',\n",
       "  'pixel217',\n",
       "  'pixel218',\n",
       "  'pixel219',\n",
       "  'pixel220',\n",
       "  'pixel221',\n",
       "  'pixel222',\n",
       "  'pixel223',\n",
       "  'pixel224',\n",
       "  'pixel225',\n",
       "  'pixel226',\n",
       "  'pixel227',\n",
       "  'pixel228',\n",
       "  'pixel229',\n",
       "  'pixel230',\n",
       "  'pixel231',\n",
       "  'pixel232',\n",
       "  'pixel233',\n",
       "  'pixel234',\n",
       "  'pixel235',\n",
       "  'pixel236',\n",
       "  'pixel237',\n",
       "  'pixel238',\n",
       "  'pixel239',\n",
       "  'pixel240',\n",
       "  'pixel241',\n",
       "  'pixel242',\n",
       "  'pixel243',\n",
       "  'pixel244',\n",
       "  'pixel245',\n",
       "  'pixel246',\n",
       "  'pixel247',\n",
       "  'pixel248',\n",
       "  'pixel249',\n",
       "  'pixel250',\n",
       "  'pixel251',\n",
       "  'pixel252',\n",
       "  'pixel253',\n",
       "  'pixel254',\n",
       "  'pixel255',\n",
       "  'pixel256',\n",
       "  'pixel257',\n",
       "  'pixel258',\n",
       "  'pixel259',\n",
       "  'pixel260',\n",
       "  'pixel261',\n",
       "  'pixel262',\n",
       "  'pixel263',\n",
       "  'pixel264',\n",
       "  'pixel265',\n",
       "  'pixel266',\n",
       "  'pixel267',\n",
       "  'pixel268',\n",
       "  'pixel269',\n",
       "  'pixel270',\n",
       "  'pixel271',\n",
       "  'pixel272',\n",
       "  'pixel273',\n",
       "  'pixel274',\n",
       "  'pixel275',\n",
       "  'pixel276',\n",
       "  'pixel277',\n",
       "  'pixel278',\n",
       "  'pixel279',\n",
       "  'pixel280',\n",
       "  'pixel281',\n",
       "  'pixel282',\n",
       "  'pixel283',\n",
       "  'pixel284',\n",
       "  'pixel285',\n",
       "  'pixel286',\n",
       "  'pixel287',\n",
       "  'pixel288',\n",
       "  'pixel289',\n",
       "  'pixel290',\n",
       "  'pixel291',\n",
       "  'pixel292',\n",
       "  'pixel293',\n",
       "  'pixel294',\n",
       "  'pixel295',\n",
       "  'pixel296',\n",
       "  'pixel297',\n",
       "  'pixel298',\n",
       "  'pixel299',\n",
       "  'pixel300',\n",
       "  'pixel301',\n",
       "  'pixel302',\n",
       "  'pixel303',\n",
       "  'pixel304',\n",
       "  'pixel305',\n",
       "  'pixel306',\n",
       "  'pixel307',\n",
       "  'pixel308',\n",
       "  'pixel309',\n",
       "  'pixel310',\n",
       "  'pixel311',\n",
       "  'pixel312',\n",
       "  'pixel313',\n",
       "  'pixel314',\n",
       "  'pixel315',\n",
       "  'pixel316',\n",
       "  'pixel317',\n",
       "  'pixel318',\n",
       "  'pixel319',\n",
       "  'pixel320',\n",
       "  'pixel321',\n",
       "  'pixel322',\n",
       "  'pixel323',\n",
       "  'pixel324',\n",
       "  'pixel325',\n",
       "  'pixel326',\n",
       "  'pixel327',\n",
       "  'pixel328',\n",
       "  'pixel329',\n",
       "  'pixel330',\n",
       "  'pixel331',\n",
       "  'pixel332',\n",
       "  'pixel333',\n",
       "  'pixel334',\n",
       "  'pixel335',\n",
       "  'pixel336',\n",
       "  'pixel337',\n",
       "  'pixel338',\n",
       "  'pixel339',\n",
       "  'pixel340',\n",
       "  'pixel341',\n",
       "  'pixel342',\n",
       "  'pixel343',\n",
       "  'pixel344',\n",
       "  'pixel345',\n",
       "  'pixel346',\n",
       "  'pixel347',\n",
       "  'pixel348',\n",
       "  'pixel349',\n",
       "  'pixel350',\n",
       "  'pixel351',\n",
       "  'pixel352',\n",
       "  'pixel353',\n",
       "  'pixel354',\n",
       "  'pixel355',\n",
       "  'pixel356',\n",
       "  'pixel357',\n",
       "  'pixel358',\n",
       "  'pixel359',\n",
       "  'pixel360',\n",
       "  'pixel361',\n",
       "  'pixel362',\n",
       "  'pixel363',\n",
       "  'pixel364',\n",
       "  'pixel365',\n",
       "  'pixel366',\n",
       "  'pixel367',\n",
       "  'pixel368',\n",
       "  'pixel369',\n",
       "  'pixel370',\n",
       "  'pixel371',\n",
       "  'pixel372',\n",
       "  'pixel373',\n",
       "  'pixel374',\n",
       "  'pixel375',\n",
       "  'pixel376',\n",
       "  'pixel377',\n",
       "  'pixel378',\n",
       "  'pixel379',\n",
       "  'pixel380',\n",
       "  'pixel381',\n",
       "  'pixel382',\n",
       "  'pixel383',\n",
       "  'pixel384',\n",
       "  'pixel385',\n",
       "  'pixel386',\n",
       "  'pixel387',\n",
       "  'pixel388',\n",
       "  'pixel389',\n",
       "  'pixel390',\n",
       "  'pixel391',\n",
       "  'pixel392',\n",
       "  'pixel393',\n",
       "  'pixel394',\n",
       "  'pixel395',\n",
       "  'pixel396',\n",
       "  'pixel397',\n",
       "  'pixel398',\n",
       "  'pixel399',\n",
       "  'pixel400',\n",
       "  'pixel401',\n",
       "  'pixel402',\n",
       "  'pixel403',\n",
       "  'pixel404',\n",
       "  'pixel405',\n",
       "  'pixel406',\n",
       "  'pixel407',\n",
       "  'pixel408',\n",
       "  'pixel409',\n",
       "  'pixel410',\n",
       "  'pixel411',\n",
       "  'pixel412',\n",
       "  'pixel413',\n",
       "  'pixel414',\n",
       "  'pixel415',\n",
       "  'pixel416',\n",
       "  'pixel417',\n",
       "  'pixel418',\n",
       "  'pixel419',\n",
       "  'pixel420',\n",
       "  'pixel421',\n",
       "  'pixel422',\n",
       "  'pixel423',\n",
       "  'pixel424',\n",
       "  'pixel425',\n",
       "  'pixel426',\n",
       "  'pixel427',\n",
       "  'pixel428',\n",
       "  'pixel429',\n",
       "  'pixel430',\n",
       "  'pixel431',\n",
       "  'pixel432',\n",
       "  'pixel433',\n",
       "  'pixel434',\n",
       "  'pixel435',\n",
       "  'pixel436',\n",
       "  'pixel437',\n",
       "  'pixel438',\n",
       "  'pixel439',\n",
       "  'pixel440',\n",
       "  'pixel441',\n",
       "  'pixel442',\n",
       "  'pixel443',\n",
       "  'pixel444',\n",
       "  'pixel445',\n",
       "  'pixel446',\n",
       "  'pixel447',\n",
       "  'pixel448',\n",
       "  'pixel449',\n",
       "  'pixel450',\n",
       "  'pixel451',\n",
       "  'pixel452',\n",
       "  'pixel453',\n",
       "  'pixel454',\n",
       "  'pixel455',\n",
       "  'pixel456',\n",
       "  'pixel457',\n",
       "  'pixel458',\n",
       "  'pixel459',\n",
       "  'pixel460',\n",
       "  'pixel461',\n",
       "  'pixel462',\n",
       "  'pixel463',\n",
       "  'pixel464',\n",
       "  'pixel465',\n",
       "  'pixel466',\n",
       "  'pixel467',\n",
       "  'pixel468',\n",
       "  'pixel469',\n",
       "  'pixel470',\n",
       "  'pixel471',\n",
       "  'pixel472',\n",
       "  'pixel473',\n",
       "  'pixel474',\n",
       "  'pixel475',\n",
       "  'pixel476',\n",
       "  'pixel477',\n",
       "  'pixel478',\n",
       "  'pixel479',\n",
       "  'pixel480',\n",
       "  'pixel481',\n",
       "  'pixel482',\n",
       "  'pixel483',\n",
       "  'pixel484',\n",
       "  'pixel485',\n",
       "  'pixel486',\n",
       "  'pixel487',\n",
       "  'pixel488',\n",
       "  'pixel489',\n",
       "  'pixel490',\n",
       "  'pixel491',\n",
       "  'pixel492',\n",
       "  'pixel493',\n",
       "  'pixel494',\n",
       "  'pixel495',\n",
       "  'pixel496',\n",
       "  'pixel497',\n",
       "  'pixel498',\n",
       "  'pixel499',\n",
       "  'pixel500',\n",
       "  'pixel501',\n",
       "  'pixel502',\n",
       "  'pixel503',\n",
       "  'pixel504',\n",
       "  'pixel505',\n",
       "  'pixel506',\n",
       "  'pixel507',\n",
       "  'pixel508',\n",
       "  'pixel509',\n",
       "  'pixel510',\n",
       "  'pixel511',\n",
       "  'pixel512',\n",
       "  'pixel513',\n",
       "  'pixel514',\n",
       "  'pixel515',\n",
       "  'pixel516',\n",
       "  'pixel517',\n",
       "  'pixel518',\n",
       "  'pixel519',\n",
       "  'pixel520',\n",
       "  'pixel521',\n",
       "  'pixel522',\n",
       "  'pixel523',\n",
       "  'pixel524',\n",
       "  'pixel525',\n",
       "  'pixel526',\n",
       "  'pixel527',\n",
       "  'pixel528',\n",
       "  'pixel529',\n",
       "  'pixel530',\n",
       "  'pixel531',\n",
       "  'pixel532',\n",
       "  'pixel533',\n",
       "  'pixel534',\n",
       "  'pixel535',\n",
       "  'pixel536',\n",
       "  'pixel537',\n",
       "  'pixel538',\n",
       "  'pixel539',\n",
       "  'pixel540',\n",
       "  'pixel541',\n",
       "  'pixel542',\n",
       "  'pixel543',\n",
       "  'pixel544',\n",
       "  'pixel545',\n",
       "  'pixel546',\n",
       "  'pixel547',\n",
       "  'pixel548',\n",
       "  'pixel549',\n",
       "  'pixel550',\n",
       "  'pixel551',\n",
       "  'pixel552',\n",
       "  'pixel553',\n",
       "  'pixel554',\n",
       "  'pixel555',\n",
       "  'pixel556',\n",
       "  'pixel557',\n",
       "  'pixel558',\n",
       "  'pixel559',\n",
       "  'pixel560',\n",
       "  'pixel561',\n",
       "  'pixel562',\n",
       "  'pixel563',\n",
       "  'pixel564',\n",
       "  'pixel565',\n",
       "  'pixel566',\n",
       "  'pixel567',\n",
       "  'pixel568',\n",
       "  'pixel569',\n",
       "  'pixel570',\n",
       "  'pixel571',\n",
       "  'pixel572',\n",
       "  'pixel573',\n",
       "  'pixel574',\n",
       "  'pixel575',\n",
       "  'pixel576',\n",
       "  'pixel577',\n",
       "  'pixel578',\n",
       "  'pixel579',\n",
       "  'pixel580',\n",
       "  'pixel581',\n",
       "  'pixel582',\n",
       "  'pixel583',\n",
       "  'pixel584',\n",
       "  'pixel585',\n",
       "  'pixel586',\n",
       "  'pixel587',\n",
       "  'pixel588',\n",
       "  'pixel589',\n",
       "  'pixel590',\n",
       "  'pixel591',\n",
       "  'pixel592',\n",
       "  'pixel593',\n",
       "  'pixel594',\n",
       "  'pixel595',\n",
       "  'pixel596',\n",
       "  'pixel597',\n",
       "  'pixel598',\n",
       "  'pixel599',\n",
       "  'pixel600',\n",
       "  'pixel601',\n",
       "  'pixel602',\n",
       "  'pixel603',\n",
       "  'pixel604',\n",
       "  'pixel605',\n",
       "  'pixel606',\n",
       "  'pixel607',\n",
       "  'pixel608',\n",
       "  'pixel609',\n",
       "  'pixel610',\n",
       "  'pixel611',\n",
       "  'pixel612',\n",
       "  'pixel613',\n",
       "  'pixel614',\n",
       "  'pixel615',\n",
       "  'pixel616',\n",
       "  'pixel617',\n",
       "  'pixel618',\n",
       "  'pixel619',\n",
       "  'pixel620',\n",
       "  'pixel621',\n",
       "  'pixel622',\n",
       "  'pixel623',\n",
       "  'pixel624',\n",
       "  'pixel625',\n",
       "  'pixel626',\n",
       "  'pixel627',\n",
       "  'pixel628',\n",
       "  'pixel629',\n",
       "  'pixel630',\n",
       "  'pixel631',\n",
       "  'pixel632',\n",
       "  'pixel633',\n",
       "  'pixel634',\n",
       "  'pixel635',\n",
       "  'pixel636',\n",
       "  'pixel637',\n",
       "  'pixel638',\n",
       "  'pixel639',\n",
       "  'pixel640',\n",
       "  'pixel641',\n",
       "  'pixel642',\n",
       "  'pixel643',\n",
       "  'pixel644',\n",
       "  'pixel645',\n",
       "  'pixel646',\n",
       "  'pixel647',\n",
       "  'pixel648',\n",
       "  'pixel649',\n",
       "  'pixel650',\n",
       "  'pixel651',\n",
       "  'pixel652',\n",
       "  'pixel653',\n",
       "  'pixel654',\n",
       "  'pixel655',\n",
       "  'pixel656',\n",
       "  'pixel657',\n",
       "  'pixel658',\n",
       "  'pixel659',\n",
       "  'pixel660',\n",
       "  'pixel661',\n",
       "  'pixel662',\n",
       "  'pixel663',\n",
       "  'pixel664',\n",
       "  'pixel665',\n",
       "  'pixel666',\n",
       "  'pixel667',\n",
       "  'pixel668',\n",
       "  'pixel669',\n",
       "  'pixel670',\n",
       "  'pixel671',\n",
       "  'pixel672',\n",
       "  'pixel673',\n",
       "  'pixel674',\n",
       "  'pixel675',\n",
       "  'pixel676',\n",
       "  'pixel677',\n",
       "  'pixel678',\n",
       "  'pixel679',\n",
       "  'pixel680',\n",
       "  'pixel681',\n",
       "  'pixel682',\n",
       "  'pixel683',\n",
       "  'pixel684',\n",
       "  'pixel685',\n",
       "  'pixel686',\n",
       "  'pixel687',\n",
       "  'pixel688',\n",
       "  'pixel689',\n",
       "  'pixel690',\n",
       "  'pixel691',\n",
       "  'pixel692',\n",
       "  'pixel693',\n",
       "  'pixel694',\n",
       "  'pixel695',\n",
       "  'pixel696',\n",
       "  'pixel697',\n",
       "  'pixel698',\n",
       "  'pixel699',\n",
       "  'pixel700',\n",
       "  'pixel701',\n",
       "  'pixel702',\n",
       "  'pixel703',\n",
       "  'pixel704',\n",
       "  'pixel705',\n",
       "  'pixel706',\n",
       "  'pixel707',\n",
       "  'pixel708',\n",
       "  'pixel709',\n",
       "  'pixel710',\n",
       "  'pixel711',\n",
       "  'pixel712',\n",
       "  'pixel713',\n",
       "  'pixel714',\n",
       "  'pixel715',\n",
       "  'pixel716',\n",
       "  'pixel717',\n",
       "  'pixel718',\n",
       "  'pixel719',\n",
       "  'pixel720',\n",
       "  'pixel721',\n",
       "  'pixel722',\n",
       "  'pixel723',\n",
       "  'pixel724',\n",
       "  'pixel725',\n",
       "  'pixel726',\n",
       "  'pixel727',\n",
       "  'pixel728',\n",
       "  'pixel729',\n",
       "  'pixel730',\n",
       "  'pixel731',\n",
       "  'pixel732',\n",
       "  'pixel733',\n",
       "  'pixel734',\n",
       "  'pixel735',\n",
       "  'pixel736',\n",
       "  'pixel737',\n",
       "  'pixel738',\n",
       "  'pixel739',\n",
       "  'pixel740',\n",
       "  'pixel741',\n",
       "  'pixel742',\n",
       "  'pixel743',\n",
       "  'pixel744',\n",
       "  'pixel745',\n",
       "  'pixel746',\n",
       "  'pixel747',\n",
       "  'pixel748',\n",
       "  'pixel749',\n",
       "  'pixel750',\n",
       "  'pixel751',\n",
       "  'pixel752',\n",
       "  'pixel753',\n",
       "  'pixel754',\n",
       "  'pixel755',\n",
       "  'pixel756',\n",
       "  'pixel757',\n",
       "  'pixel758',\n",
       "  'pixel759',\n",
       "  'pixel760',\n",
       "  'pixel761',\n",
       "  'pixel762',\n",
       "  'pixel763',\n",
       "  'pixel764',\n",
       "  'pixel765',\n",
       "  'pixel766',\n",
       "  'pixel767',\n",
       "  'pixel768',\n",
       "  'pixel769',\n",
       "  'pixel770',\n",
       "  'pixel771',\n",
       "  'pixel772',\n",
       "  'pixel773',\n",
       "  'pixel774',\n",
       "  'pixel775',\n",
       "  'pixel776',\n",
       "  'pixel777',\n",
       "  'pixel778',\n",
       "  'pixel779',\n",
       "  'pixel780',\n",
       "  'pixel781',\n",
       "  'pixel782',\n",
       "  'pixel783',\n",
       "  'pixel784'],\n",
       " 'target_names': ['class'],\n",
       " 'DESCR': \"**Author**: Yann LeCun, Corinna Cortes, Christopher J.C. Burges  \\n**Source**: [MNIST Website](http://yann.lecun.com/exdb/mnist/) - Date unknown  \\n**Please cite**:  \\n\\nThe MNIST database of handwritten digits with 784 features, raw data available at: http://yann.lecun.com/exdb/mnist/. It can be split in a training set of the first 60,000 examples, and a test set of 10,000 examples  \\n\\nIt is a subset of a larger set available from NIST. The digits have been size-normalized and centered in a fixed-size image. It is a good database for people who want to try learning techniques and pattern recognition methods on real-world data while spending minimal efforts on preprocessing and formatting. The original black and white (bilevel) images from NIST were size normalized to fit in a 20x20 pixel box while preserving their aspect ratio. The resulting images contain grey levels as a result of the anti-aliasing technique used by the normalization algorithm. the images were centered in a 28x28 image by computing the center of mass of the pixels, and translating the image so as to position this point at the center of the 28x28 field.  \\n\\nWith some classification methods (particularly template-based methods, such as SVM and K-nearest neighbors), the error rate improves when the digits are centered by bounding box rather than center of mass. If you do this kind of pre-processing, you should report it in your publications. The MNIST database was constructed from NIST's NIST originally designated SD-3 as their training set and SD-1 as their test set. However, SD-3 is much cleaner and easier to recognize than SD-1. The reason for this can be found on the fact that SD-3 was collected among Census Bureau employees, while SD-1 was collected among high-school students. Drawing sensible conclusions from learning experiments requires that the result be independent of the choice of training set and test among the complete set of samples. Therefore it was necessary to build a new database by mixing NIST's datasets.  \\n\\nThe MNIST training set is composed of 30,000 patterns from SD-3 and 30,000 patterns from SD-1. Our test set was composed of 5,000 patterns from SD-3 and 5,000 patterns from SD-1. The 60,000 pattern training set contained examples from approximately 250 writers. We made sure that the sets of writers of the training set and test set were disjoint. SD-1 contains 58,527 digit images written by 500 different writers. In contrast to SD-3, where blocks of data from each writer appeared in sequence, the data in SD-1 is scrambled. Writer identities for SD-1 is available and we used this information to unscramble the writers. We then split SD-1 in two: characters written by the first 250 writers went into our new training set. The remaining 250 writers were placed in our test set. Thus we had two sets with nearly 30,000 examples each. The new training set was completed with enough examples from SD-3, starting at pattern # 0, to make a full set of 60,000 training patterns. Similarly, the new test set was completed with SD-3 examples starting at pattern # 35,000 to make a full set with 60,000 test patterns. Only a subset of 10,000 test images (5,000 from SD-1 and 5,000 from SD-3) is available on this site. The full 60,000 sample training set is available.\\n\\nDownloaded from openml.org.\",\n",
       " 'details': {'id': '554',\n",
       "  'name': 'mnist_784',\n",
       "  'version': '1',\n",
       "  'description_version': '2',\n",
       "  'format': 'ARFF',\n",
       "  'creator': ['Yann LeCun', 'Corinna Cortes', 'Christopher J.C. Burges'],\n",
       "  'upload_date': '2014-09-29T03:28:38',\n",
       "  'language': 'English',\n",
       "  'licence': 'Public',\n",
       "  'url': 'https://api.openml.org/data/v1/download/52667/mnist_784.arff',\n",
       "  'parquet_url': 'https://data.openml.org/datasets/0000/0554/dataset_554.pq',\n",
       "  'file_id': '52667',\n",
       "  'default_target_attribute': 'class',\n",
       "  'tag': ['Artificial Intelligence',\n",
       "   'AzurePilot',\n",
       "   'Computer Vision',\n",
       "   'Data Sets',\n",
       "   'Kaggle',\n",
       "   'Machine Learning',\n",
       "   'OpenML-CC18',\n",
       "   'OpenML100',\n",
       "   'study_1',\n",
       "   'study_123',\n",
       "   'study_41',\n",
       "   'study_99',\n",
       "   'vision'],\n",
       "  'visibility': 'public',\n",
       "  'minio_url': 'https://data.openml.org/datasets/0000/0554/dataset_554.pq',\n",
       "  'status': 'active',\n",
       "  'processing_date': '2020-11-20 20:12:09',\n",
       "  'md5_checksum': '0298d579eb1b86163de7723944c7e495'},\n",
       " 'url': 'https://www.openml.org/d/554'}"
      ]
     },
     "execution_count": 1,
     "metadata": {},
     "output_type": "execute_result"
    }
   ],
   "source": [
    "from sklearn.datasets import fetch_openml\n",
    "mnist=fetch_openml(\"mnist_784\",as_frame=False)\n",
    "mnist"
   ]
  },
  {
   "cell_type": "markdown",
   "id": "5e3f67c8",
   "metadata": {},
   "source": [
    "* sklearn.datasets paketi(package) genellikle 3 tür fonksiyon içerir\n",
    "* \"fetch_*\" fonksiyonları(fetch_openml() gibi),gerçek hayattaki veri setlerini indirmek için kullanılır\n",
    "* \"load_*\" fonksiyonları, sklearn ile birlikte gelen küçük mrnek veri setlerini yükler.bu veri setleri internetten indirilmeden doğrudan kullanılır\n",
    "* \"make_*\" fonksiyonları ise testlerde kulalnmak için sahte veri setleri oluşturur"
   ]
  },
  {
   "cell_type": "markdown",
   "id": "1e621e9d",
   "metadata": {},
   "source": [
    "* ------------------------------------------------------------------\n",
    "* oluşturulan(generated) veri setleri genellikle input data ve targets içeren(X,y) ikilisi(tuple) olarak döner,her ikisi de Numpy dizisi biçimindedir\n",
    "* diğer veri setleri ise \"sklearn.utils.Bunch\" nesneleri olarak döner.Bunlar anahtar-değer çiftleri(dict) şeklinde olup,girdilere öznitelik(attribute) olarak da erişilebilir.\n",
    "* genellikle şu ögeleri(entries) içerirler"
   ]
  },
  {
   "cell_type": "markdown",
   "id": "ed450027",
   "metadata": {},
   "source": [
    "* \"DESCR\"-Veri setinin açıklaması\n",
    "* \"data\"-Giriş verileri(input data),genellikle 2 boyutlu bir numpu dizisi\n",
    "* \"target\"-Etiketler(labels),genellikle 1 boyutlu numpy dizisi"
   ]
  },
  {
   "cell_type": "markdown",
   "id": "17844ab7",
   "metadata": {},
   "source": [
    "* fetch_openml() fonksiyonu biraz farklıdır. çünkü varsayılan olarak girdileri bir Pandas DataFrame olarak ,etiketleri ise bir PandasSeries olarak döndürür\n",
    "* Ancak MNIST veri seti görüntüler(images) içerdiğinden,DataFrame yapısı bu tür veriler için ideal değildir.\n",
    "* Bu nedenle verileri numpy dizileri olarak almak için as_frame=False parametresini ayarlamak tercih edilir"
   ]
  },
  {
   "cell_type": "code",
   "execution_count": 2,
   "id": "61857c77",
   "metadata": {},
   "outputs": [
    {
     "data": {
      "text/plain": [
       "array([[0, 0, 0, ..., 0, 0, 0],\n",
       "       [0, 0, 0, ..., 0, 0, 0],\n",
       "       [0, 0, 0, ..., 0, 0, 0],\n",
       "       ...,\n",
       "       [0, 0, 0, ..., 0, 0, 0],\n",
       "       [0, 0, 0, ..., 0, 0, 0],\n",
       "       [0, 0, 0, ..., 0, 0, 0]], shape=(70000, 784))"
      ]
     },
     "execution_count": 2,
     "metadata": {},
     "output_type": "execute_result"
    }
   ],
   "source": [
    "X,y=mnist.data,mnist.target\n",
    "X"
   ]
  },
  {
   "cell_type": "code",
   "execution_count": 3,
   "id": "26709ccc",
   "metadata": {},
   "outputs": [
    {
     "data": {
      "text/plain": [
       "(70000, 784)"
      ]
     },
     "execution_count": 3,
     "metadata": {},
     "output_type": "execute_result"
    }
   ],
   "source": [
    "X.shape"
   ]
  },
  {
   "cell_type": "code",
   "execution_count": 4,
   "id": "39b3f7ac",
   "metadata": {},
   "outputs": [
    {
     "data": {
      "text/plain": [
       "array(['5', '0', '4', ..., '4', '5', '6'], shape=(70000,), dtype=object)"
      ]
     },
     "execution_count": 4,
     "metadata": {},
     "output_type": "execute_result"
    }
   ],
   "source": [
    "y"
   ]
  },
  {
   "cell_type": "code",
   "execution_count": 5,
   "id": "3150da52",
   "metadata": {},
   "outputs": [
    {
     "data": {
      "text/plain": [
       "(70000,)"
      ]
     },
     "execution_count": 5,
     "metadata": {},
     "output_type": "execute_result"
    }
   ],
   "source": [
    "y.shape"
   ]
  },
  {
   "cell_type": "markdown",
   "id": "d6c2e311",
   "metadata": {},
   "source": [
    "* toplam 70.000 görüntü vardır ve her bir görüntü 784 özelliğe(feature) sahiptir.Bunun nedeni her görüntünün 28x28 piksel boyutunda olmasıdır.\n",
    "* her bir özellik bir pikselin yoğunluğunu(pixel intensity) temsil eder.0 beyazı,255 ise siyahı ifade eder\n",
    "* veri setinden bir rakama göz atmak için yapmamız gereken bir örneğin(instance) özellik vektörünü(feature vector) almak ve bunu 28x28 boyutunda bir diziye yeniden şekillendirmek ve matplotlib'in imshow() fonksiyonunu kullanarak görüntülemektir\n",
    "* cmap=\"binary\" parametresi 0'in beyazı ve 255'in siyahı temsil ettiği gri tonlamalı(grayscale) bir colormap oluşturur"
   ]
  },
  {
   "cell_type": "code",
   "execution_count": 6,
   "id": "62354952",
   "metadata": {},
   "outputs": [
    {
     "data": {
      "image/png": "[encoded data removed]",
      "text/plain": [
       "<Figure size 640x480 with 1 Axes>"
      ]
     },
     "metadata": {},
     "output_type": "display_data"
    }
   ],
   "source": [
    "import matplotlib.pyplot as plt\n",
    "def plot_digit(image_data):\n",
    "    image=image_data.reshape(28,28)\n",
    "    plt.imshow(image,cmap=\"binary\")\n",
    "    plt.axis(\"off\")\n",
    "\n",
    "some_digit=X[0] #5\n",
    "plot_digit(some_digit)\n",
    "plt.show()"
   ]
  },
  {
   "cell_type": "code",
   "execution_count": 7,
   "id": "96266d37",
   "metadata": {},
   "outputs": [
    {
     "data": {
      "text/plain": [
       "'5'"
      ]
     },
     "execution_count": 7,
     "metadata": {},
     "output_type": "execute_result"
    }
   ],
   "source": [
    "y[0]"
   ]
  },
  {
   "cell_type": "markdown",
   "id": "b0fce762",
   "metadata": {},
   "source": [
    "* rakam şekillerinde oldukça falza çeşitlilik vardır\n",
    "* görüntüler temizdir,iyi ortalanmıştır, fazla döndürülmemiştir ve tüm rakamlar yaklaşık olarak aynı boyuttadur. Bu nedenle bu veri wseti fazla on işleme(preprocessing) gerektirmez.\n",
    "* veriyi yakından incelemeye başlamadan önce her zaman bir test seti oluşturulmalı ve kenara ayırmalıyız\n",
    "* fetch_openml() tarafından döndürülen MNIST veri seti, aslında zaten ikiye ayrılmıştır"
   ]
  },
  {
   "cell_type": "markdown",
   "id": "14737475",
   "metadata": {},
   "source": [
    "* Eğitim seti(trainin set):İlk 60.000 görüntü\n",
    "* Test seti:Son 10.000 görüntü"
   ]
  },
  {
   "cell_type": "code",
   "execution_count": 8,
   "id": "6dcf4fce",
   "metadata": {},
   "outputs": [],
   "source": [
    "X_train,X_test,y_train,y_test=X[:60000],X[60000:],y[:60000],y[60000:]"
   ]
  },
  {
   "cell_type": "markdown",
   "id": "4175c31c",
   "metadata": {},
   "source": [
    "* Eğitim seti karıştırılmıştır(shuffled)\n",
    "* bazı öğrenme algoritmaları,eğitim örneklerinin sırasına duyarlıdır. eğer art arda çok benzer örnekler alırlarsa kötü performans gösterebilirler\n",
    "* veri setinin karıştırılması bu durumun yaşanmasını önler"
   ]
  },
  {
   "cell_type": "markdown",
   "id": "72ee0967",
   "metadata": {},
   "source": [
    "## Training a Binary Classifier(İkili Sınıflandırıcıyı Eğitmek)\n",
    "* şimdilik problemi basitleştirelim ve sadece tek bir rakamı tanımlamayı deneyelim.örneğin 5 rakamını\n",
    "* bu 5 dedektörü sadece ikili sınıfı ayırt edebilen bir ikili sınıflandırıcıya örnek olacaktır:5 ve 5 olmayan\n",
    "* Öncelikle bu sınıflandırma görevi için hedef vektörlerini oluşturalım"
   ]
  },
  {
   "cell_type": "code",
   "execution_count": 9,
   "id": "1b1042a9",
   "metadata": {},
   "outputs": [],
   "source": [
    "y_train_5=(y_train==\"5\")# 5 olanlar için True diğerleri için False\n",
    "y_test_5=(y_test==\"5\")"
   ]
  },
  {
   "cell_type": "markdown",
   "id": "523aab75",
   "metadata": {},
   "source": [
    "* şimdi bir sınıflandırıcı(classifier) seçip onu eğitelim.Başlamak için iyi bir seçenek stokastik gradyan inişi(stochastic gradient descent,SDG) kullananan bir sınıflandırıcıdır.Yani sklearnün SGDClassifier sınıfı\n",
    "* bu sınıflandırıcı çok büyük veri setlerini verimli şekilde işleyebilir.Bunun bir nedeni,SGD'nin eğitim örneklerini(training instances) birbirinden bağımsız olarak,teker teker işlemesidir. Bu özellik SDG'yi çevrimiçi öğrenme(online learning) için de oldukça uygun hale getirir\n",
    "* Bir SGDClassifier oluşturup onu tüm eğitim seti üzerinde eğitelim"
   ]
  },
  {
   "cell_type": "code",
   "execution_count": 10,
   "id": "a9fb90aa",
   "metadata": {},
   "outputs": [
    {
     "data": {
      "text/html": [
       "<style>#sk-container-id-1 {\n",
       "  /* Definition of color scheme common for light and dark mode */\n",
       "  --sklearn-color-text: #000;\n",
       "  --sklearn-color-text-muted: #666;\n",
       "  --sklearn-color-line: gray;\n",
       "  /* Definition of color scheme for unfitted estimators */\n",
       "  --sklearn-color-unfitted-level-0: #fff5e6;\n",
       "  --sklearn-color-unfitted-level-1: #f6e4d2;\n",
       "  --sklearn-color-unfitted-level-2: #ffe0b3;\n",
       "  --sklearn-color-unfitted-level-3: chocolate;\n",
       "  /* Definition of color scheme for fitted estimators */\n",
       "  --sklearn-color-fitted-level-0: #f0f8ff;\n",
       "  --sklearn-color-fitted-level-1: #d4ebff;\n",
       "  --sklearn-color-fitted-level-2: #b3dbfd;\n",
       "  --sklearn-color-fitted-level-3: cornflowerblue;\n",
       "\n",
       "  /* Specific color for light theme */\n",
       "  --sklearn-color-text-on-default-background: var(--sg-text-color, var(--theme-code-foreground, var(--jp-content-font-color1, black)));\n",
       "  --sklearn-color-background: var(--sg-background-color, var(--theme-background, var(--jp-layout-color0, white)));\n",
       "  --sklearn-color-border-box: var(--sg-text-color, var(--theme-code-foreground, var(--jp-content-font-color1, black)));\n",
       "  --sklearn-color-icon: #696969;\n",
       "\n",
       "  @media (prefers-color-scheme: dark) {\n",
       "    /* Redefinition of color scheme for dark theme */\n",
       "    --sklearn-color-text-on-default-background: var(--sg-text-color, var(--theme-code-foreground, var(--jp-content-font-color1, white)));\n",
       "    --sklearn-color-background: var(--sg-background-color, var(--theme-background, var(--jp-layout-color0, #111)));\n",
       "    --sklearn-color-border-box: var(--sg-text-color, var(--theme-code-foreground, var(--jp-content-font-color1, white)));\n",
       "    --sklearn-color-icon: #878787;\n",
       "  }\n",
       "}\n",
       "\n",
       "#sk-container-id-1 {\n",
       "  color: var(--sklearn-color-text);\n",
       "}\n",
       "\n",
       "#sk-container-id-1 pre {\n",
       "  padding: 0;\n",
       "}\n",
       "\n",
       "#sk-container-id-1 input.sk-hidden--visually {\n",
       "  border: 0;\n",
       "  clip: rect(1px 1px 1px 1px);\n",
       "  clip: rect(1px, 1px, 1px, 1px);\n",
       "  height: 1px;\n",
       "  margin: -1px;\n",
       "  overflow: hidden;\n",
       "  padding: 0;\n",
       "  position: absolute;\n",
       "  width: 1px;\n",
       "}\n",
       "\n",
       "#sk-container-id-1 div.sk-dashed-wrapped {\n",
       "  border: 1px dashed var(--sklearn-color-line);\n",
       "  margin: 0 0.4em 0.5em 0.4em;\n",
       "  box-sizing: border-box;\n",
       "  padding-bottom: 0.4em;\n",
       "  background-color: var(--sklearn-color-background);\n",
       "}\n",
       "\n",
       "#sk-container-id-1 div.sk-container {\n",
       "  /* jupyter's `normalize.less` sets `[hidden] { display: none; }`\n",
       "     but bootstrap.min.css set `[hidden] { display: none !important; }`\n",
       "     so we also need the `!important` here to be able to override the\n",
       "     default hidden behavior on the sphinx rendered scikit-learn.org.\n",
       "     See: https://github.com/scikit-learn/scikit-learn/issues/21755 */\n",
       "  display: inline-block !important;\n",
       "  position: relative;\n",
       "}\n",
       "\n",
       "#sk-container-id-1 div.sk-text-repr-fallback {\n",
       "  display: none;\n",
       "}\n",
       "\n",
       "div.sk-parallel-item,\n",
       "div.sk-serial,\n",
       "div.sk-item {\n",
       "  /* draw centered vertical line to link estimators */\n",
       "  background-image: linear-gradient(var(--sklearn-color-text-on-default-background), var(--sklearn-color-text-on-default-background));\n",
       "  background-size: 2px 100%;\n",
       "  background-repeat: no-repeat;\n",
       "  background-position: center center;\n",
       "}\n",
       "\n",
       "/* Parallel-specific style estimator block */\n",
       "\n",
       "#sk-container-id-1 div.sk-parallel-item::after {\n",
       "  content: \"\";\n",
       "  width: 100%;\n",
       "  border-bottom: 2px solid var(--sklearn-color-text-on-default-background);\n",
       "  flex-grow: 1;\n",
       "}\n",
       "\n",
       "#sk-container-id-1 div.sk-parallel {\n",
       "  display: flex;\n",
       "  align-items: stretch;\n",
       "  justify-content: center;\n",
       "  background-color: var(--sklearn-color-background);\n",
       "  position: relative;\n",
       "}\n",
       "\n",
       "#sk-container-id-1 div.sk-parallel-item {\n",
       "  display: flex;\n",
       "  flex-direction: column;\n",
       "}\n",
       "\n",
       "#sk-container-id-1 div.sk-parallel-item:first-child::after {\n",
       "  align-self: flex-end;\n",
       "  width: 50%;\n",
       "}\n",
       "\n",
       "#sk-container-id-1 div.sk-parallel-item:last-child::after {\n",
       "  align-self: flex-start;\n",
       "  width: 50%;\n",
       "}\n",
       "\n",
       "#sk-container-id-1 div.sk-parallel-item:only-child::after {\n",
       "  width: 0;\n",
       "}\n",
       "\n",
       "/* Serial-specific style estimator block */\n",
       "\n",
       "#sk-container-id-1 div.sk-serial {\n",
       "  display: flex;\n",
       "  flex-direction: column;\n",
       "  align-items: center;\n",
       "  background-color: var(--sklearn-color-background);\n",
       "  padding-right: 1em;\n",
       "  padding-left: 1em;\n",
       "}\n",
       "\n",
       "\n",
       "/* Toggleable style: style used for estimator/Pipeline/ColumnTransformer box that is\n",
       "clickable and can be expanded/collapsed.\n",
       "- Pipeline and ColumnTransformer use this feature and define the default style\n",
       "- Estimators will overwrite some part of the style using the `sk-estimator` class\n",
       "*/\n",
       "\n",
       "/* Pipeline and ColumnTransformer style (default) */\n",
       "\n",
       "#sk-container-id-1 div.sk-toggleable {\n",
       "  /* Default theme specific background. It is overwritten whether we have a\n",
       "  specific estimator or a Pipeline/ColumnTransformer */\n",
       "  background-color: var(--sklearn-color-background);\n",
       "}\n",
       "\n",
       "/* Toggleable label */\n",
       "#sk-container-id-1 label.sk-toggleable__label {\n",
       "  cursor: pointer;\n",
       "  display: flex;\n",
       "  width: 100%;\n",
       "  margin-bottom: 0;\n",
       "  padding: 0.5em;\n",
       "  box-sizing: border-box;\n",
       "  text-align: center;\n",
       "  align-items: start;\n",
       "  justify-content: space-between;\n",
       "  gap: 0.5em;\n",
       "}\n",
       "\n",
       "#sk-container-id-1 label.sk-toggleable__label .caption {\n",
       "  font-size: 0.6rem;\n",
       "  font-weight: lighter;\n",
       "  color: var(--sklearn-color-text-muted);\n",
       "}\n",
       "\n",
       "#sk-container-id-1 label.sk-toggleable__label-arrow:before {\n",
       "  /* Arrow on the left of the label */\n",
       "  content: \"▸\";\n",
       "  float: left;\n",
       "  margin-right: 0.25em;\n",
       "  color: var(--sklearn-color-icon);\n",
       "}\n",
       "\n",
       "#sk-container-id-1 label.sk-toggleable__label-arrow:hover:before {\n",
       "  color: var(--sklearn-color-text);\n",
       "}\n",
       "\n",
       "/* Toggleable content - dropdown */\n",
       "\n",
       "#sk-container-id-1 div.sk-toggleable__content {\n",
       "  max-height: 0;\n",
       "  max-width: 0;\n",
       "  overflow: hidden;\n",
       "  text-align: left;\n",
       "  /* unfitted */\n",
       "  background-color: var(--sklearn-color-unfitted-level-0);\n",
       "}\n",
       "\n",
       "#sk-container-id-1 div.sk-toggleable__content.fitted {\n",
       "  /* fitted */\n",
       "  background-color: var(--sklearn-color-fitted-level-0);\n",
       "}\n",
       "\n",
       "#sk-container-id-1 div.sk-toggleable__content pre {\n",
       "  margin: 0.2em;\n",
       "  border-radius: 0.25em;\n",
       "  color: var(--sklearn-color-text);\n",
       "  /* unfitted */\n",
       "  background-color: var(--sklearn-color-unfitted-level-0);\n",
       "}\n",
       "\n",
       "#sk-container-id-1 div.sk-toggleable__content.fitted pre {\n",
       "  /* unfitted */\n",
       "  background-color: var(--sklearn-color-fitted-level-0);\n",
       "}\n",
       "\n",
       "#sk-container-id-1 input.sk-toggleable__control:checked~div.sk-toggleable__content {\n",
       "  /* Expand drop-down */\n",
       "  max-height: 200px;\n",
       "  max-width: 100%;\n",
       "  overflow: auto;\n",
       "}\n",
       "\n",
       "#sk-container-id-1 input.sk-toggleable__control:checked~label.sk-toggleable__label-arrow:before {\n",
       "  content: \"▾\";\n",
       "}\n",
       "\n",
       "/* Pipeline/ColumnTransformer-specific style */\n",
       "\n",
       "#sk-container-id-1 div.sk-label input.sk-toggleable__control:checked~label.sk-toggleable__label {\n",
       "  color: var(--sklearn-color-text);\n",
       "  background-color: var(--sklearn-color-unfitted-level-2);\n",
       "}\n",
       "\n",
       "#sk-container-id-1 div.sk-label.fitted input.sk-toggleable__control:checked~label.sk-toggleable__label {\n",
       "  background-color: var(--sklearn-color-fitted-level-2);\n",
       "}\n",
       "\n",
       "/* Estimator-specific style */\n",
       "\n",
       "/* Colorize estimator box */\n",
       "#sk-container-id-1 div.sk-estimator input.sk-toggleable__control:checked~label.sk-toggleable__label {\n",
       "  /* unfitted */\n",
       "  background-color: var(--sklearn-color-unfitted-level-2);\n",
       "}\n",
       "\n",
       "#sk-container-id-1 div.sk-estimator.fitted input.sk-toggleable__control:checked~label.sk-toggleable__label {\n",
       "  /* fitted */\n",
       "  background-color: var(--sklearn-color-fitted-level-2);\n",
       "}\n",
       "\n",
       "#sk-container-id-1 div.sk-label label.sk-toggleable__label,\n",
       "#sk-container-id-1 div.sk-label label {\n",
       "  /* The background is the default theme color */\n",
       "  color: var(--sklearn-color-text-on-default-background);\n",
       "}\n",
       "\n",
       "/* On hover, darken the color of the background */\n",
       "#sk-container-id-1 div.sk-label:hover label.sk-toggleable__label {\n",
       "  color: var(--sklearn-color-text);\n",
       "  background-color: var(--sklearn-color-unfitted-level-2);\n",
       "}\n",
       "\n",
       "/* Label box, darken color on hover, fitted */\n",
       "#sk-container-id-1 div.sk-label.fitted:hover label.sk-toggleable__label.fitted {\n",
       "  color: var(--sklearn-color-text);\n",
       "  background-color: var(--sklearn-color-fitted-level-2);\n",
       "}\n",
       "\n",
       "/* Estimator label */\n",
       "\n",
       "#sk-container-id-1 div.sk-label label {\n",
       "  font-family: monospace;\n",
       "  font-weight: bold;\n",
       "  display: inline-block;\n",
       "  line-height: 1.2em;\n",
       "}\n",
       "\n",
       "#sk-container-id-1 div.sk-label-container {\n",
       "  text-align: center;\n",
       "}\n",
       "\n",
       "/* Estimator-specific */\n",
       "#sk-container-id-1 div.sk-estimator {\n",
       "  font-family: monospace;\n",
       "  border: 1px dotted var(--sklearn-color-border-box);\n",
       "  border-radius: 0.25em;\n",
       "  box-sizing: border-box;\n",
       "  margin-bottom: 0.5em;\n",
       "  /* unfitted */\n",
       "  background-color: var(--sklearn-color-unfitted-level-0);\n",
       "}\n",
       "\n",
       "#sk-container-id-1 div.sk-estimator.fitted {\n",
       "  /* fitted */\n",
       "  background-color: var(--sklearn-color-fitted-level-0);\n",
       "}\n",
       "\n",
       "/* on hover */\n",
       "#sk-container-id-1 div.sk-estimator:hover {\n",
       "  /* unfitted */\n",
       "  background-color: var(--sklearn-color-unfitted-level-2);\n",
       "}\n",
       "\n",
       "#sk-container-id-1 div.sk-estimator.fitted:hover {\n",
       "  /* fitted */\n",
       "  background-color: var(--sklearn-color-fitted-level-2);\n",
       "}\n",
       "\n",
       "/* Specification for estimator info (e.g. \"i\" and \"?\") */\n",
       "\n",
       "/* Common style for \"i\" and \"?\" */\n",
       "\n",
       ".sk-estimator-doc-link,\n",
       "a:link.sk-estimator-doc-link,\n",
       "a:visited.sk-estimator-doc-link {\n",
       "  float: right;\n",
       "  font-size: smaller;\n",
       "  line-height: 1em;\n",
       "  font-family: monospace;\n",
       "  background-color: var(--sklearn-color-background);\n",
       "  border-radius: 1em;\n",
       "  height: 1em;\n",
       "  width: 1em;\n",
       "  text-decoration: none !important;\n",
       "  margin-left: 0.5em;\n",
       "  text-align: center;\n",
       "  /* unfitted */\n",
       "  border: var(--sklearn-color-unfitted-level-1) 1pt solid;\n",
       "  color: var(--sklearn-color-unfitted-level-1);\n",
       "}\n",
       "\n",
       ".sk-estimator-doc-link.fitted,\n",
       "a:link.sk-estimator-doc-link.fitted,\n",
       "a:visited.sk-estimator-doc-link.fitted {\n",
       "  /* fitted */\n",
       "  border: var(--sklearn-color-fitted-level-1) 1pt solid;\n",
       "  color: var(--sklearn-color-fitted-level-1);\n",
       "}\n",
       "\n",
       "/* On hover */\n",
       "div.sk-estimator:hover .sk-estimator-doc-link:hover,\n",
       ".sk-estimator-doc-link:hover,\n",
       "div.sk-label-container:hover .sk-estimator-doc-link:hover,\n",
       ".sk-estimator-doc-link:hover {\n",
       "  /* unfitted */\n",
       "  background-color: var(--sklearn-color-unfitted-level-3);\n",
       "  color: var(--sklearn-color-background);\n",
       "  text-decoration: none;\n",
       "}\n",
       "\n",
       "div.sk-estimator.fitted:hover .sk-estimator-doc-link.fitted:hover,\n",
       ".sk-estimator-doc-link.fitted:hover,\n",
       "div.sk-label-container:hover .sk-estimator-doc-link.fitted:hover,\n",
       ".sk-estimator-doc-link.fitted:hover {\n",
       "  /* fitted */\n",
       "  background-color: var(--sklearn-color-fitted-level-3);\n",
       "  color: var(--sklearn-color-background);\n",
       "  text-decoration: none;\n",
       "}\n",
       "\n",
       "/* Span, style for the box shown on hovering the info icon */\n",
       ".sk-estimator-doc-link span {\n",
       "  display: none;\n",
       "  z-index: 9999;\n",
       "  position: relative;\n",
       "  font-weight: normal;\n",
       "  right: .2ex;\n",
       "  padding: .5ex;\n",
       "  margin: .5ex;\n",
       "  width: min-content;\n",
       "  min-width: 20ex;\n",
       "  max-width: 50ex;\n",
       "  color: var(--sklearn-color-text);\n",
       "  box-shadow: 2pt 2pt 4pt #999;\n",
       "  /* unfitted */\n",
       "  background: var(--sklearn-color-unfitted-level-0);\n",
       "  border: .5pt solid var(--sklearn-color-unfitted-level-3);\n",
       "}\n",
       "\n",
       ".sk-estimator-doc-link.fitted span {\n",
       "  /* fitted */\n",
       "  background: var(--sklearn-color-fitted-level-0);\n",
       "  border: var(--sklearn-color-fitted-level-3);\n",
       "}\n",
       "\n",
       ".sk-estimator-doc-link:hover span {\n",
       "  display: block;\n",
       "}\n",
       "\n",
       "/* \"?\"-specific style due to the `<a>` HTML tag */\n",
       "\n",
       "#sk-container-id-1 a.estimator_doc_link {\n",
       "  float: right;\n",
       "  font-size: 1rem;\n",
       "  line-height: 1em;\n",
       "  font-family: monospace;\n",
       "  background-color: var(--sklearn-color-background);\n",
       "  border-radius: 1rem;\n",
       "  height: 1rem;\n",
       "  width: 1rem;\n",
       "  text-decoration: none;\n",
       "  /* unfitted */\n",
       "  color: var(--sklearn-color-unfitted-level-1);\n",
       "  border: var(--sklearn-color-unfitted-level-1) 1pt solid;\n",
       "}\n",
       "\n",
       "#sk-container-id-1 a.estimator_doc_link.fitted {\n",
       "  /* fitted */\n",
       "  border: var(--sklearn-color-fitted-level-1) 1pt solid;\n",
       "  color: var(--sklearn-color-fitted-level-1);\n",
       "}\n",
       "\n",
       "/* On hover */\n",
       "#sk-container-id-1 a.estimator_doc_link:hover {\n",
       "  /* unfitted */\n",
       "  background-color: var(--sklearn-color-unfitted-level-3);\n",
       "  color: var(--sklearn-color-background);\n",
       "  text-decoration: none;\n",
       "}\n",
       "\n",
       "#sk-container-id-1 a.estimator_doc_link.fitted:hover {\n",
       "  /* fitted */\n",
       "  background-color: var(--sklearn-color-fitted-level-3);\n",
       "}\n",
       "</style><div id=\"sk-container-id-1\" class=\"sk-top-container\"><div class=\"sk-text-repr-fallback\"><pre>SGDClassifier(random_state=42)</pre><b>In a Jupyter environment, please rerun this cell to show the HTML representation or trust the notebook. <br />On GitHub, the HTML representation is unable to render, please try loading this page with nbviewer.org.</b></div><div class=\"sk-container\" hidden><div class=\"sk-item\"><div class=\"sk-estimator fitted sk-toggleable\"><input class=\"sk-toggleable__control sk-hidden--visually\" id=\"sk-estimator-id-1\" type=\"checkbox\" checked><label for=\"sk-estimator-id-1\" class=\"sk-toggleable__label fitted sk-toggleable__label-arrow\"><div><div>SGDClassifier</div></div><div><a class=\"sk-estimator-doc-link fitted\" rel=\"noreferrer\" target=\"_blank\" href=\"https://scikit-learn.org/1.6/modules/generated/sklearn.linear_model.SGDClassifier.html\">?<span>Documentation for SGDClassifier</span></a><span class=\"sk-estimator-doc-link fitted\">i<span>Fitted</span></span></div></label><div class=\"sk-toggleable__content fitted\"><pre>SGDClassifier(random_state=42)</pre></div> </div></div></div></div>"
      ],
      "text/plain": [
       "SGDClassifier(random_state=42)"
      ]
     },
     "execution_count": 10,
     "metadata": {},
     "output_type": "execute_result"
    }
   ],
   "source": [
    "from sklearn.linear_model import SGDClassifier\n",
    "sgd_clf=SGDClassifier(random_state=42)\n",
    "sgd_clf.fit(X_train,y_train_5)"
   ]
  },
  {
   "cell_type": "markdown",
   "id": "9607175a",
   "metadata": {},
   "source": [
    "* Artık bu modeli 5 rakamının görüntülerini tespit etmek için kullabiliriz"
   ]
  },
  {
   "cell_type": "code",
   "execution_count": 11,
   "id": "9437b929",
   "metadata": {},
   "outputs": [
    {
     "data": {
      "text/plain": [
       "array([ True])"
      ]
     },
     "execution_count": 11,
     "metadata": {},
     "output_type": "execute_result"
    }
   ],
   "source": [
    "sgd_clf.predict([some_digit])"
   ]
  },
  {
   "cell_type": "markdown",
   "id": "6d98549d",
   "metadata": {},
   "source": [
    "* Sınıflandırıcı(classifier) bu görüntünün 5'i temsil ettiğini tahmin ediyor(True)\n",
    "* Görünüşe göre bu örnekte doğru tahminde bulunmuş\n",
    "* şimdi bu modelin performansını değerlendirelim"
   ]
  },
  {
   "cell_type": "markdown",
   "id": "b96fc6b9",
   "metadata": {},
   "source": [
    "## Performance Measures(Performans Ölçütleri)\n",
    "* Bir sınıflandırıcıyı değerlendirmek,genellikle bir regresyon modelini değerlendirmekten daha zordur.\n",
    "* Kullanılabilecek bir çok performans ölçütü vardır"
   ]
  },
  {
   "cell_type": "markdown",
   "id": "1c44f788",
   "metadata": {},
   "source": [
    "### Measuring Accuracy Using Cross-Validation(Çapraz Doğrulama ile Doğruluk Ölçümü)\n",
    "\n",
    "* Bir modeli değerlendirmenin iyi bir yolu çapraz doğrulama(cross-validation) kullanmaktır\n",
    "* cross_val_score() fonksiyonunu kullanarak SGDClassifier modelimizi k-katlı(k-fold) çapraz doğrulama ile(k=3) değerlendirelim\n",
    "* k-fold cross validation eğitim setinin k parçaya bölünmesi,ardından k kez eğitilmesi anlamına gelir\n",
    "* her seferinde farklı bir fold(kat) değerlendirme(evaluation) için ayrılır"
   ]
  },
  {
   "cell_type": "code",
   "execution_count": 12,
   "id": "cee7424e",
   "metadata": {},
   "outputs": [
    {
     "data": {
      "text/plain": [
       "array([0.95110978, 0.95439544, 0.96879688])"
      ]
     },
     "execution_count": 12,
     "metadata": {},
     "output_type": "execute_result"
    }
   ],
   "source": [
    "import warnings\n",
    "warnings.filterwarnings(\"ignore\")\n",
    "from sklearn.model_selection import cross_val_score\n",
    "cross_val_score(sgd_clf,X_test,y_test_5,scoring=\"accuracy\",cv=3)\n"
   ]
  },
  {
   "cell_type": "markdown",
   "id": "8fb2edf9",
   "metadata": {},
   "source": [
    "* tüm cross validation katmanlarında(folds) %95'in üzerinde doğruluk.\n",
    "* çok fazla heyecanlanmadan önce, sadece her görüntüyü en sık görülen sınıfa(most frequent class) atayan bir basit sınıflandırıcıya(dummy classifier) bakalım\n",
    "* bu durumda en sık görülen sınıf, negatif sınıf yani 5 olmayan sınıfıdır"
   ]
  },
  {
   "cell_type": "code",
   "execution_count": 13,
   "id": "993e7580",
   "metadata": {},
   "outputs": [
    {
     "data": {
      "text/plain": [
       "False"
      ]
     },
     "execution_count": 13,
     "metadata": {},
     "output_type": "execute_result"
    }
   ],
   "source": [
    "from sklearn.dummy import DummyClassifier\n",
    "dummy_clf=DummyClassifier()\n",
    "dummy_clf.fit(X_train,y_train_5)\n",
    "any(dummy_clf.predict(X_train)) #False= 5 bulunmadı"
   ]
  },
  {
   "cell_type": "code",
   "execution_count": 14,
   "id": "42211311",
   "metadata": {},
   "outputs": [
    {
     "data": {
      "text/plain": [
       "array([0.90965, 0.90965, 0.90965])"
      ]
     },
     "execution_count": 14,
     "metadata": {},
     "output_type": "execute_result"
    }
   ],
   "source": [
    "cross_val_score(dummy_clf,X_train,y_train_5,scoring=\"accuracy\",cv=3)"
   ]
  },
  {
   "cell_type": "markdown",
   "id": "f867d043",
   "metadata": {},
   "source": [
    "* bu modelin doğruluğu %90'ın üzerinde\n",
    "* bunun nedeni görüntülerin sadece yaklaşık %10'u 5 rakamına ait,dolayısıyla her görüntü için \"5 değil\" tahmininde bulunursak, %90 oranında doğru tahminde bulunuruz\n",
    "* bu durum doğruluğun(accuracy) neden sınıflandırıcılar için genellikle tercih edilen performans ölçütü olmadığını açıkca gösterir.\n",
    "* bir sınıflandırıcının performansını değerlendirmek için çok daha iyi bir yöntem karmaşıklık matrisi(confusion matrix) kullanmaktır"
   ]
  },
  {
   "cell_type": "markdown",
   "id": "cf59fb8a",
   "metadata": {},
   "source": [
    "### Confusion Matrices\n",
    "* Karmaşıklık matrisinin genel fikri, her A/B sınıf çifti(class pair) için A sınıfına ait örneklerin kaç kez B sınıfı olarak sınıflandırıldığını saymaktır\n",
    "* örneğin sınıflandırıcının(classifier) 8 rakamına ait görüntüleri kaç kez 0 olarak karıştırdığını(confused) öğrenmek istersek,karmaşık matrisinin 8. satırındaki(row 8) ve 0.sutunundaki(column 0) değere bakarız\n",
    "* Karmaşıklık matrisini hesaplamak için önce,gerçek hedeflere(actual targets) karşılaştırabileceğin bir tahmin kümesini ihtiyaç vardır\n",
    "* Bu tahminleri test seti üzerinde yapabiliriz ancak test setine şimdilik dokunmamak en iyisidir.\n",
    "* Bunun yerine cross_val_predict() kullanabiliriz"
   ]
  },
  {
   "cell_type": "code",
   "execution_count": 15,
   "id": "b0c17657",
   "metadata": {},
   "outputs": [],
   "source": [
    "from sklearn.model_selection import cross_val_predict\n",
    "y_train_pred=cross_val_predict(sgd_clf,X_train,y_train_5,cv=3)"
   ]
  },
  {
   "cell_type": "markdown",
   "id": "6e0b8911",
   "metadata": {},
   "source": [
    "* Tıpkı cross_val_score() fonksiyonu gibi,cross_val_predict() de k-katlı cross validation uygular.ancak değerlendirme skorlarını döndürmek yerine her test fold'u üzerinde yapılan tahminleri döndürür\n",
    "* bu, eğitim setindeki her bir örnek(instance) için temiz bir tahmin elde ettiğimiz anlamına gelir\n",
    "* buradaki temiz ifadesi \"örnek dışı(out-of-samples)\" demektir.yeni model tahmin yaptığı veriyi eğitim sırasında hiç görmemiştir\n",
    "* Confusion matrisi kullanmak için fonksiyona hedef sınıflara(y_train_5) ve tahmin edilen sınıfları(y_train_red) verilir"
   ]
  },
  {
   "cell_type": "code",
   "execution_count": 16,
   "id": "b972ac5d",
   "metadata": {},
   "outputs": [
    {
     "data": {
      "text/plain": [
       "array([[53892,   687],\n",
       "       [ 1891,  3530]])"
      ]
     },
     "execution_count": 16,
     "metadata": {},
     "output_type": "execute_result"
    }
   ],
   "source": [
    "from sklearn.metrics import confusion_matrix\n",
    "cm=confusion_matrix(y_train_5,y_train_pred)\n",
    "cm"
   ]
  },
  {
   "cell_type": "markdown",
   "id": "d681ed6c",
   "metadata": {},
   "source": [
    "* bir karmaşıklık matrisinde her satır(row) gerçek sınıfı(actual class), her sütun(column) ise tahmin edilen sınıfı(predicted class) temsil eder\n",
    "* bu matrisin ilk satırı 5 olmayan görüntüleri,yani negatif classı ele alır"
   ]
  },
  {
   "cell_type": "markdown",
   "id": "2e04454a",
   "metadata": {},
   "source": [
    "* 53892 tanesi doğru şekilde non-5 olarak sınıflandırılmıştır(true negatives(doğru negatifler))\n",
    "* geri kalan 687 tanesi ise yanlış biçimde 5 olarak sınıflandırılmıştır(false positives). aynı zamanda tip 1 hatalar olarak da bilinir"
   ]
  },
  {
   "cell_type": "markdown",
   "id": "a8885a3a",
   "metadata": {},
   "source": [
    "* ikinci satır 5'lere(positive class) ait görüntüler içerir."
   ]
  },
  {
   "cell_type": "markdown",
   "id": "274018b1",
   "metadata": {},
   "source": [
    "* 1.891 tanesi yanlış biçimde non-5  olarak sınıflandırılmıştır.(false negatives)Aynı zamanda tip 2 hatalar\n",
    "* kalan 3.530 tanesi ise doğru şekilde 5 olarak tanımlanmıştır(true positives)"
   ]
  },
  {
   "cell_type": "markdown",
   "id": "ddc8dfa2",
   "metadata": {},
   "source": [
    "* kusursuz bir sınıflandırıcı sadece doğru pozitif ve doğru negatif değerlerine sahip olur"
   ]
  },
  {
   "cell_type": "code",
   "execution_count": 17,
   "id": "82fd5c68",
   "metadata": {},
   "outputs": [
    {
     "data": {
      "text/plain": [
       "array([[54579,     0],\n",
       "       [    0,  5421]])"
      ]
     },
     "execution_count": 17,
     "metadata": {},
     "output_type": "execute_result"
    }
   ],
   "source": [
    "y_train_perfect_predictions=y_train_5 #mükemmel bir sonuç elde ettiğimizi varsayalım\n",
    "confusion_matrix(y_train_5,y_train_perfect_predictions)"
   ]
  },
  {
   "cell_type": "markdown",
   "id": "0d96aa52",
   "metadata": {},
   "source": [
    "* karmaşıklık matrisi oldukça fazla bilgi sağlar ancak bazen daha özlü(concise) bir ölçüme ihtiyaç duyabiliriz\n",
    "* bunlardan biri pozitif tahminlerin doğruluğu-yani sınıflandırıcının kesinliği(precision) olarak adlandırılır"
   ]
  },
  {
   "cell_type": "markdown",
   "id": "2cc92601",
   "metadata": {},
   "source": [
    "### Precision(kesinlik)\n",
    " precision=TP / TP +FP"
   ]
  },
  {
   "cell_type": "markdown",
   "id": "f4594a06",
   "metadata": {},
   "source": [
    "* TP-> True Pozitif Sayısı\n",
    "* FP-> False Pozitif Sayısıdır\n",
    "\n",
    "* Sadece çok yüksek eminlikte(extremely confident) olduğunda pozitif tahmin yapan bir modeli düşünelim\n",
    "* Bu durumu uç bir senaryoya taşıyalım ve modelin, en emin olduğu tek bir örnej dışında her zaman negatif tahmin yaptığını varsayalım\n",
    "\n",
    "* eğer bu tek pozitif tahmin doğru ise sınıflandırıcının kesinliği %100 olur(precision 1/1=%100)\n",
    "* ancak böyle bir sınıflandırıcı pratikte pek işe yaramaz. çünkü birden fazla pozitif örneği tamamen göz ardı eder\n"
   ]
  },
  {
   "cell_type": "markdown",
   "id": "8d1682d6",
   "metadata": {},
   "source": [
    "### Recall(duyarlılık)\n",
    "* Bu nedenle precision(kesinlik) genellikle başka bir metrikle birlikte değerlendirilir\n",
    "* Bu metrik duyarlılık(recall) veya doğru pozitif oranı(true positive rate,TPR)'dır\n",
    "* recall sınıflandırıcının doğru şekilde tespit ettiği pozitif örneklerin oranıdır. yani pozitif örneklerin ne kadarını yakalayabilidğini gösterir\n"
   ]
  },
  {
   "cell_type": "markdown",
   "id": "abd70575",
   "metadata": {},
   "source": [
    "recall=TP / TP+FN"
   ]
  },
  {
   "cell_type": "markdown",
   "id": "ce76b73c",
   "metadata": {},
   "source": [
    "![b](b.png)\n",
    "\n",
    "\n"
   ]
  },
  {
   "cell_type": "markdown",
   "id": "6fe59b23",
   "metadata": {},
   "source": [
    "### Kesinlik(Precision) ve Duyarlılık(Recall)\n",
    "* Sklearn sınıflandırıcı metriklerini hesaplamak için çeşitli fonksiyonlar sağlar. Bunlar arasında precision ve recall'da vardır"
   ]
  },
  {
   "cell_type": "code",
   "execution_count": 18,
   "id": "fc3095f3",
   "metadata": {},
   "outputs": [
    {
     "data": {
      "text/plain": [
       "array([[53892,   687],\n",
       "       [ 1891,  3530]])"
      ]
     },
     "execution_count": 18,
     "metadata": {},
     "output_type": "execute_result"
    }
   ],
   "source": [
    "cm"
   ]
  },
  {
   "cell_type": "code",
   "execution_count": 19,
   "id": "a6333991",
   "metadata": {},
   "outputs": [
    {
     "data": {
      "text/plain": [
       "0.8370879772350012"
      ]
     },
     "execution_count": 19,
     "metadata": {},
     "output_type": "execute_result"
    }
   ],
   "source": [
    "from sklearn.metrics import precision_score,recall_score\n",
    "precision_score(y_train_5,y_train_pred) #3530/ (687 + 3530)\n"
   ]
  },
  {
   "cell_type": "code",
   "execution_count": 20,
   "id": "fb4aad62",
   "metadata": {},
   "outputs": [
    {
     "data": {
      "text/plain": [
       "0.6511713705958311"
      ]
     },
     "execution_count": 20,
     "metadata": {},
     "output_type": "execute_result"
    }
   ],
   "source": [
    "recall_score(y_train_5,y_train_pred) # 3530 / (3530 + 1891)"
   ]
  },
  {
   "cell_type": "markdown",
   "id": "6c099cd6",
   "metadata": {},
   "source": [
    "* 5 dedektörümüz , cross val'daki  doğruluk(accuracy) açısından baktığımız zamanki kadar etkliyeci görünmüyor\n",
    "* bir görüntünün 5 olduğunu iddia ettiğimizde %83.7 oranında doğru çıkıyor(precision=0.837)\n",
    "* üstelik tüm 5'lerin sadece %65.1'ini doğru tespit edebiliyor (recall=0.651)"
   ]
  },
  {
   "cell_type": "markdown",
   "id": "98388877",
   "metadata": {},
   "source": [
    "* genellikle precision ve recall değerlerini tek bir ölçüte(metric) dönüştürmek kullanışlıdır.\n",
    "* bu birleşik ölçüt f1 score olarak adlandırılı ve iki değerin harmonik ortalaması alınarak hesaplanır"
   ]
  },
  {
   "cell_type": "markdown",
   "id": "29d74570",
   "metadata": {},
   "source": [
    "* normal ortalama tüm değerlere eşit ağırlık verirken,harmonik ortalama düşük değerlere daha fazla ağırlık verir.\n",
    "* bir sınıflandırıcının hem recall hem de precision yüksekse yüksek f1 skoru elde eder"
   ]
  },
  {
   "cell_type": "markdown",
   "id": "5bc49466",
   "metadata": {},
   "source": [
    "f1= 2 x ((precision x recall) / (precision+recall))\n",
    "f1 = TP / (TP + ((FN+FP)/2) )"
   ]
  },
  {
   "cell_type": "code",
   "execution_count": 21,
   "id": "2b0914b1",
   "metadata": {},
   "outputs": [
    {
     "data": {
      "text/plain": [
       "0.7325171197343847"
      ]
     },
     "execution_count": 21,
     "metadata": {},
     "output_type": "execute_result"
    }
   ],
   "source": [
    "from sklearn.metrics import f1_score\n",
    "f1_score(y_train_5,y_train_pred)"
   ]
  },
  {
   "cell_type": "markdown",
   "id": "724b1eca",
   "metadata": {},
   "source": [
    "* f1 skoru, precision ve recall değerleri birbirine yakın olan sınıflandırıcıları tercih eder\n",
    "* ancak bu, her zaman istediğimiz şey olmayabilir, bazı durumlarda precision(kesinlik) daha önemliyken, bazı durumlarda recall(duyarlılık) kritik öneme sahiptir"
   ]
  },
  {
   "cell_type": "markdown",
   "id": "c1a083ff",
   "metadata": {},
   "source": [
    "* örneğin cocuklar için güvenli videoları tespit eden bir sınıflandırıcı eğittiğimizi düşünelim\n",
    "* bu durumda bir çok iyi videoyu yanlışlıkla reddeden(düşük recall) ama sadece gercekten güvenli olanları kabul eden (yüksek precision) bir model tercih edilir\n",
    "* çünkü birkaç iyi videoyu kaybetmek,cocukların zararlı içeriklere erişmesinden çok daha iyidir.\n",
    "* bu gibi durumlarda, hatta sınıflandırıcıların seçtiği videoları gözden geçirmek için insan denetimli(human-in-the-loop) bir adım eklemek bile mantıklı olabilir\n"
   ]
  },
  {
   "cell_type": "markdown",
   "id": "5fadd75e",
   "metadata": {},
   "source": [
    "* bir de güvenlik kamerası görüntülerinde hırsız tespiti yapan bir sınıflandırıcı geliştirdiğimiz düşünelim\n",
    "* bu durumda sınıflandırıcının %30 precisiona sahip olması kabul edilebilir, yeter ki %99 recall'a ulaşsın\n",
    "* güvenlik görevlileri bir kaç yanlış alarm(false positive) alacaktır,ama neredeyse tüm hırsızlar yakalanacaktır\n",
    "* her iki tarafı aynı anda arttırmak mümkün değildir.precisionu yükseltmek genellikle recall'u düşürür.recall'u yükseltmek ise precisionu azaltır\n",
    "* bu dengeye precisio/recall trade-off(kesinlik/duyarlılık dengesi) denir"
   ]
  },
  {
   "cell_type": "markdown",
   "id": "125ed87f",
   "metadata": {},
   "source": [
    "### The Precision/Recall Trade-Off(Kesinlik/Duyarlılık Dengesi)\n",
    "\n",
    "* bu dengeyi anlamak için, SGDClassifier'ın sınıflandırma kararlarını nasıl verdiğine bakalım\n",
    "* model her örnek(instance) için bir karar fonksiyonuna(decision function) dayalı olarak puan(score) hesaplar\n",
    "* bu puan belirlenen eşik değerinden(threshold) büyükse örneği pozitif sınıfa,küçükse negatif sınıfa atar"
   ]
  },
  {
   "cell_type": "markdown",
   "id": "f9483dc1",
   "metadata": {},
   "source": [
    "* soldan sağa doğru, düşük skordan yüksek skora dizilmiş birkaç rakam olduğunu varsayalım\n",
    "* eşik değerini ortaya yerleştirdiğimizi varsayalım\n",
    "* bu eşikten sağda 4 doğru pozitif(true pozitives)-yani gerçekten 5 olan örnekler- vardır.ayrıca eşikten sağda 1 yanlış pozitif(false positive)- aslında 6 olan örnek- vardır\n"
   ]
  },
  {
   "cell_type": "markdown",
   "id": "49231b2f",
   "metadata": {},
   "source": [
    "* bu durumda precision(kesinlik)= 4/ (4+1)= %80\n",
    "* precision(duyarlılık)= 4/ (4+2)=%67(çünkü toplamda 6 gerçek \"5\" vardır ama sadece 4 tanesi tespit edilmiştir)"
   ]
  },
  {
   "cell_type": "markdown",
   "id": "9ff941e5",
   "metadata": {},
   "source": [
    "* sınıflandırıcının (classifier) predict() metodunu çağırmak yerine , decision_function() metodunu kullanabilir\n",
    "* bu metot her bir örnek(instance) için bir score döndürür\n",
    "* ardından bu puanları kullanarak,istediğimiz herhangi bir eşik değeri(thresholds) belirleyebilir ve tahminleri bu eşik üzerinden yapabiliriz"
   ]
  },
  {
   "cell_type": "code",
   "execution_count": 22,
   "id": "b71eae25",
   "metadata": {},
   "outputs": [
    {
     "data": {
      "text/plain": [
       "array([2164.22030239])"
      ]
     },
     "execution_count": 22,
     "metadata": {},
     "output_type": "execute_result"
    }
   ],
   "source": [
    "y_scores=sgd_clf.decision_function([some_digit])\n",
    "y_scores"
   ]
  },
  {
   "cell_type": "code",
   "execution_count": 23,
   "id": "1c162885",
   "metadata": {},
   "outputs": [
    {
     "data": {
      "text/plain": [
       "array([ True])"
      ]
     },
     "execution_count": 23,
     "metadata": {},
     "output_type": "execute_result"
    }
   ],
   "source": [
    "threshold=0\n",
    "y_some_digit_pred= (y_scores>threshold)\n",
    "y_some_digit_pred"
   ]
  },
  {
   "cell_type": "markdown",
   "id": "e967e387",
   "metadata": {},
   "source": [
    "* SGDClassifier varsayılan olarak 0 eşik değeri kullanır.Bu nedenle önce kod predict() metoduyla aynı sonucu döndürür.eşik değerini yükseltelim"
   ]
  },
  {
   "cell_type": "code",
   "execution_count": 24,
   "id": "0e5be603",
   "metadata": {},
   "outputs": [
    {
     "data": {
      "text/plain": [
       "array([False])"
      ]
     },
     "execution_count": 24,
     "metadata": {},
     "output_type": "execute_result"
    }
   ],
   "source": [
    "threshold=3000\n",
    "y_some_digit_pred=(y_scores>threshold)\n",
    "y_some_digit_pred"
   ]
  },
  {
   "cell_type": "markdown",
   "id": "d0580966",
   "metadata": {},
   "source": [
    "* bu durum threshold attırılmasının recall'ı azalttığını doğrular\n",
    "* görüntü aslında 5 tir ve sınıflandırıcı,eşik değeri 0 iken bunu doğru şekilde tespit eder.\n",
    "* ancak eşik değeri 3000'e çıktığında model bu örneği kaçırır(5 olarak tanımaz model)\n",
    "* peki hangi eşik değerini kullanacağımıza nasıl karar veririz..Bir seçenek,cross_val_predict() fonksiyonunu kullanarak eğitim setindeli tüm örneklerin skorunu elde etmektir(ancak bu kez tahminler yerine karar skorlarını(decision scores) döndürmesini belirtmemiz gerekir)"
   ]
  },
  {
   "cell_type": "code",
   "execution_count": 25,
   "id": "1435c367",
   "metadata": {},
   "outputs": [],
   "source": [
    "y_scores=cross_val_predict(sgd_clf,X_train,y_train_5,cv=3,method=\"decision_function\")"
   ]
  },
  {
   "cell_type": "code",
   "execution_count": 26,
   "id": "614ee43d",
   "metadata": {},
   "outputs": [
    {
     "data": {
      "text/plain": [
       "array([  1200.93051237, -26883.79202424, -33072.03475406, ...,\n",
       "        13272.12718981,  -7258.47203373, -16877.50840447], shape=(60000,))"
      ]
     },
     "execution_count": 26,
     "metadata": {},
     "output_type": "execute_result"
    }
   ],
   "source": [
    "y_scores"
   ]
  },
  {
   "cell_type": "markdown",
   "id": "21e5e6c5",
   "metadata": {},
   "source": [
    "* bu skorları kullanarak,\"precision_recall_curve()\" fonksiyonuyla tüm olası eşik değerleri(thresholds) için precision ve recall değerlerini hesaplayabiliriz\n",
    "* bu fonksiyon ayrıca sonuna bir precision=1 ve recall=0 değeri ekler, bu da sonsuz eşik değerine karşılık gelir"
   ]
  },
  {
   "cell_type": "code",
   "execution_count": 27,
   "id": "f4d86e7d",
   "metadata": {},
   "outputs": [],
   "source": [
    "from sklearn.metrics import precision_recall_curve\n",
    "precisions,recalls,thresholds=precision_recall_curve(y_train_5,y_scores)"
   ]
  },
  {
   "cell_type": "code",
   "execution_count": 28,
   "id": "0ba89f4d",
   "metadata": {},
   "outputs": [
    {
     "data": {
      "image/png": "[encoded data removed]",
      "text/plain": [
       "<Figure size 640x480 with 1 Axes>"
      ]
     },
     "metadata": {},
     "output_type": "display_data"
    }
   ],
   "source": [
    "plt.plot(thresholds,precisions[:-1],\"b--\",label=\"Precision\",linewidth=2)\n",
    "plt.plot(thresholds,recalls[:-1],\"g-\",label=\"Recall\",linewidth=2)\n",
    "plt.vlines(threshold,0,1.0,\"k\",\"dotted\",label=\"threshold\")\n",
    "plt.grid(True)\n",
    "plt.xlabel(\"Threshold\")\n",
    "plt.legend()\n",
    "plt.show()"
   ]
  },
  {
   "cell_type": "markdown",
   "id": "0131f323",
   "metadata": {},
   "source": [
    "* bu eşik değerinde(0) precision yaklaşık %90 , recall ise yaklaşık %50 civarındadır\n",
    "* iyi bir precision/recall dengesi seçmenin bir başka yolu da ,precision'u doğrudan recall'a karşı çizmek."
   ]
  },
  {
   "cell_type": "code",
   "execution_count": 29,
   "id": "753da5a0",
   "metadata": {},
   "outputs": [
    {
     "data": {
      "image/png": "[encoded data removed]",
      "text/plain": [
       "<Figure size 640x480 with 1 Axes>"
      ]
     },
     "metadata": {},
     "output_type": "display_data"
    }
   ],
   "source": [
    "plt.plot(recalls,precisions,linewidth=2,label=\"Precision/Recall Curve\")\n",
    "plt.grid(True)\n",
    "plt.xlabel(\"Recall\")\n",
    "plt.ylabel(\"Precision\")\n",
    "plt.legend()\n",
    "plt.show()"
   ]
  },
  {
   "cell_type": "markdown",
   "id": "19ab4813",
   "metadata": {},
   "source": [
    "* gördüğümüz gibi recall %80 civarına ulaştığında precision keskin bir şekilde düşmeye başlar\n",
    "* bu nedenle iyi bir precision/recall dengesi(trade-off) genellikle bu düşüşten hemen önce -yüzde 60 mesela- seçilir\n",
    "* bu seçim projenin gereksinimlerine bağlıdır"
   ]
  },
  {
   "cell_type": "markdown",
   "id": "fae758e8",
   "metadata": {},
   "source": [
    "* diyelim ki hedefimiz %90 precision elde etmek olsun\n",
    "* bunu belirlemek için en az %90 precision sağlayan en düşük eşik değerini(lowest threshold) bulabiliriz\n",
    "* bunun için numpy dizisinin argmax() fonksiyonunu kullanabilirz.Bu metot dizideki maksimum değerin ilk indexini döndürür\n",
    "* bu durumda ilk True değerinin indeksinin,yani istenen precision seviyesine(örneğin >= %90) ilk ulaşan eşik değerini verir"
   ]
  },
  {
   "cell_type": "code",
   "execution_count": 30,
   "id": "4418ee28",
   "metadata": {},
   "outputs": [
    {
     "data": {
      "text/plain": [
       "np.float64(3370.019499144185)"
      ]
     },
     "execution_count": 30,
     "metadata": {},
     "output_type": "execute_result"
    }
   ],
   "source": [
    "\n",
    "idx_for_90_precision=(precisions>=0.90).argmax()\n",
    "threshold_for_90_precision=thresholds[idx_for_90_precision]\n",
    "threshold_for_90_precision"
   ]
  },
  {
   "cell_type": "markdown",
   "id": "cf5344f7",
   "metadata": {},
   "source": [
    "* Eğitim seti üzerinde tahmin yapmak için(şimdilik),sınıflandırıcının predict() metodunu çağırmak yerine aşağıdaki kodu çalıştıralım"
   ]
  },
  {
   "cell_type": "code",
   "execution_count": 31,
   "id": "60f97a88",
   "metadata": {},
   "outputs": [
    {
     "data": {
      "text/plain": [
       "array([ True, False, False, ...,  True, False, False], shape=(60000,))"
      ]
     },
     "execution_count": 31,
     "metadata": {},
     "output_type": "execute_result"
    }
   ],
   "source": [
    "y_train_pred_90=(y_scores>=threshold_for_90_precision)\n",
    "y_train_pred"
   ]
  },
  {
   "cell_type": "code",
   "execution_count": 32,
   "id": "b087a749",
   "metadata": {},
   "outputs": [
    {
     "data": {
      "text/plain": [
       "0.9000345901072293"
      ]
     },
     "execution_count": 32,
     "metadata": {},
     "output_type": "execute_result"
    }
   ],
   "source": [
    "#tahminlerin precison ve recall'ı\n",
    "precision_score(y_train_5,y_train_pred_90)"
   ]
  },
  {
   "cell_type": "code",
   "execution_count": 33,
   "id": "1a7dd947",
   "metadata": {},
   "outputs": [
    {
     "data": {
      "text/plain": [
       "0.4799852425751706"
      ]
     },
     "execution_count": 33,
     "metadata": {},
     "output_type": "execute_result"
    }
   ],
   "source": [
    "recall_at_90_precision=recall_score(y_train_5,y_train_pred_90)\n",
    "recall_at_90_precision"
   ]
  },
  {
   "cell_type": "markdown",
   "id": "faad908b",
   "metadata": {},
   "source": [
    "* artık yüzde 90 precision'a sahip bir sınıflandırıcımız var\n",
    "* ama recall(dyuarlılık) çok düşükse yüksek precision'a sahip bir sınıflandırıcı pek işe yaramaz. Bir çok uygulama için %48 recall oldukça  yetersiz bir sonuç olurdu"
   ]
  },
  {
   "cell_type": "markdown",
   "id": "c544e206",
   "metadata": {},
   "source": [
    "## ROC Curve\n",
    "\n",
    "* ROC Eğrisi(Receiver Operating Characteristic Curve), ikili sınıflandırıcılarla(binary classifiers) birlikte yaygın olarak kullanılan bir araçtır\n",
    "* precision/recall eğrisini oldukça benzer, ama bu kez precisiona karşı recall yerine,doğru pozitif oranı(recall) yanlış pozitif oranına karşı çizilir\n",
    "* FPR(False positive rate), yanlış biçimde pozitif sınıflandırılan negatif örneklerin oranıdır(fall-out)\n"
   ]
  },
  {
   "cell_type": "markdown",
   "id": "ec36f7c1",
   "metadata": {},
   "source": [
    "FPR=1-TNR(true negatif rate)"
   ]
  },
  {
   "cell_type": "markdown",
   "id": "b8b4e7ce",
   "metadata": {},
   "source": [
    "TNR doğru biçimde negatif sınıflandırılan  negatif örneklerin oranıdır ve özgüllük(specificty) olarak adlandırılır"
   ]
  },
  {
   "cell_type": "markdown",
   "id": "7128194e",
   "metadata": {},
   "source": [
    "* dolayısıyla ROC eğrisi, duyarlılığı(sensivity/recall), 1-özgüllük(specificty) değerine karşı çizer\n",
    "\n",
    "* roc eğrisini çizmek için roc_curve() fonksiyonunu kullanarak çeşittli eşik değerleri için TPR ve FPR değerlerini hesaplayabilirz"
   ]
  },
  {
   "cell_type": "code",
   "execution_count": 34,
   "id": "e40c4333",
   "metadata": {},
   "outputs": [],
   "source": [
    "from sklearn.metrics import roc_curve\n",
    "fpr,tpr,thresholds=roc_curve(y_train_5,y_scores)"
   ]
  },
  {
   "cell_type": "markdown",
   "id": "573ad29a",
   "metadata": {},
   "source": [
    "* daha sonra FPR değerini,TPR'ye karşı çizerek ROC eğrisini oluşturabiliriz\n",
    "* %90 precision'a karşılık gelen noktayı bulmak için,ilgili threshold indeksini belirlememiz gerekir\n",
    "* budurumda threshold değerleri azalan sırada listelendiği için,ilk satırda >= yerine <= kullanırız"
   ]
  },
  {
   "cell_type": "code",
   "execution_count": 35,
   "id": "cbb97b4d",
   "metadata": {},
   "outputs": [
    {
     "data": {
      "text/plain": [
       "np.int64(520)"
      ]
     },
     "execution_count": 35,
     "metadata": {},
     "output_type": "execute_result"
    }
   ],
   "source": [
    "idx_for_threshold_at_90=(thresholds <= threshold_for_90_precision).argmax()\n",
    "idx_for_threshold_at_90"
   ]
  },
  {
   "cell_type": "code",
   "execution_count": 36,
   "id": "762ec5fd",
   "metadata": {},
   "outputs": [],
   "source": [
    "tpr_90,fpr_90=tpr[idx_for_threshold_at_90],fpr[idx_for_threshold_at_90]\n"
   ]
  },
  {
   "cell_type": "code",
   "execution_count": 37,
   "id": "0a48baf2",
   "metadata": {},
   "outputs": [
    {
     "data": {
      "image/png": "[encoded data removed]",
      "text/plain": [
       "<Figure size 640x480 with 1 Axes>"
      ]
     },
     "metadata": {},
     "output_type": "display_data"
    }
   ],
   "source": [
    "plt.plot(fpr,tpr,linewidth=2,label=\"ROC Curve\")\n",
    "plt.plot([0,1],[0,1],\"k:\",label=\"Random Classifier's ROC Curve\")\n",
    "plt.plot([fpr_90],[tpr_90],\"ko\",label=\"Threshold for %90 precision\")\n",
    "plt.xlabel(\"False Positive Rate(Fall-out)\")\n",
    "plt.ylabel(\"True Positive Rate(Recall)\")\n",
    "plt.legend()\n",
    "plt.grid(True)\n",
    "plt.show()"
   ]
  },
  {
   "cell_type": "markdown",
   "id": "69926a6c",
   "metadata": {},
   "source": [
    "* yine bir denge(trade-off) söz konusudur.Recall(TPR) arttıkça,sınıflandırıcının ürettiği yanlış pozitiflerin(FPR) sayısı da artar\n",
    "* noktalı çizgi tamamen rastgele tahmin yapan bir sınıflandırıcının ROC eğrisini temsil eder.\n",
    "* iyi bir sınıflandırıcı bu çizgiden olabildiğince uzakta(yani sol üst köşeye) yakın olmalıdır"
   ]
  },
  {
   "cell_type": "markdown",
   "id": "47a943cc",
   "metadata": {},
   "source": [
    "* sınıflandırıcıları karşılaştırmanın bir yolu,eğrinin altındaki alanı(Area Under the Curve(AUC)) ölçmektir.\n",
    "* kusursuz bir sınıflandırıcı=ROC AUC==1\n",
    "* tamamen rastgele bir sınıflandırıcı=ROC,AUC==0.5\n",
    "* sklearni ROC AUC değerini hesaplamak için özel bir fonksiyon sağlar"
   ]
  },
  {
   "cell_type": "code",
   "execution_count": 38,
   "id": "6f24d00f",
   "metadata": {},
   "outputs": [
    {
     "data": {
      "text/plain": [
       "np.float64(0.9604938554008616)"
      ]
     },
     "execution_count": 38,
     "metadata": {},
     "output_type": "execute_result"
    }
   ],
   "source": [
    "from sklearn.metrics import roc_auc_score\n",
    "roc_auc_score(y_train_5,y_scores)"
   ]
  },
  {
   "cell_type": "markdown",
   "id": "f36f018e",
   "metadata": {},
   "source": [
    "* Şimdi RandomForestClassifier oluşturalım. Böylece RFC'nin PR(precision-recall) eğrisini ve F1 skorunu,SGDClassifier'ın sonuçlarıyla karşılaştıralım"
   ]
  },
  {
   "cell_type": "code",
   "execution_count": 39,
   "id": "233dc502",
   "metadata": {},
   "outputs": [],
   "source": [
    "from sklearn.ensemble import RandomForestClassifier\n",
    "forest_clf=RandomForestClassifier(random_state=42)"
   ]
  },
  {
   "cell_type": "markdown",
   "id": "c704e8f1",
   "metadata": {},
   "source": [
    "* precision_recall_curve() fonksiyonu,her örnek(instance) için etiketler(labels) ve skorlar(scores) bekler\n",
    "* bu nedenle önce RandomForestClassifier'ı eğitmemiz ve her örneğe skor atamasını sağlamamız gerekir\n",
    "* RFC her örnek için tahmini sınıf olasılıklarını döndüren bir predict_proba() metodu vardır\n",
    "* bu durumda pozitif sınıfa ait olasılığı skor olarak kullanabiliriz. böylece precision_recall_curve() fonksiyonu düzgün şekilde çalışır\n",
    "* bunu yapmak için cross_val_predict() fonksiyonunu çağırarak RFC'ı çapraz doğrulama ile eğitebilir ve her görüntü için sınıf olasılıklarını tahmin ettirebilirz\n"
   ]
  },
  {
   "cell_type": "code",
   "execution_count": 40,
   "id": "dc263d22",
   "metadata": {},
   "outputs": [],
   "source": [
    "y_probas_forest=cross_val_predict(forest_clf,X_train,y_train_5,cv=3,method=\"predict_proba\")"
   ]
  },
  {
   "cell_type": "code",
   "execution_count": 41,
   "id": "5017d01c",
   "metadata": {},
   "outputs": [
    {
     "data": {
      "text/plain": [
       "array([[0.11, 0.89],\n",
       "       [0.98, 0.02]])"
      ]
     },
     "execution_count": 41,
     "metadata": {},
     "output_type": "execute_result"
    }
   ],
   "source": [
    "y_probas_forest[:2] #eğitim setindeki ilk 2 resmin sınıf olasılıkları"
   ]
  },
  {
   "cell_type": "markdown",
   "id": "cbf6c7f6",
   "metadata": {},
   "source": [
    "* model ilk görüntünün pozitif olma olasılığını %89,ikinci görüntünün ine negatif olma olasılığını %98 olarak tahmin eder"
   ]
  },
  {
   "cell_type": "markdown",
   "id": "34b88ce8",
   "metadata": {},
   "source": [
    "* ikinci sutun pozitif sınıfa ait tahmini olasılıkları içerir. bu nedenle bu sütünu precision_recall_curve() fonksiyonuna argüman olarak geçirebiliriz"
   ]
  },
  {
   "cell_type": "code",
   "execution_count": 42,
   "id": "e2e4e93c",
   "metadata": {},
   "outputs": [],
   "source": [
    "y_scores_forest=y_probas_forest[:,1]\n",
    "precisions_forest,recalls_forest,thresholds_forest=precision_recall_curve(y_train_5,y_scores_forest)"
   ]
  },
  {
   "cell_type": "code",
   "execution_count": 43,
   "id": "8c70e9f8",
   "metadata": {},
   "outputs": [
    {
     "data": {
      "image/png": "[encoded data removed]",
      "text/plain": [
       "<Figure size 640x480 with 1 Axes>"
      ]
     },
     "metadata": {},
     "output_type": "display_data"
    }
   ],
   "source": [
    "plt.plot(recalls_forest,precisions_forest,\"b--\",linewidth=2,label=\"Random Forest\")\n",
    "plt.plot(recalls,precisions,\"--\",label=\"SGD\")\n",
    "plt.xlabel(\"Recall\")\n",
    "plt.ylabel(\"Precision\")\n",
    "plt.legend()\n",
    "plt.grid(True)\n",
    "plt.show()"
   ]
  },
  {
   "cell_type": "code",
   "execution_count": 44,
   "id": "6ef71020",
   "metadata": {},
   "outputs": [
    {
     "data": {
      "text/plain": [
       "0.9270445185330457"
      ]
     },
     "execution_count": 44,
     "metadata": {},
     "output_type": "execute_result"
    }
   ],
   "source": [
    "y_train_pred_forest=y_probas_forest[:,1]>=0.5 #positive proba\n",
    "f1_score(y_train_5,y_train_pred_forest)\n"
   ]
  },
  {
   "cell_type": "code",
   "execution_count": 45,
   "id": "66d278b2",
   "metadata": {},
   "outputs": [
    {
     "data": {
      "text/plain": [
       "np.float64(0.9983296721818179)"
      ]
     },
     "execution_count": 45,
     "metadata": {},
     "output_type": "execute_result"
    }
   ],
   "source": [
    "roc_auc_score(y_train_5,y_scores_forest)"
   ]
  },
  {
   "cell_type": "markdown",
   "id": "35c69e86",
   "metadata": {},
   "source": [
    "* RandomForestClassifier'ın PR(precision-recall) eğrisi,SGDClassifier'inkinden daha iyi görünüyor.Eğri grafiğin sağ üst köşesine çok daha yakın ilerler.Aycı modelin f1 ve ROC AUC skoru'da belirgin şekilde daha yüksektir"
   ]
  },
  {
   "cell_type": "markdown",
   "id": "8adf9522",
   "metadata": {},
   "source": [
    "# Multiclass Classification(Çok Sınıflı Sınıfladırma)\n",
    "* ikili sınıflandırıcılar(binary classifiers) sadece iki sınıfı ayırt ederken, çok sınıflı sınıflandırıcılar(diğer adıyla multinomial classifiers) ikiden fazla sınıfı birbirinden ayırt edebilir.\n",
    "\n",
    "* Bazı sklearn sınıflandırıcıları(LogisticRegression,RFC,GaussianNB) çok sınıflı problemleri doğrudan(natively) ele alabilir\n",
    "* Dİğerleri ise sadece ikili sınıflandırma için tasarlanmıştır(SGDClassifier,SVC). Bu türk ikili sınıflandırıcılarla da çok sınıflı sınıflandırma yapmak mümkündür\n",
    "* Örneğin rakam görüntülerini 0-9 arasındaki 10 sınıfa ayıran sistem oluşturmak istiyorsak, her biri bir rakamı tespit eden 10 ayrı ikili sınıflandırıcı eğitebilir(0 dedektörü, 5 dedektörü gibi).Daha sonra bir görüntüyü sınıflandırmak istediğimizde,bu 10 sınıflandırıcının her birinden karar skorunu(decision score) alır ve en yüksek skoru üreten sınıfın tahminini seçeriz\n",
    "* bu yaklaşıma one-versus-the-rest(OvR) ya da one-versus-all(OvA) stratejisi denir"
   ]
  },
  {
   "cell_type": "markdown",
   "id": "bcf9bebf",
   "metadata": {},
   "source": [
    "* bir diğer strateji ise, her rakam çifti(digit pair) için ayrı bir ikili sınıflandırcı eğitmektir.örneğin biri 0'lar ile 1'leri,diğeri 0'lar ile 2'leri,bir diğeri 1'ler ile 2'leri ayırt eder vb.Bu yaklalıma one-versus-one(OvO) stratejisi denir\n",
    "* eğer N sınıf(class) varsa,bu durumda N x N(-1)/2 adet sınıflandırıcı eğitmek gerekir.MNIST problemi için bu,45 farklı ikili sınıflandırıcı anlamına gelir\n",
    "* bir görüntüyü sınıflandırmak istediğimizde, bu görüntüyü tüm 45 sınıflandırıcıdan geçirir ve en fazla \"ikili düelloyu\" kazanan sınıfı seçeriz.OvO stratejisinin en büyük avantajı, her sınıflandırıcının sadece ilgili iki sınıfa ait eğitim verileri(training samples) üzerinde eğitilmesidir\n",
    "* bazı algoritmalar-örneğin SVM(support vector machines)- büyük eğitim setlerinde zayıf ölçeklenir(scale poorly).Bu tür algoritmalar için OvO yaklaşımı tercih edilir,cünkü az sayıda örnek içeren küçük alt kümeleri üzerinde çok sayıda sınıflandırıcı eğitmek,büyük veri seti üzerinde birkaç model eğitmekten daha hızlıdır\n",
    "* Ancak çoğu ikili sınıflandırma algoritması için OvR(one-versus-rest) yaklaşımı tercih edilir\n",
    "* Sklearn ikili sınıflandırma algoritmasını multiclass bir görevde kullandığında bunu otomatik algılar ve algoritmanın türüne göre OvR veya OvO stratejisini uygular"
   ]
  },
  {
   "cell_type": "markdown",
   "id": "dee93f89",
   "metadata": {},
   "source": [
    "* Bunu bir de SVM classifier ile deneyelim(eğitim süresi çok uzun olacağı için sadece ilk 2.000 görüntü üzerinde eğitim yapacağız)"
   ]
  },
  {
   "cell_type": "code",
   "execution_count": 46,
   "id": "83920d49",
   "metadata": {},
   "outputs": [
    {
     "data": {
      "text/html": [
       "<style>#sk-container-id-2 {\n",
       "  /* Definition of color scheme common for light and dark mode */\n",
       "  --sklearn-color-text: #000;\n",
       "  --sklearn-color-text-muted: #666;\n",
       "  --sklearn-color-line: gray;\n",
       "  /* Definition of color scheme for unfitted estimators */\n",
       "  --sklearn-color-unfitted-level-0: #fff5e6;\n",
       "  --sklearn-color-unfitted-level-1: #f6e4d2;\n",
       "  --sklearn-color-unfitted-level-2: #ffe0b3;\n",
       "  --sklearn-color-unfitted-level-3: chocolate;\n",
       "  /* Definition of color scheme for fitted estimators */\n",
       "  --sklearn-color-fitted-level-0: #f0f8ff;\n",
       "  --sklearn-color-fitted-level-1: #d4ebff;\n",
       "  --sklearn-color-fitted-level-2: #b3dbfd;\n",
       "  --sklearn-color-fitted-level-3: cornflowerblue;\n",
       "\n",
       "  /* Specific color for light theme */\n",
       "  --sklearn-color-text-on-default-background: var(--sg-text-color, var(--theme-code-foreground, var(--jp-content-font-color1, black)));\n",
       "  --sklearn-color-background: var(--sg-background-color, var(--theme-background, var(--jp-layout-color0, white)));\n",
       "  --sklearn-color-border-box: var(--sg-text-color, var(--theme-code-foreground, var(--jp-content-font-color1, black)));\n",
       "  --sklearn-color-icon: #696969;\n",
       "\n",
       "  @media (prefers-color-scheme: dark) {\n",
       "    /* Redefinition of color scheme for dark theme */\n",
       "    --sklearn-color-text-on-default-background: var(--sg-text-color, var(--theme-code-foreground, var(--jp-content-font-color1, white)));\n",
       "    --sklearn-color-background: var(--sg-background-color, var(--theme-background, var(--jp-layout-color0, #111)));\n",
       "    --sklearn-color-border-box: var(--sg-text-color, var(--theme-code-foreground, var(--jp-content-font-color1, white)));\n",
       "    --sklearn-color-icon: #878787;\n",
       "  }\n",
       "}\n",
       "\n",
       "#sk-container-id-2 {\n",
       "  color: var(--sklearn-color-text);\n",
       "}\n",
       "\n",
       "#sk-container-id-2 pre {\n",
       "  padding: 0;\n",
       "}\n",
       "\n",
       "#sk-container-id-2 input.sk-hidden--visually {\n",
       "  border: 0;\n",
       "  clip: rect(1px 1px 1px 1px);\n",
       "  clip: rect(1px, 1px, 1px, 1px);\n",
       "  height: 1px;\n",
       "  margin: -1px;\n",
       "  overflow: hidden;\n",
       "  padding: 0;\n",
       "  position: absolute;\n",
       "  width: 1px;\n",
       "}\n",
       "\n",
       "#sk-container-id-2 div.sk-dashed-wrapped {\n",
       "  border: 1px dashed var(--sklearn-color-line);\n",
       "  margin: 0 0.4em 0.5em 0.4em;\n",
       "  box-sizing: border-box;\n",
       "  padding-bottom: 0.4em;\n",
       "  background-color: var(--sklearn-color-background);\n",
       "}\n",
       "\n",
       "#sk-container-id-2 div.sk-container {\n",
       "  /* jupyter's `normalize.less` sets `[hidden] { display: none; }`\n",
       "     but bootstrap.min.css set `[hidden] { display: none !important; }`\n",
       "     so we also need the `!important` here to be able to override the\n",
       "     default hidden behavior on the sphinx rendered scikit-learn.org.\n",
       "     See: https://github.com/scikit-learn/scikit-learn/issues/21755 */\n",
       "  display: inline-block !important;\n",
       "  position: relative;\n",
       "}\n",
       "\n",
       "#sk-container-id-2 div.sk-text-repr-fallback {\n",
       "  display: none;\n",
       "}\n",
       "\n",
       "div.sk-parallel-item,\n",
       "div.sk-serial,\n",
       "div.sk-item {\n",
       "  /* draw centered vertical line to link estimators */\n",
       "  background-image: linear-gradient(var(--sklearn-color-text-on-default-background), var(--sklearn-color-text-on-default-background));\n",
       "  background-size: 2px 100%;\n",
       "  background-repeat: no-repeat;\n",
       "  background-position: center center;\n",
       "}\n",
       "\n",
       "/* Parallel-specific style estimator block */\n",
       "\n",
       "#sk-container-id-2 div.sk-parallel-item::after {\n",
       "  content: \"\";\n",
       "  width: 100%;\n",
       "  border-bottom: 2px solid var(--sklearn-color-text-on-default-background);\n",
       "  flex-grow: 1;\n",
       "}\n",
       "\n",
       "#sk-container-id-2 div.sk-parallel {\n",
       "  display: flex;\n",
       "  align-items: stretch;\n",
       "  justify-content: center;\n",
       "  background-color: var(--sklearn-color-background);\n",
       "  position: relative;\n",
       "}\n",
       "\n",
       "#sk-container-id-2 div.sk-parallel-item {\n",
       "  display: flex;\n",
       "  flex-direction: column;\n",
       "}\n",
       "\n",
       "#sk-container-id-2 div.sk-parallel-item:first-child::after {\n",
       "  align-self: flex-end;\n",
       "  width: 50%;\n",
       "}\n",
       "\n",
       "#sk-container-id-2 div.sk-parallel-item:last-child::after {\n",
       "  align-self: flex-start;\n",
       "  width: 50%;\n",
       "}\n",
       "\n",
       "#sk-container-id-2 div.sk-parallel-item:only-child::after {\n",
       "  width: 0;\n",
       "}\n",
       "\n",
       "/* Serial-specific style estimator block */\n",
       "\n",
       "#sk-container-id-2 div.sk-serial {\n",
       "  display: flex;\n",
       "  flex-direction: column;\n",
       "  align-items: center;\n",
       "  background-color: var(--sklearn-color-background);\n",
       "  padding-right: 1em;\n",
       "  padding-left: 1em;\n",
       "}\n",
       "\n",
       "\n",
       "/* Toggleable style: style used for estimator/Pipeline/ColumnTransformer box that is\n",
       "clickable and can be expanded/collapsed.\n",
       "- Pipeline and ColumnTransformer use this feature and define the default style\n",
       "- Estimators will overwrite some part of the style using the `sk-estimator` class\n",
       "*/\n",
       "\n",
       "/* Pipeline and ColumnTransformer style (default) */\n",
       "\n",
       "#sk-container-id-2 div.sk-toggleable {\n",
       "  /* Default theme specific background. It is overwritten whether we have a\n",
       "  specific estimator or a Pipeline/ColumnTransformer */\n",
       "  background-color: var(--sklearn-color-background);\n",
       "}\n",
       "\n",
       "/* Toggleable label */\n",
       "#sk-container-id-2 label.sk-toggleable__label {\n",
       "  cursor: pointer;\n",
       "  display: flex;\n",
       "  width: 100%;\n",
       "  margin-bottom: 0;\n",
       "  padding: 0.5em;\n",
       "  box-sizing: border-box;\n",
       "  text-align: center;\n",
       "  align-items: start;\n",
       "  justify-content: space-between;\n",
       "  gap: 0.5em;\n",
       "}\n",
       "\n",
       "#sk-container-id-2 label.sk-toggleable__label .caption {\n",
       "  font-size: 0.6rem;\n",
       "  font-weight: lighter;\n",
       "  color: var(--sklearn-color-text-muted);\n",
       "}\n",
       "\n",
       "#sk-container-id-2 label.sk-toggleable__label-arrow:before {\n",
       "  /* Arrow on the left of the label */\n",
       "  content: \"▸\";\n",
       "  float: left;\n",
       "  margin-right: 0.25em;\n",
       "  color: var(--sklearn-color-icon);\n",
       "}\n",
       "\n",
       "#sk-container-id-2 label.sk-toggleable__label-arrow:hover:before {\n",
       "  color: var(--sklearn-color-text);\n",
       "}\n",
       "\n",
       "/* Toggleable content - dropdown */\n",
       "\n",
       "#sk-container-id-2 div.sk-toggleable__content {\n",
       "  max-height: 0;\n",
       "  max-width: 0;\n",
       "  overflow: hidden;\n",
       "  text-align: left;\n",
       "  /* unfitted */\n",
       "  background-color: var(--sklearn-color-unfitted-level-0);\n",
       "}\n",
       "\n",
       "#sk-container-id-2 div.sk-toggleable__content.fitted {\n",
       "  /* fitted */\n",
       "  background-color: var(--sklearn-color-fitted-level-0);\n",
       "}\n",
       "\n",
       "#sk-container-id-2 div.sk-toggleable__content pre {\n",
       "  margin: 0.2em;\n",
       "  border-radius: 0.25em;\n",
       "  color: var(--sklearn-color-text);\n",
       "  /* unfitted */\n",
       "  background-color: var(--sklearn-color-unfitted-level-0);\n",
       "}\n",
       "\n",
       "#sk-container-id-2 div.sk-toggleable__content.fitted pre {\n",
       "  /* unfitted */\n",
       "  background-color: var(--sklearn-color-fitted-level-0);\n",
       "}\n",
       "\n",
       "#sk-container-id-2 input.sk-toggleable__control:checked~div.sk-toggleable__content {\n",
       "  /* Expand drop-down */\n",
       "  max-height: 200px;\n",
       "  max-width: 100%;\n",
       "  overflow: auto;\n",
       "}\n",
       "\n",
       "#sk-container-id-2 input.sk-toggleable__control:checked~label.sk-toggleable__label-arrow:before {\n",
       "  content: \"▾\";\n",
       "}\n",
       "\n",
       "/* Pipeline/ColumnTransformer-specific style */\n",
       "\n",
       "#sk-container-id-2 div.sk-label input.sk-toggleable__control:checked~label.sk-toggleable__label {\n",
       "  color: var(--sklearn-color-text);\n",
       "  background-color: var(--sklearn-color-unfitted-level-2);\n",
       "}\n",
       "\n",
       "#sk-container-id-2 div.sk-label.fitted input.sk-toggleable__control:checked~label.sk-toggleable__label {\n",
       "  background-color: var(--sklearn-color-fitted-level-2);\n",
       "}\n",
       "\n",
       "/* Estimator-specific style */\n",
       "\n",
       "/* Colorize estimator box */\n",
       "#sk-container-id-2 div.sk-estimator input.sk-toggleable__control:checked~label.sk-toggleable__label {\n",
       "  /* unfitted */\n",
       "  background-color: var(--sklearn-color-unfitted-level-2);\n",
       "}\n",
       "\n",
       "#sk-container-id-2 div.sk-estimator.fitted input.sk-toggleable__control:checked~label.sk-toggleable__label {\n",
       "  /* fitted */\n",
       "  background-color: var(--sklearn-color-fitted-level-2);\n",
       "}\n",
       "\n",
       "#sk-container-id-2 div.sk-label label.sk-toggleable__label,\n",
       "#sk-container-id-2 div.sk-label label {\n",
       "  /* The background is the default theme color */\n",
       "  color: var(--sklearn-color-text-on-default-background);\n",
       "}\n",
       "\n",
       "/* On hover, darken the color of the background */\n",
       "#sk-container-id-2 div.sk-label:hover label.sk-toggleable__label {\n",
       "  color: var(--sklearn-color-text);\n",
       "  background-color: var(--sklearn-color-unfitted-level-2);\n",
       "}\n",
       "\n",
       "/* Label box, darken color on hover, fitted */\n",
       "#sk-container-id-2 div.sk-label.fitted:hover label.sk-toggleable__label.fitted {\n",
       "  color: var(--sklearn-color-text);\n",
       "  background-color: var(--sklearn-color-fitted-level-2);\n",
       "}\n",
       "\n",
       "/* Estimator label */\n",
       "\n",
       "#sk-container-id-2 div.sk-label label {\n",
       "  font-family: monospace;\n",
       "  font-weight: bold;\n",
       "  display: inline-block;\n",
       "  line-height: 1.2em;\n",
       "}\n",
       "\n",
       "#sk-container-id-2 div.sk-label-container {\n",
       "  text-align: center;\n",
       "}\n",
       "\n",
       "/* Estimator-specific */\n",
       "#sk-container-id-2 div.sk-estimator {\n",
       "  font-family: monospace;\n",
       "  border: 1px dotted var(--sklearn-color-border-box);\n",
       "  border-radius: 0.25em;\n",
       "  box-sizing: border-box;\n",
       "  margin-bottom: 0.5em;\n",
       "  /* unfitted */\n",
       "  background-color: var(--sklearn-color-unfitted-level-0);\n",
       "}\n",
       "\n",
       "#sk-container-id-2 div.sk-estimator.fitted {\n",
       "  /* fitted */\n",
       "  background-color: var(--sklearn-color-fitted-level-0);\n",
       "}\n",
       "\n",
       "/* on hover */\n",
       "#sk-container-id-2 div.sk-estimator:hover {\n",
       "  /* unfitted */\n",
       "  background-color: var(--sklearn-color-unfitted-level-2);\n",
       "}\n",
       "\n",
       "#sk-container-id-2 div.sk-estimator.fitted:hover {\n",
       "  /* fitted */\n",
       "  background-color: var(--sklearn-color-fitted-level-2);\n",
       "}\n",
       "\n",
       "/* Specification for estimator info (e.g. \"i\" and \"?\") */\n",
       "\n",
       "/* Common style for \"i\" and \"?\" */\n",
       "\n",
       ".sk-estimator-doc-link,\n",
       "a:link.sk-estimator-doc-link,\n",
       "a:visited.sk-estimator-doc-link {\n",
       "  float: right;\n",
       "  font-size: smaller;\n",
       "  line-height: 1em;\n",
       "  font-family: monospace;\n",
       "  background-color: var(--sklearn-color-background);\n",
       "  border-radius: 1em;\n",
       "  height: 1em;\n",
       "  width: 1em;\n",
       "  text-decoration: none !important;\n",
       "  margin-left: 0.5em;\n",
       "  text-align: center;\n",
       "  /* unfitted */\n",
       "  border: var(--sklearn-color-unfitted-level-1) 1pt solid;\n",
       "  color: var(--sklearn-color-unfitted-level-1);\n",
       "}\n",
       "\n",
       ".sk-estimator-doc-link.fitted,\n",
       "a:link.sk-estimator-doc-link.fitted,\n",
       "a:visited.sk-estimator-doc-link.fitted {\n",
       "  /* fitted */\n",
       "  border: var(--sklearn-color-fitted-level-1) 1pt solid;\n",
       "  color: var(--sklearn-color-fitted-level-1);\n",
       "}\n",
       "\n",
       "/* On hover */\n",
       "div.sk-estimator:hover .sk-estimator-doc-link:hover,\n",
       ".sk-estimator-doc-link:hover,\n",
       "div.sk-label-container:hover .sk-estimator-doc-link:hover,\n",
       ".sk-estimator-doc-link:hover {\n",
       "  /* unfitted */\n",
       "  background-color: var(--sklearn-color-unfitted-level-3);\n",
       "  color: var(--sklearn-color-background);\n",
       "  text-decoration: none;\n",
       "}\n",
       "\n",
       "div.sk-estimator.fitted:hover .sk-estimator-doc-link.fitted:hover,\n",
       ".sk-estimator-doc-link.fitted:hover,\n",
       "div.sk-label-container:hover .sk-estimator-doc-link.fitted:hover,\n",
       ".sk-estimator-doc-link.fitted:hover {\n",
       "  /* fitted */\n",
       "  background-color: var(--sklearn-color-fitted-level-3);\n",
       "  color: var(--sklearn-color-background);\n",
       "  text-decoration: none;\n",
       "}\n",
       "\n",
       "/* Span, style for the box shown on hovering the info icon */\n",
       ".sk-estimator-doc-link span {\n",
       "  display: none;\n",
       "  z-index: 9999;\n",
       "  position: relative;\n",
       "  font-weight: normal;\n",
       "  right: .2ex;\n",
       "  padding: .5ex;\n",
       "  margin: .5ex;\n",
       "  width: min-content;\n",
       "  min-width: 20ex;\n",
       "  max-width: 50ex;\n",
       "  color: var(--sklearn-color-text);\n",
       "  box-shadow: 2pt 2pt 4pt #999;\n",
       "  /* unfitted */\n",
       "  background: var(--sklearn-color-unfitted-level-0);\n",
       "  border: .5pt solid var(--sklearn-color-unfitted-level-3);\n",
       "}\n",
       "\n",
       ".sk-estimator-doc-link.fitted span {\n",
       "  /* fitted */\n",
       "  background: var(--sklearn-color-fitted-level-0);\n",
       "  border: var(--sklearn-color-fitted-level-3);\n",
       "}\n",
       "\n",
       ".sk-estimator-doc-link:hover span {\n",
       "  display: block;\n",
       "}\n",
       "\n",
       "/* \"?\"-specific style due to the `<a>` HTML tag */\n",
       "\n",
       "#sk-container-id-2 a.estimator_doc_link {\n",
       "  float: right;\n",
       "  font-size: 1rem;\n",
       "  line-height: 1em;\n",
       "  font-family: monospace;\n",
       "  background-color: var(--sklearn-color-background);\n",
       "  border-radius: 1rem;\n",
       "  height: 1rem;\n",
       "  width: 1rem;\n",
       "  text-decoration: none;\n",
       "  /* unfitted */\n",
       "  color: var(--sklearn-color-unfitted-level-1);\n",
       "  border: var(--sklearn-color-unfitted-level-1) 1pt solid;\n",
       "}\n",
       "\n",
       "#sk-container-id-2 a.estimator_doc_link.fitted {\n",
       "  /* fitted */\n",
       "  border: var(--sklearn-color-fitted-level-1) 1pt solid;\n",
       "  color: var(--sklearn-color-fitted-level-1);\n",
       "}\n",
       "\n",
       "/* On hover */\n",
       "#sk-container-id-2 a.estimator_doc_link:hover {\n",
       "  /* unfitted */\n",
       "  background-color: var(--sklearn-color-unfitted-level-3);\n",
       "  color: var(--sklearn-color-background);\n",
       "  text-decoration: none;\n",
       "}\n",
       "\n",
       "#sk-container-id-2 a.estimator_doc_link.fitted:hover {\n",
       "  /* fitted */\n",
       "  background-color: var(--sklearn-color-fitted-level-3);\n",
       "}\n",
       "</style><div id=\"sk-container-id-2\" class=\"sk-top-container\"><div class=\"sk-text-repr-fallback\"><pre>SVC(random_state=42)</pre><b>In a Jupyter environment, please rerun this cell to show the HTML representation or trust the notebook. <br />On GitHub, the HTML representation is unable to render, please try loading this page with nbviewer.org.</b></div><div class=\"sk-container\" hidden><div class=\"sk-item\"><div class=\"sk-estimator fitted sk-toggleable\"><input class=\"sk-toggleable__control sk-hidden--visually\" id=\"sk-estimator-id-2\" type=\"checkbox\" checked><label for=\"sk-estimator-id-2\" class=\"sk-toggleable__label fitted sk-toggleable__label-arrow\"><div><div>SVC</div></div><div><a class=\"sk-estimator-doc-link fitted\" rel=\"noreferrer\" target=\"_blank\" href=\"https://scikit-learn.org/1.6/modules/generated/sklearn.svm.SVC.html\">?<span>Documentation for SVC</span></a><span class=\"sk-estimator-doc-link fitted\">i<span>Fitted</span></span></div></label><div class=\"sk-toggleable__content fitted\"><pre>SVC(random_state=42)</pre></div> </div></div></div></div>"
      ],
      "text/plain": [
       "SVC(random_state=42)"
      ]
     },
     "execution_count": 46,
     "metadata": {},
     "output_type": "execute_result"
    }
   ],
   "source": [
    "from sklearn.svm import SVC\n",
    "svm_clf=SVC(random_state=42)\n",
    "svm_clf.fit(X_train[:2000],y_train[:2000]) #y_train_5 değil"
   ]
  },
  {
   "cell_type": "markdown",
   "id": "412725a1",
   "metadata": {},
   "source": [
    "* burada modeli 0'dan 9'a kadar olan orijinal hedeh sınıflarla(y_train) eğittik(yani 5 versus-the-rest(y_train_5) yerine tüm rakamları içeren hedef kullandık)\n",
    "* toplam 10 sınıf olduğu için sklearn otomatik olarak OvO(one-versus-one) stratejisini seçti ve 45 adet ikili sınıflandırıcı(binary classifier) eğitti\n",
    "* şimdi bir image üzerinde tahmin yapalım"
   ]
  },
  {
   "cell_type": "code",
   "execution_count": 47,
   "id": "2c63b9cf",
   "metadata": {},
   "outputs": [
    {
     "data": {
      "text/plain": [
       "array(['5'], dtype=object)"
      ]
     },
     "execution_count": 47,
     "metadata": {},
     "output_type": "execute_result"
    }
   ],
   "source": [
    "svm_clf.predict([some_digit])"
   ]
  },
  {
   "cell_type": "markdown",
   "id": "699c7643",
   "metadata": {},
   "source": [
    "* bu kod aslında 45 tahmin yaptı- her biri sınıf çifti(class pair) için tahmin-.Sonrasında en fazla ikili duelloyu kazanan sınıf nihai tahmin olarak seçildi\n",
    "* eğer decision_function metodunu çağırırsak,her örnek için 10 farklı skor döndürüldüğünü görürüz.(yani her sınıf için bir skor)\n",
    "* her sınıfın skoru,kazandığı düello sayısına(number of won duels) eşittir.Ancak eşitlik durumlarını(ties) bozmak için sınıflandırıcı skorlarına göre küçük bir ayarlama(max ±0.33) eklenir ya da çıkarılır"
   ]
  },
  {
   "cell_type": "code",
   "execution_count": 48,
   "id": "4707125a",
   "metadata": {},
   "outputs": [
    {
     "data": {
      "text/plain": [
       "array([[ 3.79,  0.73,  6.06,  8.3 , -0.29,  9.3 ,  1.75,  2.77,  7.21,\n",
       "         4.82]])"
      ]
     },
     "execution_count": 48,
     "metadata": {},
     "output_type": "execute_result"
    }
   ],
   "source": [
    "some_digit_scores=svm_clf.decision_function([some_digit])\n",
    "some_digit_scores.round(2)"
   ]
  },
  {
   "cell_type": "code",
   "execution_count": 49,
   "id": "f3e27fc7",
   "metadata": {},
   "outputs": [
    {
     "data": {
      "text/plain": [
       "np.int64(5)"
      ]
     },
     "execution_count": 49,
     "metadata": {},
     "output_type": "execute_result"
    }
   ],
   "source": [
    "class_id=some_digit_scores.argmax()\n",
    "class_id"
   ]
  },
  {
   "cell_type": "markdown",
   "id": "d58c5961",
   "metadata": {},
   "source": [
    "* en yüksek skor 9.3 tür ve bu skor gerçekten de 5. sınıfa (class 5) karşılık gelmektedir"
   ]
  },
  {
   "cell_type": "markdown",
   "id": "94ffb3ca",
   "metadata": {},
   "source": [
    "* bir sınıflandırıcı eğitildiğinde,hedef sınıfların(target classes) listesini \"classes_\" adlı özniteliğinde saklar(bu liste değer sırasına göre ) düzenlenir\n",
    "* MNIST örneğinde, classes_ dizisindeki her sınıfın indexi,tesadüfen sınıfın kendisiyle aynı. (örneğin dizideki 5.index sınıf \"5\" e eşittir.)\n",
    "* Ancak genelde bu kadar şanslı olmayız , bu durumda sınıf etiketini şu şekilde buluruz"
   ]
  },
  {
   "cell_type": "code",
   "execution_count": 50,
   "id": "8ea898e2",
   "metadata": {},
   "outputs": [
    {
     "data": {
      "text/plain": [
       "array(['0', '1', '2', '3', '4', '5', '6', '7', '8', '9'], dtype=object)"
      ]
     },
     "execution_count": 50,
     "metadata": {},
     "output_type": "execute_result"
    }
   ],
   "source": [
    "svm_clf.classes_"
   ]
  },
  {
   "cell_type": "code",
   "execution_count": 51,
   "id": "44a83b12",
   "metadata": {},
   "outputs": [
    {
     "data": {
      "text/plain": [
       "'5'"
      ]
     },
     "execution_count": 51,
     "metadata": {},
     "output_type": "execute_result"
    }
   ],
   "source": [
    "svm_clf.classes_[class_id]"
   ]
  },
  {
   "cell_type": "markdown",
   "id": "a85dc255",
   "metadata": {},
   "source": [
    "* eğer sklearn'ün one-versus-one(OvO) veya one-versus-the-rest(OvR) stratejilerinden birini zorunlu kullanmasını(force) istiyorsak, bunu OneVsOneClassifier veya OneVsRestClassifier sınıflarıyla yaparız\n",
    "* yapmamız gereken bu sınıflardan birinin örneğini(instance) oluşturmak ve kurucusuna(constructor) bir sınıflandırıcı(classifier) vermektir.\n",
    "* örneğin aşağıdaki kod bir SVC tabanlı çok sınıflı bir sınıflandırıcı oluşturur ve OvR(one-versus-rest) stratejisini kullanır"
   ]
  },
  {
   "cell_type": "code",
   "execution_count": 52,
   "id": "42dbe21d",
   "metadata": {},
   "outputs": [
    {
     "data": {
      "text/html": [
       "<style>#sk-container-id-3 {\n",
       "  /* Definition of color scheme common for light and dark mode */\n",
       "  --sklearn-color-text: #000;\n",
       "  --sklearn-color-text-muted: #666;\n",
       "  --sklearn-color-line: gray;\n",
       "  /* Definition of color scheme for unfitted estimators */\n",
       "  --sklearn-color-unfitted-level-0: #fff5e6;\n",
       "  --sklearn-color-unfitted-level-1: #f6e4d2;\n",
       "  --sklearn-color-unfitted-level-2: #ffe0b3;\n",
       "  --sklearn-color-unfitted-level-3: chocolate;\n",
       "  /* Definition of color scheme for fitted estimators */\n",
       "  --sklearn-color-fitted-level-0: #f0f8ff;\n",
       "  --sklearn-color-fitted-level-1: #d4ebff;\n",
       "  --sklearn-color-fitted-level-2: #b3dbfd;\n",
       "  --sklearn-color-fitted-level-3: cornflowerblue;\n",
       "\n",
       "  /* Specific color for light theme */\n",
       "  --sklearn-color-text-on-default-background: var(--sg-text-color, var(--theme-code-foreground, var(--jp-content-font-color1, black)));\n",
       "  --sklearn-color-background: var(--sg-background-color, var(--theme-background, var(--jp-layout-color0, white)));\n",
       "  --sklearn-color-border-box: var(--sg-text-color, var(--theme-code-foreground, var(--jp-content-font-color1, black)));\n",
       "  --sklearn-color-icon: #696969;\n",
       "\n",
       "  @media (prefers-color-scheme: dark) {\n",
       "    /* Redefinition of color scheme for dark theme */\n",
       "    --sklearn-color-text-on-default-background: var(--sg-text-color, var(--theme-code-foreground, var(--jp-content-font-color1, white)));\n",
       "    --sklearn-color-background: var(--sg-background-color, var(--theme-background, var(--jp-layout-color0, #111)));\n",
       "    --sklearn-color-border-box: var(--sg-text-color, var(--theme-code-foreground, var(--jp-content-font-color1, white)));\n",
       "    --sklearn-color-icon: #878787;\n",
       "  }\n",
       "}\n",
       "\n",
       "#sk-container-id-3 {\n",
       "  color: var(--sklearn-color-text);\n",
       "}\n",
       "\n",
       "#sk-container-id-3 pre {\n",
       "  padding: 0;\n",
       "}\n",
       "\n",
       "#sk-container-id-3 input.sk-hidden--visually {\n",
       "  border: 0;\n",
       "  clip: rect(1px 1px 1px 1px);\n",
       "  clip: rect(1px, 1px, 1px, 1px);\n",
       "  height: 1px;\n",
       "  margin: -1px;\n",
       "  overflow: hidden;\n",
       "  padding: 0;\n",
       "  position: absolute;\n",
       "  width: 1px;\n",
       "}\n",
       "\n",
       "#sk-container-id-3 div.sk-dashed-wrapped {\n",
       "  border: 1px dashed var(--sklearn-color-line);\n",
       "  margin: 0 0.4em 0.5em 0.4em;\n",
       "  box-sizing: border-box;\n",
       "  padding-bottom: 0.4em;\n",
       "  background-color: var(--sklearn-color-background);\n",
       "}\n",
       "\n",
       "#sk-container-id-3 div.sk-container {\n",
       "  /* jupyter's `normalize.less` sets `[hidden] { display: none; }`\n",
       "     but bootstrap.min.css set `[hidden] { display: none !important; }`\n",
       "     so we also need the `!important` here to be able to override the\n",
       "     default hidden behavior on the sphinx rendered scikit-learn.org.\n",
       "     See: https://github.com/scikit-learn/scikit-learn/issues/21755 */\n",
       "  display: inline-block !important;\n",
       "  position: relative;\n",
       "}\n",
       "\n",
       "#sk-container-id-3 div.sk-text-repr-fallback {\n",
       "  display: none;\n",
       "}\n",
       "\n",
       "div.sk-parallel-item,\n",
       "div.sk-serial,\n",
       "div.sk-item {\n",
       "  /* draw centered vertical line to link estimators */\n",
       "  background-image: linear-gradient(var(--sklearn-color-text-on-default-background), var(--sklearn-color-text-on-default-background));\n",
       "  background-size: 2px 100%;\n",
       "  background-repeat: no-repeat;\n",
       "  background-position: center center;\n",
       "}\n",
       "\n",
       "/* Parallel-specific style estimator block */\n",
       "\n",
       "#sk-container-id-3 div.sk-parallel-item::after {\n",
       "  content: \"\";\n",
       "  width: 100%;\n",
       "  border-bottom: 2px solid var(--sklearn-color-text-on-default-background);\n",
       "  flex-grow: 1;\n",
       "}\n",
       "\n",
       "#sk-container-id-3 div.sk-parallel {\n",
       "  display: flex;\n",
       "  align-items: stretch;\n",
       "  justify-content: center;\n",
       "  background-color: var(--sklearn-color-background);\n",
       "  position: relative;\n",
       "}\n",
       "\n",
       "#sk-container-id-3 div.sk-parallel-item {\n",
       "  display: flex;\n",
       "  flex-direction: column;\n",
       "}\n",
       "\n",
       "#sk-container-id-3 div.sk-parallel-item:first-child::after {\n",
       "  align-self: flex-end;\n",
       "  width: 50%;\n",
       "}\n",
       "\n",
       "#sk-container-id-3 div.sk-parallel-item:last-child::after {\n",
       "  align-self: flex-start;\n",
       "  width: 50%;\n",
       "}\n",
       "\n",
       "#sk-container-id-3 div.sk-parallel-item:only-child::after {\n",
       "  width: 0;\n",
       "}\n",
       "\n",
       "/* Serial-specific style estimator block */\n",
       "\n",
       "#sk-container-id-3 div.sk-serial {\n",
       "  display: flex;\n",
       "  flex-direction: column;\n",
       "  align-items: center;\n",
       "  background-color: var(--sklearn-color-background);\n",
       "  padding-right: 1em;\n",
       "  padding-left: 1em;\n",
       "}\n",
       "\n",
       "\n",
       "/* Toggleable style: style used for estimator/Pipeline/ColumnTransformer box that is\n",
       "clickable and can be expanded/collapsed.\n",
       "- Pipeline and ColumnTransformer use this feature and define the default style\n",
       "- Estimators will overwrite some part of the style using the `sk-estimator` class\n",
       "*/\n",
       "\n",
       "/* Pipeline and ColumnTransformer style (default) */\n",
       "\n",
       "#sk-container-id-3 div.sk-toggleable {\n",
       "  /* Default theme specific background. It is overwritten whether we have a\n",
       "  specific estimator or a Pipeline/ColumnTransformer */\n",
       "  background-color: var(--sklearn-color-background);\n",
       "}\n",
       "\n",
       "/* Toggleable label */\n",
       "#sk-container-id-3 label.sk-toggleable__label {\n",
       "  cursor: pointer;\n",
       "  display: flex;\n",
       "  width: 100%;\n",
       "  margin-bottom: 0;\n",
       "  padding: 0.5em;\n",
       "  box-sizing: border-box;\n",
       "  text-align: center;\n",
       "  align-items: start;\n",
       "  justify-content: space-between;\n",
       "  gap: 0.5em;\n",
       "}\n",
       "\n",
       "#sk-container-id-3 label.sk-toggleable__label .caption {\n",
       "  font-size: 0.6rem;\n",
       "  font-weight: lighter;\n",
       "  color: var(--sklearn-color-text-muted);\n",
       "}\n",
       "\n",
       "#sk-container-id-3 label.sk-toggleable__label-arrow:before {\n",
       "  /* Arrow on the left of the label */\n",
       "  content: \"▸\";\n",
       "  float: left;\n",
       "  margin-right: 0.25em;\n",
       "  color: var(--sklearn-color-icon);\n",
       "}\n",
       "\n",
       "#sk-container-id-3 label.sk-toggleable__label-arrow:hover:before {\n",
       "  color: var(--sklearn-color-text);\n",
       "}\n",
       "\n",
       "/* Toggleable content - dropdown */\n",
       "\n",
       "#sk-container-id-3 div.sk-toggleable__content {\n",
       "  max-height: 0;\n",
       "  max-width: 0;\n",
       "  overflow: hidden;\n",
       "  text-align: left;\n",
       "  /* unfitted */\n",
       "  background-color: var(--sklearn-color-unfitted-level-0);\n",
       "}\n",
       "\n",
       "#sk-container-id-3 div.sk-toggleable__content.fitted {\n",
       "  /* fitted */\n",
       "  background-color: var(--sklearn-color-fitted-level-0);\n",
       "}\n",
       "\n",
       "#sk-container-id-3 div.sk-toggleable__content pre {\n",
       "  margin: 0.2em;\n",
       "  border-radius: 0.25em;\n",
       "  color: var(--sklearn-color-text);\n",
       "  /* unfitted */\n",
       "  background-color: var(--sklearn-color-unfitted-level-0);\n",
       "}\n",
       "\n",
       "#sk-container-id-3 div.sk-toggleable__content.fitted pre {\n",
       "  /* unfitted */\n",
       "  background-color: var(--sklearn-color-fitted-level-0);\n",
       "}\n",
       "\n",
       "#sk-container-id-3 input.sk-toggleable__control:checked~div.sk-toggleable__content {\n",
       "  /* Expand drop-down */\n",
       "  max-height: 200px;\n",
       "  max-width: 100%;\n",
       "  overflow: auto;\n",
       "}\n",
       "\n",
       "#sk-container-id-3 input.sk-toggleable__control:checked~label.sk-toggleable__label-arrow:before {\n",
       "  content: \"▾\";\n",
       "}\n",
       "\n",
       "/* Pipeline/ColumnTransformer-specific style */\n",
       "\n",
       "#sk-container-id-3 div.sk-label input.sk-toggleable__control:checked~label.sk-toggleable__label {\n",
       "  color: var(--sklearn-color-text);\n",
       "  background-color: var(--sklearn-color-unfitted-level-2);\n",
       "}\n",
       "\n",
       "#sk-container-id-3 div.sk-label.fitted input.sk-toggleable__control:checked~label.sk-toggleable__label {\n",
       "  background-color: var(--sklearn-color-fitted-level-2);\n",
       "}\n",
       "\n",
       "/* Estimator-specific style */\n",
       "\n",
       "/* Colorize estimator box */\n",
       "#sk-container-id-3 div.sk-estimator input.sk-toggleable__control:checked~label.sk-toggleable__label {\n",
       "  /* unfitted */\n",
       "  background-color: var(--sklearn-color-unfitted-level-2);\n",
       "}\n",
       "\n",
       "#sk-container-id-3 div.sk-estimator.fitted input.sk-toggleable__control:checked~label.sk-toggleable__label {\n",
       "  /* fitted */\n",
       "  background-color: var(--sklearn-color-fitted-level-2);\n",
       "}\n",
       "\n",
       "#sk-container-id-3 div.sk-label label.sk-toggleable__label,\n",
       "#sk-container-id-3 div.sk-label label {\n",
       "  /* The background is the default theme color */\n",
       "  color: var(--sklearn-color-text-on-default-background);\n",
       "}\n",
       "\n",
       "/* On hover, darken the color of the background */\n",
       "#sk-container-id-3 div.sk-label:hover label.sk-toggleable__label {\n",
       "  color: var(--sklearn-color-text);\n",
       "  background-color: var(--sklearn-color-unfitted-level-2);\n",
       "}\n",
       "\n",
       "/* Label box, darken color on hover, fitted */\n",
       "#sk-container-id-3 div.sk-label.fitted:hover label.sk-toggleable__label.fitted {\n",
       "  color: var(--sklearn-color-text);\n",
       "  background-color: var(--sklearn-color-fitted-level-2);\n",
       "}\n",
       "\n",
       "/* Estimator label */\n",
       "\n",
       "#sk-container-id-3 div.sk-label label {\n",
       "  font-family: monospace;\n",
       "  font-weight: bold;\n",
       "  display: inline-block;\n",
       "  line-height: 1.2em;\n",
       "}\n",
       "\n",
       "#sk-container-id-3 div.sk-label-container {\n",
       "  text-align: center;\n",
       "}\n",
       "\n",
       "/* Estimator-specific */\n",
       "#sk-container-id-3 div.sk-estimator {\n",
       "  font-family: monospace;\n",
       "  border: 1px dotted var(--sklearn-color-border-box);\n",
       "  border-radius: 0.25em;\n",
       "  box-sizing: border-box;\n",
       "  margin-bottom: 0.5em;\n",
       "  /* unfitted */\n",
       "  background-color: var(--sklearn-color-unfitted-level-0);\n",
       "}\n",
       "\n",
       "#sk-container-id-3 div.sk-estimator.fitted {\n",
       "  /* fitted */\n",
       "  background-color: var(--sklearn-color-fitted-level-0);\n",
       "}\n",
       "\n",
       "/* on hover */\n",
       "#sk-container-id-3 div.sk-estimator:hover {\n",
       "  /* unfitted */\n",
       "  background-color: var(--sklearn-color-unfitted-level-2);\n",
       "}\n",
       "\n",
       "#sk-container-id-3 div.sk-estimator.fitted:hover {\n",
       "  /* fitted */\n",
       "  background-color: var(--sklearn-color-fitted-level-2);\n",
       "}\n",
       "\n",
       "/* Specification for estimator info (e.g. \"i\" and \"?\") */\n",
       "\n",
       "/* Common style for \"i\" and \"?\" */\n",
       "\n",
       ".sk-estimator-doc-link,\n",
       "a:link.sk-estimator-doc-link,\n",
       "a:visited.sk-estimator-doc-link {\n",
       "  float: right;\n",
       "  font-size: smaller;\n",
       "  line-height: 1em;\n",
       "  font-family: monospace;\n",
       "  background-color: var(--sklearn-color-background);\n",
       "  border-radius: 1em;\n",
       "  height: 1em;\n",
       "  width: 1em;\n",
       "  text-decoration: none !important;\n",
       "  margin-left: 0.5em;\n",
       "  text-align: center;\n",
       "  /* unfitted */\n",
       "  border: var(--sklearn-color-unfitted-level-1) 1pt solid;\n",
       "  color: var(--sklearn-color-unfitted-level-1);\n",
       "}\n",
       "\n",
       ".sk-estimator-doc-link.fitted,\n",
       "a:link.sk-estimator-doc-link.fitted,\n",
       "a:visited.sk-estimator-doc-link.fitted {\n",
       "  /* fitted */\n",
       "  border: var(--sklearn-color-fitted-level-1) 1pt solid;\n",
       "  color: var(--sklearn-color-fitted-level-1);\n",
       "}\n",
       "\n",
       "/* On hover */\n",
       "div.sk-estimator:hover .sk-estimator-doc-link:hover,\n",
       ".sk-estimator-doc-link:hover,\n",
       "div.sk-label-container:hover .sk-estimator-doc-link:hover,\n",
       ".sk-estimator-doc-link:hover {\n",
       "  /* unfitted */\n",
       "  background-color: var(--sklearn-color-unfitted-level-3);\n",
       "  color: var(--sklearn-color-background);\n",
       "  text-decoration: none;\n",
       "}\n",
       "\n",
       "div.sk-estimator.fitted:hover .sk-estimator-doc-link.fitted:hover,\n",
       ".sk-estimator-doc-link.fitted:hover,\n",
       "div.sk-label-container:hover .sk-estimator-doc-link.fitted:hover,\n",
       ".sk-estimator-doc-link.fitted:hover {\n",
       "  /* fitted */\n",
       "  background-color: var(--sklearn-color-fitted-level-3);\n",
       "  color: var(--sklearn-color-background);\n",
       "  text-decoration: none;\n",
       "}\n",
       "\n",
       "/* Span, style for the box shown on hovering the info icon */\n",
       ".sk-estimator-doc-link span {\n",
       "  display: none;\n",
       "  z-index: 9999;\n",
       "  position: relative;\n",
       "  font-weight: normal;\n",
       "  right: .2ex;\n",
       "  padding: .5ex;\n",
       "  margin: .5ex;\n",
       "  width: min-content;\n",
       "  min-width: 20ex;\n",
       "  max-width: 50ex;\n",
       "  color: var(--sklearn-color-text);\n",
       "  box-shadow: 2pt 2pt 4pt #999;\n",
       "  /* unfitted */\n",
       "  background: var(--sklearn-color-unfitted-level-0);\n",
       "  border: .5pt solid var(--sklearn-color-unfitted-level-3);\n",
       "}\n",
       "\n",
       ".sk-estimator-doc-link.fitted span {\n",
       "  /* fitted */\n",
       "  background: var(--sklearn-color-fitted-level-0);\n",
       "  border: var(--sklearn-color-fitted-level-3);\n",
       "}\n",
       "\n",
       ".sk-estimator-doc-link:hover span {\n",
       "  display: block;\n",
       "}\n",
       "\n",
       "/* \"?\"-specific style due to the `<a>` HTML tag */\n",
       "\n",
       "#sk-container-id-3 a.estimator_doc_link {\n",
       "  float: right;\n",
       "  font-size: 1rem;\n",
       "  line-height: 1em;\n",
       "  font-family: monospace;\n",
       "  background-color: var(--sklearn-color-background);\n",
       "  border-radius: 1rem;\n",
       "  height: 1rem;\n",
       "  width: 1rem;\n",
       "  text-decoration: none;\n",
       "  /* unfitted */\n",
       "  color: var(--sklearn-color-unfitted-level-1);\n",
       "  border: var(--sklearn-color-unfitted-level-1) 1pt solid;\n",
       "}\n",
       "\n",
       "#sk-container-id-3 a.estimator_doc_link.fitted {\n",
       "  /* fitted */\n",
       "  border: var(--sklearn-color-fitted-level-1) 1pt solid;\n",
       "  color: var(--sklearn-color-fitted-level-1);\n",
       "}\n",
       "\n",
       "/* On hover */\n",
       "#sk-container-id-3 a.estimator_doc_link:hover {\n",
       "  /* unfitted */\n",
       "  background-color: var(--sklearn-color-unfitted-level-3);\n",
       "  color: var(--sklearn-color-background);\n",
       "  text-decoration: none;\n",
       "}\n",
       "\n",
       "#sk-container-id-3 a.estimator_doc_link.fitted:hover {\n",
       "  /* fitted */\n",
       "  background-color: var(--sklearn-color-fitted-level-3);\n",
       "}\n",
       "</style><div id=\"sk-container-id-3\" class=\"sk-top-container\"><div class=\"sk-text-repr-fallback\"><pre>OneVsRestClassifier(estimator=SVC(random_state=42))</pre><b>In a Jupyter environment, please rerun this cell to show the HTML representation or trust the notebook. <br />On GitHub, the HTML representation is unable to render, please try loading this page with nbviewer.org.</b></div><div class=\"sk-container\" hidden><div class=\"sk-item sk-dashed-wrapped\"><div class=\"sk-label-container\"><div class=\"sk-label fitted sk-toggleable\"><input class=\"sk-toggleable__control sk-hidden--visually\" id=\"sk-estimator-id-3\" type=\"checkbox\" ><label for=\"sk-estimator-id-3\" class=\"sk-toggleable__label fitted sk-toggleable__label-arrow\"><div><div>OneVsRestClassifier</div></div><div><a class=\"sk-estimator-doc-link fitted\" rel=\"noreferrer\" target=\"_blank\" href=\"https://scikit-learn.org/1.6/modules/generated/sklearn.multiclass.OneVsRestClassifier.html\">?<span>Documentation for OneVsRestClassifier</span></a><span class=\"sk-estimator-doc-link fitted\">i<span>Fitted</span></span></div></label><div class=\"sk-toggleable__content fitted\"><pre>OneVsRestClassifier(estimator=SVC(random_state=42))</pre></div> </div></div><div class=\"sk-parallel\"><div class=\"sk-parallel-item\"><div class=\"sk-item\"><div class=\"sk-label-container\"><div class=\"sk-label fitted sk-toggleable\"><input class=\"sk-toggleable__control sk-hidden--visually\" id=\"sk-estimator-id-4\" type=\"checkbox\" ><label for=\"sk-estimator-id-4\" class=\"sk-toggleable__label fitted sk-toggleable__label-arrow\"><div><div>estimator: SVC</div></div></label><div class=\"sk-toggleable__content fitted\"><pre>SVC(random_state=42)</pre></div> </div></div><div class=\"sk-serial\"><div class=\"sk-item\"><div class=\"sk-estimator fitted sk-toggleable\"><input class=\"sk-toggleable__control sk-hidden--visually\" id=\"sk-estimator-id-5\" type=\"checkbox\" ><label for=\"sk-estimator-id-5\" class=\"sk-toggleable__label fitted sk-toggleable__label-arrow\"><div><div>SVC</div></div><div><a class=\"sk-estimator-doc-link fitted\" rel=\"noreferrer\" target=\"_blank\" href=\"https://scikit-learn.org/1.6/modules/generated/sklearn.svm.SVC.html\">?<span>Documentation for SVC</span></a></div></label><div class=\"sk-toggleable__content fitted\"><pre>SVC(random_state=42)</pre></div> </div></div></div></div></div></div></div></div></div>"
      ],
      "text/plain": [
       "OneVsRestClassifier(estimator=SVC(random_state=42))"
      ]
     },
     "execution_count": 52,
     "metadata": {},
     "output_type": "execute_result"
    }
   ],
   "source": [
    "from sklearn.multiclass import OneVsRestClassifier\n",
    "ovr_clf=OneVsRestClassifier(SVC(random_state=42))\n",
    "ovr_clf.fit(X_train[:2000],y_train[:2000])"
   ]
  },
  {
   "cell_type": "markdown",
   "id": "a56037da",
   "metadata": {},
   "source": [
    "* bir tahmin yapalım ve kaç adet sınıflandırıcının eğitildiğini kontrol edelim"
   ]
  },
  {
   "cell_type": "code",
   "execution_count": 53,
   "id": "d4252c5a",
   "metadata": {},
   "outputs": [
    {
     "data": {
      "text/plain": [
       "array(['5'], dtype='<U1')"
      ]
     },
     "execution_count": 53,
     "metadata": {},
     "output_type": "execute_result"
    }
   ],
   "source": [
    "ovr_clf.predict([some_digit])"
   ]
  },
  {
   "cell_type": "code",
   "execution_count": 54,
   "id": "d221787b",
   "metadata": {},
   "outputs": [
    {
     "data": {
      "text/plain": [
       "10"
      ]
     },
     "execution_count": 54,
     "metadata": {},
     "output_type": "execute_result"
    }
   ],
   "source": [
    "len(ovr_clf.estimators_)"
   ]
  },
  {
   "cell_type": "code",
   "execution_count": 55,
   "id": "ba14fe29",
   "metadata": {},
   "outputs": [
    {
     "data": {
      "text/plain": [
       "[SVC(random_state=42),\n",
       " SVC(random_state=42),\n",
       " SVC(random_state=42),\n",
       " SVC(random_state=42),\n",
       " SVC(random_state=42),\n",
       " SVC(random_state=42),\n",
       " SVC(random_state=42),\n",
       " SVC(random_state=42),\n",
       " SVC(random_state=42),\n",
       " SVC(random_state=42)]"
      ]
     },
     "execution_count": 55,
     "metadata": {},
     "output_type": "execute_result"
    }
   ],
   "source": [
    "ovr_clf.estimators_"
   ]
  },
  {
   "cell_type": "markdown",
   "id": "969e8e95",
   "metadata": {},
   "source": [
    "* bir SGDClassifier'ı çok sınıflı bir veri seti üzerinde eğitmek ve onu tahmin yapmak için kullanmak da aynı derece kolaydır"
   ]
  },
  {
   "cell_type": "code",
   "execution_count": 56,
   "id": "e3fdb473",
   "metadata": {},
   "outputs": [
    {
     "data": {
      "text/plain": [
       "array(['3'], dtype='<U1')"
      ]
     },
     "execution_count": 56,
     "metadata": {},
     "output_type": "execute_result"
    }
   ],
   "source": [
    "sgd_clf=SGDClassifier(random_state=42)\n",
    "sgd_clf.fit(X_train,y_train)\n",
    "sgd_clf.predict([some_digit])"
   ]
  },
  {
   "cell_type": "markdown",
   "id": "7413a551",
   "metadata": {},
   "source": [
    "* bu sefer tahmin yanlış oldu(tahmin hataları elbette olabilir)\n",
    "* bu durumda sklearn arka planda OvR(one versus rest) stratejisi kullandı.Toplam 10 sınıf olduğundan 10 adet ikili sınıflandırıcı eğitti.\n",
    "* artık decision_function() metodu,her sınıf için bir skor(one value per class) döndürüyor\n",
    "* SGD sınıflandırıcısının her sınıfa atadığı skorları inceleyelim"
   ]
  },
  {
   "cell_type": "code",
   "execution_count": 57,
   "id": "dbb7b14c",
   "metadata": {},
   "outputs": [
    {
     "data": {
      "text/plain": [
       "array([[-31893., -34420.,  -9531.,   1824., -22320.,  -1386., -26189.,\n",
       "        -16148.,  -4604., -12051.]])"
      ]
     },
     "execution_count": 57,
     "metadata": {},
     "output_type": "execute_result"
    }
   ],
   "source": [
    "sgd_clf.decision_function([some_digit]).round()"
   ]
  },
  {
   "cell_type": "markdown",
   "id": "2083dc53",
   "metadata": {},
   "source": [
    "* görüldüğü gibi sınıflandırıcı tahmini konusunda çok emin değil. neredeyse tüm skorlar oldukça negatif,sadece 3. sınıfın skoru 1824, ve 5. sınıfın skoru da çok geride değil(-1.386)\n",
    "* elbette bu sınıflandırıcıyı sadece bir görüntüde değerlendirmek yeterli değildir. her sınıfta yaklaşık olarak eşit sayıda görüntü bulunduğu için,bu problemde doğruluk metriği(accuracy metric) uygun bir ölçüttür\n",
    "* her zamanki gibi,modeli değerlendirmek için cross_val_score() fonskiyonunu kullanabiliriz"
   ]
  },
  {
   "cell_type": "code",
   "execution_count": 58,
   "id": "e4c5cc88",
   "metadata": {},
   "outputs": [],
   "source": [
    "#cross_val_score(sgd_clf,X_train,y_train,cv=3,scoring=\"accuracy\")"
   ]
  },
  {
   "cell_type": "markdown",
   "id": "d8e15d02",
   "metadata": {},
   "source": [
    "* Model tüm test katmanlarında(test folds) %85.8'in üzerinde accuracy elde ediyor\n",
    "* rastgele bi sınıflandırı kullansaydık sadece yüzde 10 doğruluk  alırdık. bu nedenle sonuç fena sayılmaz.ancak çok daha iyisini de yapmak da mümkündür\n",
    "* girdileri ölceklendirmek doğruluğu yükseltir"
   ]
  },
  {
   "cell_type": "code",
   "execution_count": 59,
   "id": "ebdb4d83",
   "metadata": {},
   "outputs": [
    {
     "data": {
      "text/plain": [
       "array([0.8983, 0.891 , 0.9018])"
      ]
     },
     "execution_count": 59,
     "metadata": {},
     "output_type": "execute_result"
    }
   ],
   "source": [
    "from sklearn.preprocessing import StandardScaler\n",
    "scaler=StandardScaler()\n",
    "X_train_scaled=scaler.fit_transform(X_train.astype(\"float64\"))\n",
    "cross_val_score(sgd_clf,X_train_scaled,y_train,cv=3,scoring=\"accuracy\")"
   ]
  },
  {
   "cell_type": "markdown",
   "id": "155a0c15",
   "metadata": {},
   "source": [
    "## Error Analysis\n",
    "\n",
    "* Eğer bu gerçek makine öğrenmesi projesi olsaydı, şu an proje kontrol listesindeki adımları izlerdik. BU aşamada\n",
    "* veri hazılama seçenekleri(data preparation options) araştırır,\n",
    "* birden fazla modeli dener,\n",
    "* en iyi adayları kısa listeye alınır,\n",
    "* GridSearchCV kullanarak hipeparametre ayarlaması yapar ve,\n",
    "* süreci olabildiğince otomatikleştirirdik"
   ]
  },
  {
   "cell_type": "markdown",
   "id": "dc83ed0a",
   "metadata": {},
   "source": [
    "* burada ise umut vadeden bir model bulduğumuzu varsayalım ve onu nasıl daha da geliştirebileceğimize bakalım\n",
    "* bunu yapmanın yollarından biri,modelin yaptığı hataların türlerini(type of errors) analiz etmektir\n"
   ]
  },
  {
   "cell_type": "markdown",
   "id": "5adbc653",
   "metadata": {},
   "source": [
    "* ilk adım olara,confusion matrisine bak.\n",
    "* bunun için önce cross_val_predict() ile tahminler üret\n",
    "* daha sonra etiketleri ve tahminleri confusion_matrix() fonksiyonuna geçir\n",
    "* ancak 10 sınıf olduğu için karmaşıklık matrisi oldukça fazla sayı içerir ve okumak zorlaşabilir\n",
    "* bu nedenle renkli bir karmaşık matrisi diyagramı(colored confusion matrix plot) çok daha kolay yorumlanır\n",
    "* bu diyagramı çizmek için ConfusionMatrixDisplay.from_predictions() fonksiyonunu kullanabilirz"
   ]
  },
  {
   "cell_type": "code",
   "execution_count": 60,
   "id": "2a0b5f4c",
   "metadata": {},
   "outputs": [
    {
     "data": {
      "text/plain": [
       "'from sklearn.metrics import ConfusionMatrixDisplay\\ny_train_pred=cross_val_predict(sgd_clf,X_train_scaled,y_train,cv=3)\\nConfusionMatrixDisplay.from_predictions(y_train,y_train_pred)\\nplt.show()'"
      ]
     },
     "execution_count": 60,
     "metadata": {},
     "output_type": "execute_result"
    }
   ],
   "source": [
    "\"\"\"from sklearn.metrics import ConfusionMatrixDisplay\n",
    "y_train_pred=cross_val_predict(sgd_clf,X_train_scaled,y_train,cv=3)\n",
    "ConfusionMatrixDisplay.from_predictions(y_train,y_train_pred)\n",
    "plt.show()\"\"\""
   ]
  },
  {
   "cell_type": "markdown",
   "id": "84a35cd2",
   "metadata": {},
   "source": [
    "* bu karmaşıklık matrisi oldukça iyi görünüyor\n",
    "* coğu görüntü ana köşegen(main diagonal) üzerindedir. bu da onların doğru sınıflandırıldığını gösterir.\n",
    "* ancak 5. satır ve 5. sutundaki hücre diğer rakamlara göre biraz daha koyu renklidir.bu durumun iki olası nedeni vardır\n",
    "* model 5 lerle ilgili daha fazla hata yapmış olabilir ya da veri setinde diğer rakamlara göre daha az sayıda 5 bulunuyor olabilir"
   ]
  },
  {
   "cell_type": "markdown",
   "id": "f316038b",
   "metadata": {},
   "source": [
    "* bu nedenle karmaşıklık matrisi normalize etmek(yani her değeri,o satırdaki toplam görüntü sayısına bölmek) önemlidir\n",
    "* bu şekilde her sınıftaki örnek sayısındaki farklar dengeye alınır.\n",
    "* bunu yapmak için ,ConfusionMatrixDisplay.from_predictions() fonksiyonunda sadece normalize=\"true\" parametresini ayarlamak yeterlidir"
   ]
  },
  {
   "cell_type": "code",
   "execution_count": null,
   "id": "d691cd39",
   "metadata": {},
   "outputs": [
    {
     "ename": "NameError",
     "evalue": "name 'ConfusionMatrixDisplay' is not defined",
     "output_type": "error",
     "traceback": [
      "\u001b[31m---------------------------------------------------------------------------\u001b[39m",
      "\u001b[31mNameError\u001b[39m                                 Traceback (most recent call last)",
      "\u001b[36mCell\u001b[39m\u001b[36m \u001b[39m\u001b[32mIn[61]\u001b[39m\u001b[32m, line 1\u001b[39m\n\u001b[32m----> \u001b[39m\u001b[32m1\u001b[39m \u001b[43mConfusionMatrixDisplay\u001b[49m.from_predictions(y_train,y_train_pred,normalize=\u001b[33m\"\u001b[39m\u001b[33mtrue\u001b[39m\u001b[33m\"\u001b[39m,values_format=\u001b[33m\"\u001b[39m\u001b[33m.0\u001b[39m\u001b[33m%\u001b[39m\u001b[33m\"\u001b[39m)\n\u001b[32m      2\u001b[39m plt.show()\n",
      "\u001b[31mNameError\u001b[39m: name 'ConfusionMatrixDisplay' is not defined"
     ]
    }
   ],
   "source": [
    "\"\"\"ConfusionMatrixDisplay.from_predictions(y_train,y_train_pred,normalize=\"true\",values_format=\".0%\")\n",
    "plt.show()\"\"\""
   ]
  },
  {
   "cell_type": "markdown",
   "id": "a5af5b78",
   "metadata": {},
   "source": [
    "* açıkça görüyoruz ki 5'lerin sadece %82'si doğru şekilde sınıflandırılmış.Modelin 5'lerle ilgili yaptığı en yaygın hata, bu rakamları 8 olarak yanlış sınıflandırması(miscassify) olmuş.(yaklaşık %10)\n",
    "* buna karşılık 8'lerin sadece %2 si 5 olarak yanlış sınıflandırılmış. bu da bize karmaşıklık matrislerinin genellikle simetrik olmadığını gösterir\n",
    "* dikkatli bakarsak bir çok rakamın 8 olarak sınıflandırıldığını fark ederiz \n",
    "* hataları(errors) daha belirgin hale getirmek istiyorsak, doğru tahminlere sıfır ağılık(zero weight) verebiliriz"
   ]
  },
  {
   "cell_type": "code",
   "execution_count": null,
   "id": "486e1603",
   "metadata": {},
   "outputs": [
    {
     "data": {
      "text/plain": [
       "<Figure size 2000x1500 with 0 Axes>"
      ]
     },
     "metadata": {},
     "output_type": "display_data"
    },
    {
     "data": {
      "image/png": "[encoded data removed]",
      "text/plain": [
       "<Figure size 640x480 with 2 Axes>"
      ]
     },
     "metadata": {},
     "output_type": "display_data"
    }
   ],
   "source": [
    "\"\"\"plt.figure(figsize=(20,15))\n",
    "sample_weight=(y_train_pred != y_train)\n",
    "ConfusionMatrixDisplay.from_predictions(y_train,y_train_pred,sample_weight=sample_weight,\n",
    "                                        normalize=\"true\",values_format=\".0%\")\n",
    "plt.show()\"\"\""
   ]
  },
  {
   "cell_type": "markdown",
   "id": "68fb6025",
   "metadata": {},
   "source": [
    "* artık sınıflandırıcının yaptığı hata türlerini çok daha net görebiliyoruz.\n",
    "* 8 sınıfına ait sutun artık oldukça parlak görünüyor. bu da birçok görüntünün 8 olarak yanlıl sınıflandırıldığını doğruluyor.aslında bu neredeyse tüm sınıflar için en yaygın yanlış sınıflandırma durumudur"
   ]
  },
  {
   "cell_type": "markdown",
   "id": "e5da3519",
   "metadata": {},
   "source": [
    "* ancak bu diyagramdaki yüzdeleri yorumlarken dikkatli olmalıyız\n",
    "* bu grafikte doğru tahminler(correct predictions) hariç tutulmuştur"
   ]
  },
  {
   "cell_type": "markdown",
   "id": "66a4c849",
   "metadata": {},
   "source": [
    "* örneğin  diyagramda 7. satur ve 9. sutundaki %36 değeri(tüm 7 lerin yüzde 36'sı 9 olarak yanlış sınıflandırıldı) anlamına gelmez.\n",
    "* bu modelin 7'lerle ilgili yaptığı hataların %36'sı 9 olarak yanlış sınıflandırmadan oluşuyor anlamına gelir"
   ]
  },
  {
   "cell_type": "markdown",
   "id": "62c5beca",
   "metadata": {},
   "source": [
    "* gerçekte 7'lerin sadece %3'ü 9 olarak yanlış sınıflandırılmıştır(bir üst diyagramda görebiliriz)\n"
   ]
  },
  {
   "cell_type": "markdown",
   "id": "5ca1bf4a",
   "metadata": {},
   "source": [
    "* karmaşıklık matrisini analiz etmek, genellikle sınıflandırıcı geliştirmek için değerli içgörüler sağlar\n",
    "* bu grafiklere baktığımızda amacımızın yanlış 8 tahminlerini azaltmaya odaklanmak gerektiği görülüyor\n"
   ]
  },
  {
   "cell_type": "markdown",
   "id": "e72d0b33",
   "metadata": {},
   "source": [
    "* bunu yapmak için sunları deneyebiliriz\n",
    "* 8'e benzeyen ama 8 olmayan rakamlar için daha fazlz eğitim verisi toplayarak,modelin bunları ayırt etmeyi öğrenmesini sağlamak\n",
    "* modelin işini kolaylaştıracak yeni özellikler(features) geliştirmek(kapalı döngü sayısını hesaplayan bir algoritma yazmak)\n",
    "* görüntüleri ön işlemek(preprocess images). örneğin sklearn image,Pillow veya OpenCV kullankarak. böylece kapalı döngüler gibi desenler daha belirgin hale gelir"
   ]
  },
  {
   "cell_type": "markdown",
   "id": "20404e76",
   "metadata": {},
   "source": [
    "* ayrıca tek tek hataları analiz etmek(analyzing individual errors) de sınıflandırıcının nasıl çalıştığını ve neden hata yaptığını anlamak için oldukça faydalıdır"
   ]
  },
  {
   "cell_type": "markdown",
   "id": "da3a46d7",
   "metadata": {},
   "source": [
    "* örneğin 3'ler ve 5'ler arasındaki karışıklıkları görselleştirmek için bu iki sınıfa ait örnekleri bir karmaşıklık matrisi biçiminde çizebiliriz"
   ]
  },
  {
   "cell_type": "code",
   "execution_count": 62,
   "id": "aee44490",
   "metadata": {},
   "outputs": [
    {
     "name": "stdout",
     "output_type": "stream",
     "text": [
      "X_aa shape: (0, 784), X_ab shape: (0, 784), X_ba shape: (0, 784), X_bb shape: (0, 784)\n"
     ]
    },
    {
     "data": {
      "text/plain": [
       "<Figure size 1200x1200 with 0 Axes>"
      ]
     },
     "metadata": {},
     "output_type": "display_data"
    }
   ],
   "source": [
    "cl_a,cl_b=\"3\",\"5\"\n",
    "X_aa=X_train[(y_train==cl_a) & (y_train_pred==cl_a)]\n",
    "X_ab=X_train[(y_train==cl_a) & (y_train_pred==cl_b)]\n",
    "X_ba=X_train[(y_train==cl_b) & (y_train_pred==cl_a)]\n",
    "X_bb=X_train[(y_train==cl_b) & (y_train_pred==cl_b)]\n",
    "\n",
    "print(f\"X_aa shape: {X_aa.shape}, X_ab shape: {X_ab.shape}, X_ba shape: {X_ba.shape}, X_bb shape: {X_bb.shape}\")\n",
    "\n",
    "plt.figure(figsize=(12, 12))\n",
    "# True 3s classified as 3\n",
    "if len(X_aa) > 0:\n",
    "    plt.subplot(2, 2, 1)\n",
    "    image_data = X_aa[0]\n",
    "    plt.imshow(image_data.reshape(28, 28), cmap=\"binary\")\n",
    "    plt.title(f\"True {cl_a}, Pred {cl_a} (n={len(X_aa)})\")\n",
    "    plt.axis(\"off\")\n",
    "\n",
    "# True 3s classified as 5 (errors)\n",
    "if len(X_ab) > 0:\n",
    "    plt.subplot(2, 2, 2)\n",
    "    image_data = X_ab[0]\n",
    "    plt.imshow(image_data.reshape(28, 28), cmap=\"binary\")\n",
    "    plt.title(f\"True {cl_a}, Pred {cl_b} - Error (n={len(X_ab)})\")\n",
    "    plt.axis(\"off\")\n",
    "\n",
    "# True 5s classified as 3 (errors)\n",
    "if len(X_ba) > 0:\n",
    "    plt.subplot(2, 2, 3)\n",
    "    image_data = X_ba[0]\n",
    "    plt.imshow(image_data.reshape(28, 28), cmap=\"binary\")\n",
    "    plt.title(f\"True {cl_b}, Pred {cl_a} - Error (n={len(X_ba)})\")\n",
    "    plt.axis(\"off\")\n",
    "\n",
    "# True 5s classified as 5\n",
    "if len(X_bb) > 0:\n",
    "    plt.subplot(2, 2, 4)\n",
    "    image_data = X_bb[0]\n",
    "    plt.imshow(image_data.reshape(28, 28), cmap=\"binary\")\n",
    "    plt.title(f\"True {cl_b}, Pred {cl_b} (n={len(X_bb)})\")\n",
    "    plt.axis(\"off\")\n",
    "\n",
    "plt.tight_layout()\n",
    "plt.show()"
   ]
  },
  {
   "cell_type": "markdown",
   "id": "dc3cef61",
   "metadata": {},
   "source": [
    "## Çok Etiketli Sınıflandırma(Multilabel Classification)\n",
    "* Şimdiye kadar her örnek(instance), sadece tek bir sınıfa(single class) atanmıştı.Ancak bazı durumlarda,bir sınıflandırıcının her örnek için birden fazla sınıf çıktısı üretmesini isteyebiliriz"
   ]
  },
  {
   "cell_type": "markdown",
   "id": "07dfe53d",
   "metadata": {},
   "source": [
    "* örneğin bir yüz tanıma(face recognition) sınıflandırıcı düşünelim\n",
    "* aynı fotoğrafta birden fazla kişi var model ne yapmalı?.Her tanıdığı kişi için bir etiket(tag) üretmelidir"
   ]
  },
  {
   "cell_type": "markdown",
   "id": "91d325dc",
   "metadata": {},
   "source": [
    "* diyelim ki sınıflandırıcı üç kişiyi tanıyacak şekilde eğitilmiş.Alice,Bob,Charlie.Eğer sınıflandırıcıya Alice ve Charlie'nin bulunduğu bir fotoğraf gösterirse,cıktı söyle olamalı\n",
    "\n",
    "\n",
    "     \n",
    "     [True,False,True]\n",
    "\n",
    "\n",
    "* bu şekilde birden fazla ikili etiket(binary tag) üreten sınıflandırma sistemlerine çok etiketli sınıflandırma sistemleri (multilabel classification systems) denir\n",
    "* bir örnek"
   ]
  },
  {
   "cell_type": "code",
   "execution_count": 63,
   "id": "20484b49",
   "metadata": {},
   "outputs": [],
   "source": [
    "import numpy as np\n",
    "from sklearn.neighbors import KNeighborsClassifier\n",
    "y_train_large=(y_train>=\"7\")\n",
    "y_train_odd=(y_train.astype(\"int8\") % 2==1)\n",
    "y_multilabel=np.c_[y_train_large,y_train_odd]"
   ]
  },
  {
   "cell_type": "code",
   "execution_count": 64,
   "id": "7611e23a",
   "metadata": {},
   "outputs": [
    {
     "data": {
      "text/html": [
       "<style>#sk-container-id-4 {\n",
       "  /* Definition of color scheme common for light and dark mode */\n",
       "  --sklearn-color-text: #000;\n",
       "  --sklearn-color-text-muted: #666;\n",
       "  --sklearn-color-line: gray;\n",
       "  /* Definition of color scheme for unfitted estimators */\n",
       "  --sklearn-color-unfitted-level-0: #fff5e6;\n",
       "  --sklearn-color-unfitted-level-1: #f6e4d2;\n",
       "  --sklearn-color-unfitted-level-2: #ffe0b3;\n",
       "  --sklearn-color-unfitted-level-3: chocolate;\n",
       "  /* Definition of color scheme for fitted estimators */\n",
       "  --sklearn-color-fitted-level-0: #f0f8ff;\n",
       "  --sklearn-color-fitted-level-1: #d4ebff;\n",
       "  --sklearn-color-fitted-level-2: #b3dbfd;\n",
       "  --sklearn-color-fitted-level-3: cornflowerblue;\n",
       "\n",
       "  /* Specific color for light theme */\n",
       "  --sklearn-color-text-on-default-background: var(--sg-text-color, var(--theme-code-foreground, var(--jp-content-font-color1, black)));\n",
       "  --sklearn-color-background: var(--sg-background-color, var(--theme-background, var(--jp-layout-color0, white)));\n",
       "  --sklearn-color-border-box: var(--sg-text-color, var(--theme-code-foreground, var(--jp-content-font-color1, black)));\n",
       "  --sklearn-color-icon: #696969;\n",
       "\n",
       "  @media (prefers-color-scheme: dark) {\n",
       "    /* Redefinition of color scheme for dark theme */\n",
       "    --sklearn-color-text-on-default-background: var(--sg-text-color, var(--theme-code-foreground, var(--jp-content-font-color1, white)));\n",
       "    --sklearn-color-background: var(--sg-background-color, var(--theme-background, var(--jp-layout-color0, #111)));\n",
       "    --sklearn-color-border-box: var(--sg-text-color, var(--theme-code-foreground, var(--jp-content-font-color1, white)));\n",
       "    --sklearn-color-icon: #878787;\n",
       "  }\n",
       "}\n",
       "\n",
       "#sk-container-id-4 {\n",
       "  color: var(--sklearn-color-text);\n",
       "}\n",
       "\n",
       "#sk-container-id-4 pre {\n",
       "  padding: 0;\n",
       "}\n",
       "\n",
       "#sk-container-id-4 input.sk-hidden--visually {\n",
       "  border: 0;\n",
       "  clip: rect(1px 1px 1px 1px);\n",
       "  clip: rect(1px, 1px, 1px, 1px);\n",
       "  height: 1px;\n",
       "  margin: -1px;\n",
       "  overflow: hidden;\n",
       "  padding: 0;\n",
       "  position: absolute;\n",
       "  width: 1px;\n",
       "}\n",
       "\n",
       "#sk-container-id-4 div.sk-dashed-wrapped {\n",
       "  border: 1px dashed var(--sklearn-color-line);\n",
       "  margin: 0 0.4em 0.5em 0.4em;\n",
       "  box-sizing: border-box;\n",
       "  padding-bottom: 0.4em;\n",
       "  background-color: var(--sklearn-color-background);\n",
       "}\n",
       "\n",
       "#sk-container-id-4 div.sk-container {\n",
       "  /* jupyter's `normalize.less` sets `[hidden] { display: none; }`\n",
       "     but bootstrap.min.css set `[hidden] { display: none !important; }`\n",
       "     so we also need the `!important` here to be able to override the\n",
       "     default hidden behavior on the sphinx rendered scikit-learn.org.\n",
       "     See: https://github.com/scikit-learn/scikit-learn/issues/21755 */\n",
       "  display: inline-block !important;\n",
       "  position: relative;\n",
       "}\n",
       "\n",
       "#sk-container-id-4 div.sk-text-repr-fallback {\n",
       "  display: none;\n",
       "}\n",
       "\n",
       "div.sk-parallel-item,\n",
       "div.sk-serial,\n",
       "div.sk-item {\n",
       "  /* draw centered vertical line to link estimators */\n",
       "  background-image: linear-gradient(var(--sklearn-color-text-on-default-background), var(--sklearn-color-text-on-default-background));\n",
       "  background-size: 2px 100%;\n",
       "  background-repeat: no-repeat;\n",
       "  background-position: center center;\n",
       "}\n",
       "\n",
       "/* Parallel-specific style estimator block */\n",
       "\n",
       "#sk-container-id-4 div.sk-parallel-item::after {\n",
       "  content: \"\";\n",
       "  width: 100%;\n",
       "  border-bottom: 2px solid var(--sklearn-color-text-on-default-background);\n",
       "  flex-grow: 1;\n",
       "}\n",
       "\n",
       "#sk-container-id-4 div.sk-parallel {\n",
       "  display: flex;\n",
       "  align-items: stretch;\n",
       "  justify-content: center;\n",
       "  background-color: var(--sklearn-color-background);\n",
       "  position: relative;\n",
       "}\n",
       "\n",
       "#sk-container-id-4 div.sk-parallel-item {\n",
       "  display: flex;\n",
       "  flex-direction: column;\n",
       "}\n",
       "\n",
       "#sk-container-id-4 div.sk-parallel-item:first-child::after {\n",
       "  align-self: flex-end;\n",
       "  width: 50%;\n",
       "}\n",
       "\n",
       "#sk-container-id-4 div.sk-parallel-item:last-child::after {\n",
       "  align-self: flex-start;\n",
       "  width: 50%;\n",
       "}\n",
       "\n",
       "#sk-container-id-4 div.sk-parallel-item:only-child::after {\n",
       "  width: 0;\n",
       "}\n",
       "\n",
       "/* Serial-specific style estimator block */\n",
       "\n",
       "#sk-container-id-4 div.sk-serial {\n",
       "  display: flex;\n",
       "  flex-direction: column;\n",
       "  align-items: center;\n",
       "  background-color: var(--sklearn-color-background);\n",
       "  padding-right: 1em;\n",
       "  padding-left: 1em;\n",
       "}\n",
       "\n",
       "\n",
       "/* Toggleable style: style used for estimator/Pipeline/ColumnTransformer box that is\n",
       "clickable and can be expanded/collapsed.\n",
       "- Pipeline and ColumnTransformer use this feature and define the default style\n",
       "- Estimators will overwrite some part of the style using the `sk-estimator` class\n",
       "*/\n",
       "\n",
       "/* Pipeline and ColumnTransformer style (default) */\n",
       "\n",
       "#sk-container-id-4 div.sk-toggleable {\n",
       "  /* Default theme specific background. It is overwritten whether we have a\n",
       "  specific estimator or a Pipeline/ColumnTransformer */\n",
       "  background-color: var(--sklearn-color-background);\n",
       "}\n",
       "\n",
       "/* Toggleable label */\n",
       "#sk-container-id-4 label.sk-toggleable__label {\n",
       "  cursor: pointer;\n",
       "  display: flex;\n",
       "  width: 100%;\n",
       "  margin-bottom: 0;\n",
       "  padding: 0.5em;\n",
       "  box-sizing: border-box;\n",
       "  text-align: center;\n",
       "  align-items: start;\n",
       "  justify-content: space-between;\n",
       "  gap: 0.5em;\n",
       "}\n",
       "\n",
       "#sk-container-id-4 label.sk-toggleable__label .caption {\n",
       "  font-size: 0.6rem;\n",
       "  font-weight: lighter;\n",
       "  color: var(--sklearn-color-text-muted);\n",
       "}\n",
       "\n",
       "#sk-container-id-4 label.sk-toggleable__label-arrow:before {\n",
       "  /* Arrow on the left of the label */\n",
       "  content: \"▸\";\n",
       "  float: left;\n",
       "  margin-right: 0.25em;\n",
       "  color: var(--sklearn-color-icon);\n",
       "}\n",
       "\n",
       "#sk-container-id-4 label.sk-toggleable__label-arrow:hover:before {\n",
       "  color: var(--sklearn-color-text);\n",
       "}\n",
       "\n",
       "/* Toggleable content - dropdown */\n",
       "\n",
       "#sk-container-id-4 div.sk-toggleable__content {\n",
       "  max-height: 0;\n",
       "  max-width: 0;\n",
       "  overflow: hidden;\n",
       "  text-align: left;\n",
       "  /* unfitted */\n",
       "  background-color: var(--sklearn-color-unfitted-level-0);\n",
       "}\n",
       "\n",
       "#sk-container-id-4 div.sk-toggleable__content.fitted {\n",
       "  /* fitted */\n",
       "  background-color: var(--sklearn-color-fitted-level-0);\n",
       "}\n",
       "\n",
       "#sk-container-id-4 div.sk-toggleable__content pre {\n",
       "  margin: 0.2em;\n",
       "  border-radius: 0.25em;\n",
       "  color: var(--sklearn-color-text);\n",
       "  /* unfitted */\n",
       "  background-color: var(--sklearn-color-unfitted-level-0);\n",
       "}\n",
       "\n",
       "#sk-container-id-4 div.sk-toggleable__content.fitted pre {\n",
       "  /* unfitted */\n",
       "  background-color: var(--sklearn-color-fitted-level-0);\n",
       "}\n",
       "\n",
       "#sk-container-id-4 input.sk-toggleable__control:checked~div.sk-toggleable__content {\n",
       "  /* Expand drop-down */\n",
       "  max-height: 200px;\n",
       "  max-width: 100%;\n",
       "  overflow: auto;\n",
       "}\n",
       "\n",
       "#sk-container-id-4 input.sk-toggleable__control:checked~label.sk-toggleable__label-arrow:before {\n",
       "  content: \"▾\";\n",
       "}\n",
       "\n",
       "/* Pipeline/ColumnTransformer-specific style */\n",
       "\n",
       "#sk-container-id-4 div.sk-label input.sk-toggleable__control:checked~label.sk-toggleable__label {\n",
       "  color: var(--sklearn-color-text);\n",
       "  background-color: var(--sklearn-color-unfitted-level-2);\n",
       "}\n",
       "\n",
       "#sk-container-id-4 div.sk-label.fitted input.sk-toggleable__control:checked~label.sk-toggleable__label {\n",
       "  background-color: var(--sklearn-color-fitted-level-2);\n",
       "}\n",
       "\n",
       "/* Estimator-specific style */\n",
       "\n",
       "/* Colorize estimator box */\n",
       "#sk-container-id-4 div.sk-estimator input.sk-toggleable__control:checked~label.sk-toggleable__label {\n",
       "  /* unfitted */\n",
       "  background-color: var(--sklearn-color-unfitted-level-2);\n",
       "}\n",
       "\n",
       "#sk-container-id-4 div.sk-estimator.fitted input.sk-toggleable__control:checked~label.sk-toggleable__label {\n",
       "  /* fitted */\n",
       "  background-color: var(--sklearn-color-fitted-level-2);\n",
       "}\n",
       "\n",
       "#sk-container-id-4 div.sk-label label.sk-toggleable__label,\n",
       "#sk-container-id-4 div.sk-label label {\n",
       "  /* The background is the default theme color */\n",
       "  color: var(--sklearn-color-text-on-default-background);\n",
       "}\n",
       "\n",
       "/* On hover, darken the color of the background */\n",
       "#sk-container-id-4 div.sk-label:hover label.sk-toggleable__label {\n",
       "  color: var(--sklearn-color-text);\n",
       "  background-color: var(--sklearn-color-unfitted-level-2);\n",
       "}\n",
       "\n",
       "/* Label box, darken color on hover, fitted */\n",
       "#sk-container-id-4 div.sk-label.fitted:hover label.sk-toggleable__label.fitted {\n",
       "  color: var(--sklearn-color-text);\n",
       "  background-color: var(--sklearn-color-fitted-level-2);\n",
       "}\n",
       "\n",
       "/* Estimator label */\n",
       "\n",
       "#sk-container-id-4 div.sk-label label {\n",
       "  font-family: monospace;\n",
       "  font-weight: bold;\n",
       "  display: inline-block;\n",
       "  line-height: 1.2em;\n",
       "}\n",
       "\n",
       "#sk-container-id-4 div.sk-label-container {\n",
       "  text-align: center;\n",
       "}\n",
       "\n",
       "/* Estimator-specific */\n",
       "#sk-container-id-4 div.sk-estimator {\n",
       "  font-family: monospace;\n",
       "  border: 1px dotted var(--sklearn-color-border-box);\n",
       "  border-radius: 0.25em;\n",
       "  box-sizing: border-box;\n",
       "  margin-bottom: 0.5em;\n",
       "  /* unfitted */\n",
       "  background-color: var(--sklearn-color-unfitted-level-0);\n",
       "}\n",
       "\n",
       "#sk-container-id-4 div.sk-estimator.fitted {\n",
       "  /* fitted */\n",
       "  background-color: var(--sklearn-color-fitted-level-0);\n",
       "}\n",
       "\n",
       "/* on hover */\n",
       "#sk-container-id-4 div.sk-estimator:hover {\n",
       "  /* unfitted */\n",
       "  background-color: var(--sklearn-color-unfitted-level-2);\n",
       "}\n",
       "\n",
       "#sk-container-id-4 div.sk-estimator.fitted:hover {\n",
       "  /* fitted */\n",
       "  background-color: var(--sklearn-color-fitted-level-2);\n",
       "}\n",
       "\n",
       "/* Specification for estimator info (e.g. \"i\" and \"?\") */\n",
       "\n",
       "/* Common style for \"i\" and \"?\" */\n",
       "\n",
       ".sk-estimator-doc-link,\n",
       "a:link.sk-estimator-doc-link,\n",
       "a:visited.sk-estimator-doc-link {\n",
       "  float: right;\n",
       "  font-size: smaller;\n",
       "  line-height: 1em;\n",
       "  font-family: monospace;\n",
       "  background-color: var(--sklearn-color-background);\n",
       "  border-radius: 1em;\n",
       "  height: 1em;\n",
       "  width: 1em;\n",
       "  text-decoration: none !important;\n",
       "  margin-left: 0.5em;\n",
       "  text-align: center;\n",
       "  /* unfitted */\n",
       "  border: var(--sklearn-color-unfitted-level-1) 1pt solid;\n",
       "  color: var(--sklearn-color-unfitted-level-1);\n",
       "}\n",
       "\n",
       ".sk-estimator-doc-link.fitted,\n",
       "a:link.sk-estimator-doc-link.fitted,\n",
       "a:visited.sk-estimator-doc-link.fitted {\n",
       "  /* fitted */\n",
       "  border: var(--sklearn-color-fitted-level-1) 1pt solid;\n",
       "  color: var(--sklearn-color-fitted-level-1);\n",
       "}\n",
       "\n",
       "/* On hover */\n",
       "div.sk-estimator:hover .sk-estimator-doc-link:hover,\n",
       ".sk-estimator-doc-link:hover,\n",
       "div.sk-label-container:hover .sk-estimator-doc-link:hover,\n",
       ".sk-estimator-doc-link:hover {\n",
       "  /* unfitted */\n",
       "  background-color: var(--sklearn-color-unfitted-level-3);\n",
       "  color: var(--sklearn-color-background);\n",
       "  text-decoration: none;\n",
       "}\n",
       "\n",
       "div.sk-estimator.fitted:hover .sk-estimator-doc-link.fitted:hover,\n",
       ".sk-estimator-doc-link.fitted:hover,\n",
       "div.sk-label-container:hover .sk-estimator-doc-link.fitted:hover,\n",
       ".sk-estimator-doc-link.fitted:hover {\n",
       "  /* fitted */\n",
       "  background-color: var(--sklearn-color-fitted-level-3);\n",
       "  color: var(--sklearn-color-background);\n",
       "  text-decoration: none;\n",
       "}\n",
       "\n",
       "/* Span, style for the box shown on hovering the info icon */\n",
       ".sk-estimator-doc-link span {\n",
       "  display: none;\n",
       "  z-index: 9999;\n",
       "  position: relative;\n",
       "  font-weight: normal;\n",
       "  right: .2ex;\n",
       "  padding: .5ex;\n",
       "  margin: .5ex;\n",
       "  width: min-content;\n",
       "  min-width: 20ex;\n",
       "  max-width: 50ex;\n",
       "  color: var(--sklearn-color-text);\n",
       "  box-shadow: 2pt 2pt 4pt #999;\n",
       "  /* unfitted */\n",
       "  background: var(--sklearn-color-unfitted-level-0);\n",
       "  border: .5pt solid var(--sklearn-color-unfitted-level-3);\n",
       "}\n",
       "\n",
       ".sk-estimator-doc-link.fitted span {\n",
       "  /* fitted */\n",
       "  background: var(--sklearn-color-fitted-level-0);\n",
       "  border: var(--sklearn-color-fitted-level-3);\n",
       "}\n",
       "\n",
       ".sk-estimator-doc-link:hover span {\n",
       "  display: block;\n",
       "}\n",
       "\n",
       "/* \"?\"-specific style due to the `<a>` HTML tag */\n",
       "\n",
       "#sk-container-id-4 a.estimator_doc_link {\n",
       "  float: right;\n",
       "  font-size: 1rem;\n",
       "  line-height: 1em;\n",
       "  font-family: monospace;\n",
       "  background-color: var(--sklearn-color-background);\n",
       "  border-radius: 1rem;\n",
       "  height: 1rem;\n",
       "  width: 1rem;\n",
       "  text-decoration: none;\n",
       "  /* unfitted */\n",
       "  color: var(--sklearn-color-unfitted-level-1);\n",
       "  border: var(--sklearn-color-unfitted-level-1) 1pt solid;\n",
       "}\n",
       "\n",
       "#sk-container-id-4 a.estimator_doc_link.fitted {\n",
       "  /* fitted */\n",
       "  border: var(--sklearn-color-fitted-level-1) 1pt solid;\n",
       "  color: var(--sklearn-color-fitted-level-1);\n",
       "}\n",
       "\n",
       "/* On hover */\n",
       "#sk-container-id-4 a.estimator_doc_link:hover {\n",
       "  /* unfitted */\n",
       "  background-color: var(--sklearn-color-unfitted-level-3);\n",
       "  color: var(--sklearn-color-background);\n",
       "  text-decoration: none;\n",
       "}\n",
       "\n",
       "#sk-container-id-4 a.estimator_doc_link.fitted:hover {\n",
       "  /* fitted */\n",
       "  background-color: var(--sklearn-color-fitted-level-3);\n",
       "}\n",
       "</style><div id=\"sk-container-id-4\" class=\"sk-top-container\"><div class=\"sk-text-repr-fallback\"><pre>KNeighborsClassifier()</pre><b>In a Jupyter environment, please rerun this cell to show the HTML representation or trust the notebook. <br />On GitHub, the HTML representation is unable to render, please try loading this page with nbviewer.org.</b></div><div class=\"sk-container\" hidden><div class=\"sk-item\"><div class=\"sk-estimator fitted sk-toggleable\"><input class=\"sk-toggleable__control sk-hidden--visually\" id=\"sk-estimator-id-6\" type=\"checkbox\" checked><label for=\"sk-estimator-id-6\" class=\"sk-toggleable__label fitted sk-toggleable__label-arrow\"><div><div>KNeighborsClassifier</div></div><div><a class=\"sk-estimator-doc-link fitted\" rel=\"noreferrer\" target=\"_blank\" href=\"https://scikit-learn.org/1.6/modules/generated/sklearn.neighbors.KNeighborsClassifier.html\">?<span>Documentation for KNeighborsClassifier</span></a><span class=\"sk-estimator-doc-link fitted\">i<span>Fitted</span></span></div></label><div class=\"sk-toggleable__content fitted\"><pre>KNeighborsClassifier()</pre></div> </div></div></div></div>"
      ],
      "text/plain": [
       "KNeighborsClassifier()"
      ]
     },
     "execution_count": 64,
     "metadata": {},
     "output_type": "execute_result"
    }
   ],
   "source": [
    "knn_clf=KNeighborsClassifier()\n",
    "knn_clf.fit(X_train,y_multilabel)"
   ]
  },
  {
   "cell_type": "markdown",
   "id": "e529497f",
   "metadata": {},
   "source": [
    "* bu kod her rakam görüntüsü için iki hedef etiketten oluşan bir y_multilabel dizisi(array) oluşturur.İlk etiket rakamın 6 dan büyük olup olmadığını belirtir. İkinci etiket ise rakamın tek olup olmadığını gösterir"
   ]
  },
  {
   "cell_type": "markdown",
   "id": "c6f12952",
   "metadata": {},
   "source": [
    "* ardından çok etiketli sınıflandırmayı destekleyen(her sınıflandırıcı bunu yapmaz) bir KNeighborsClassifier örneği oluşturulur ve bu model çoklu hedef dizisi(multiple targets array) kullanılarak eğitilir\n",
    "* Artık bir tahmin yapabiliriz(model iki etiket(two labels) üretir)"
   ]
  },
  {
   "cell_type": "code",
   "execution_count": 65,
   "id": "54faf2ac",
   "metadata": {},
   "outputs": [],
   "source": [
    "y_train_knn_pred=cross_val_predict(knn_clf,X_train,y_multilabel,cv=3)"
   ]
  },
  {
   "cell_type": "code",
   "execution_count": 66,
   "id": "24c2b0cd",
   "metadata": {},
   "outputs": [
    {
     "data": {
      "text/plain": [
       "0.9764102655606048"
      ]
     },
     "execution_count": 66,
     "metadata": {},
     "output_type": "execute_result"
    }
   ],
   "source": [
    "f1_score(y_multilabel,y_train_knn_pred,average=\"macro\")"
   ]
  },
  {
   "cell_type": "markdown",
   "id": "f6a7ac79",
   "metadata": {},
   "source": [
    "* Bu yaklaşım tüm etiketlerin eşit derecede önemli olduğunu varsayar.Ancak bu her zaman doğru olmayabilir\n",
    "* Örneğin Alice'ın fotoğrafları Bob veya Charlieden cok daha fazlasysa,sınıflandırıcının Alice'e ait skoruna(classifier skor) daha fazla ağırlık verilmesi gerekebilir"
   ]
  },
  {
   "cell_type": "markdown",
   "id": "074ed216",
   "metadata": {},
   "source": [
    "* Bunun basit bir yolu, her etikete destek(support) değeri kadar ağırlık vermektir.Yani o etikete sahip örnek sayısı kadar.\n",
    "* Bunu aypmak için f1_score() fonksiyonunu çağırırken average=\"weighted\" parametresini ayarlamak yeterlidir."
   ]
  },
  {
   "cell_type": "markdown",
   "id": "c919371d",
   "metadata": {},
   "source": [
    "* Eğer kullandığımzı sınıflandırıcı (örnek SVC) çok etiketli sınıflandırmayı doğal olarak destekelemiyorsa,bir seçenek her etiket için ayrı bir model eğitmektir\n",
    "* fakat bu strateji etiketler arasındaki bağımlılıkları(dependencies between labels) yakalamakta zorlanabilir\n",
    "* örneğin \"büyük\" bir rakamın(7,8,veya 9) tek olma olasılığı çift olma olasılığının iki katıdır;ancak \"odd(tek)\" etiketini tahmin eden model,\"large\" etiketini tahmin eden modelin ne söylediğini bilmez\n",
    "* bu sorunu çözmek için modeller bir zincir halinde organize edilebilir.\n",
    "* her model tahmin yaparken, girdi özelliklerine(input features) ek olarak kendinden önceki modellerin tahminlerini de kullanır.\n",
    "* sklearn bunu yapan bir sınıfa sahiptir-->ClassifierChain"
   ]
  },
  {
   "cell_type": "markdown",
   "id": "e7bdf2de",
   "metadata": {},
   "source": [
    "* varsayılan olarak,eğitim sırasında gerçek etiketleri kullanır- ve her model,zincirdeki konumuna göre uygun etiketleri alır\n",
    "* ancak cv hiperparametresi ayarlanırsa,model çarpaz doğrulama kullanarak her örnek için \"temiz\"(clean,out-of-sample) tahminler üretir.Bu tahminler,zincirde sonraki tüm modellerin eğitiminde kullanılır"
   ]
  },
  {
   "cell_type": "markdown",
   "id": "132f9eb5",
   "metadata": {},
   "source": [
    "* aşağda çapraz doğrulama stratejisi(cross-validation strategy) kullanarak bir ClassifierChain modelin nasıl oluşturulacağı ve eğitileceği gösteririlir\n",
    "* yine ilk 2000 görüntü kullanılacak"
   ]
  },
  {
   "cell_type": "code",
   "execution_count": 67,
   "id": "ba2b9675",
   "metadata": {},
   "outputs": [
    {
     "data": {
      "text/plain": [
       "array([[0., 1.]])"
      ]
     },
     "execution_count": 67,
     "metadata": {},
     "output_type": "execute_result"
    }
   ],
   "source": [
    "from sklearn.multioutput import ClassifierChain\n",
    "chain_clf=ClassifierChain(SVC(),cv=3,random_state=42)\n",
    "chain_clf.fit(X_train[:2000],y_multilabel[:2000])\n",
    "\n",
    "chain_clf.predict([some_digit])"
   ]
  },
  {
   "cell_type": "markdown",
   "id": "07054c6e",
   "metadata": {},
   "source": [
    "## Multioutput Classification(Çok Çıkışlı Sınıflandırma)\n",
    "* bu sınıflandırma türü çok etiketli sınıflandırmanın daha genel bir halidir. Ancak burada her etiket(label) sadece iki değil,birden fazla olası değere(multiclass) sahip olabilir"
   ]
  },
  {
   "cell_type": "markdown",
   "id": "73f9955c",
   "metadata": {},
   "source": [
    "* gürültülü görüntülerden gürü giderme(denoising) yapan sistem inşa edeceğimizi düşünelim\n",
    "* bu sistemin girdisi, gürültülü bir rakam görüntüsü(noisy digit image) olacak; çıktısı ise(inş) temiz bir rakam görüntüsü(clean digit image) olacaktır.tıpkı MNIST görüntülerinde olduğu gibi piksel yoğunluklarını temsil eden bir dizi array şeklinde"
   ]
  },
  {
   "cell_type": "markdown",
   "id": "7c167ff9",
   "metadata": {},
   "source": [
    "* bu durumda sınıflandırıcının çıktısı\n",
    "* çok etiketlidir(multilabel)-> çünkü her piksel için bir etiket vardır ve \n",
    "* her etiket çok sınıflıdır-> çünkü her piksek değeri 0 ila 255 arasında değişebilir\n"
   ]
  },
  {
   "cell_type": "markdown",
   "id": "a3c9aa98",
   "metadata": {},
   "source": [
    "* dolayısıyla bu sistem,cok çıkışlı sınıflandırma sistemi için iyi bir örnektir"
   ]
  },
  {
   "cell_type": "markdown",
   "id": "4868526a",
   "metadata": {},
   "source": [
    "* şimdi eğitim ve test setlerini oluşturmak için MNIST görüntülerini ele alacağız ve piksellerin yoğunluk değerlerine (pixel intensities) rastgele gürültü(noise) ekleyeceğiz\n",
    "* bunu yapmak için \"random number generator\"'un integers() metodunu kullanacaz.\n",
    "* bu işlem sonucunda hedef görüntüler(target images) orijinal,temiz görünütler,input görüntüleri ise gürültülü versiyonları olacaktır"
   ]
  },
  {
   "cell_type": "code",
   "execution_count": 69,
   "id": "ff1a84ec",
   "metadata": {},
   "outputs": [
    {
     "data": {
      "text/plain": [
       "<bound method Generator.integers of Generator(PCG64) at 0x1473844A0>"
      ]
     },
     "execution_count": 69,
     "metadata": {},
     "output_type": "execute_result"
    }
   ],
   "source": [
    "rng=np.random.default_rng(seed=42)\n",
    "rng.integers"
   ]
  },
  {
   "cell_type": "code",
   "execution_count": 71,
   "id": "28abb7d4",
   "metadata": {},
   "outputs": [
    {
     "data": {
      "text/plain": [
       "array([[40, 52, 66, ...,  0, 25, 57],\n",
       "       [14, 96,  7, ..., 64, 35, 55],\n",
       "       [76, 22, 15, ..., 97, 12, 60],\n",
       "       ...,\n",
       "       [22, 92, 10, ..., 23, 41, 86],\n",
       "       [81, 21, 18, ...,  3, 40, 57],\n",
       "       [37, 81, 10, ..., 29, 41, 18]], shape=(60000, 784))"
      ]
     },
     "execution_count": 71,
     "metadata": {},
     "output_type": "execute_result"
    }
   ],
   "source": [
    "noise_train=rng.integers(0,100,(len(X_train),784))\n",
    "noise_train"
   ]
  },
  {
   "cell_type": "code",
   "execution_count": 73,
   "id": "32271307",
   "metadata": {},
   "outputs": [
    {
     "data": {
      "text/plain": [
       "array([[40, 52, 66, ...,  0, 25, 57],\n",
       "       [14, 96,  7, ..., 64, 35, 55],\n",
       "       [76, 22, 15, ..., 97, 12, 60],\n",
       "       ...,\n",
       "       [22, 92, 10, ..., 23, 41, 86],\n",
       "       [81, 21, 18, ...,  3, 40, 57],\n",
       "       [37, 81, 10, ..., 29, 41, 18]], shape=(60000, 784))"
      ]
     },
     "execution_count": 73,
     "metadata": {},
     "output_type": "execute_result"
    }
   ],
   "source": [
    "X_train_mod=X_train +noise_train\n",
    "X_train_mod"
   ]
  },
  {
   "cell_type": "code",
   "execution_count": 74,
   "id": "b903ddcf",
   "metadata": {},
   "outputs": [
    {
     "data": {
      "text/plain": [
       "array([[13, 52, 30, ..., 60, 20, 69],\n",
       "       [20, 32, 27, ...,  4, 86, 64],\n",
       "       [77, 24, 83, ..., 35, 65, 55],\n",
       "       ...,\n",
       "       [76, 15,  4, ..., 23, 50, 43],\n",
       "       [10, 67, 47, ..., 70, 60, 69],\n",
       "       [41, 89, 82, ..., 98, 15, 58]], shape=(10000, 784))"
      ]
     },
     "execution_count": 74,
     "metadata": {},
     "output_type": "execute_result"
    }
   ],
   "source": [
    "noise_test=rng.integers(0,100,(len(X_test),784))\n",
    "X_test_mod=X_test + noise_test\n",
    "X_test_mod"
   ]
  },
  {
   "cell_type": "code",
   "execution_count": 75,
   "id": "71585069",
   "metadata": {},
   "outputs": [],
   "source": [
    "y_train_mod=X_train\n",
    "y_test_mod=X_test"
   ]
  },
  {
   "cell_type": "code",
   "execution_count": 77,
   "id": "91bd86be",
   "metadata": {},
   "outputs": [
    {
     "data": {
      "image/png": "[encoded data removed]",
      "text/plain": [
       "<Figure size 640x480 with 1 Axes>"
      ]
     },
     "metadata": {},
     "output_type": "display_data"
    }
   ],
   "source": [
    "plot_digit(X_test_mod[0])"
   ]
  },
  {
   "cell_type": "code",
   "execution_count": 76,
   "id": "8662652f",
   "metadata": {},
   "outputs": [
    {
     "data": {
      "image/png": "[encoded data removed]",
      "text/plain": [
       "<Figure size 640x480 with 1 Axes>"
      ]
     },
     "metadata": {},
     "output_type": "display_data"
    }
   ],
   "source": [
    "#train \n",
    "knn_clf=KNeighborsClassifier()\n",
    "knn_clf.fit(X_train_mod,y_train_mod)\n",
    "clean_digit=knn_clf.predict([X_test_mod[0]])\n",
    "plot_digit(clean_digit)\n",
    "plt.show()"
   ]
  },
  {
   "cell_type": "markdown",
   "id": "bd93a82d",
   "metadata": {},
   "source": [
    "* istediğimize oldukça yakın görünüyor"
   ]
  },
  {
   "cell_type": "code",
   "execution_count": null,
   "id": "a35b16c8",
   "metadata": {},
   "outputs": [],
   "source": []
  }
 ],
 "metadata": {
  "kernelspec": {
   "display_name": "Python 3",
   "language": "python",
   "name": "python3"
  },
  "language_info": {
   "codemirror_mode": {
    "name": "ipython",
    "version": 3
   },
   "file_extension": ".py",
   "mimetype": "text/x-python",
   "name": "python",
   "nbconvert_exporter": "python",
   "pygments_lexer": "ipython3",
   "version": "3.13.2"
  }
 },
 "nbformat": 4,
 "nbformat_minor": 5
}
