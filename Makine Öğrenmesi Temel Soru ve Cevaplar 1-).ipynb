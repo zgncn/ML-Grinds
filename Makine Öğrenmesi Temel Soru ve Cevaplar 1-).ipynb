{
 "cells": [
  {
   "cell_type": "markdown",
   "id": "de3d3838",
   "metadata": {},
   "source": [
    "### 1-) “How would you define machine learning?”\n",
    "\n",
    "* Makine öğrenmesi, verilerden öğrenebilen sistemler kurmaktır.Öğrenme belirli bir performans ölüçütüne göre görevde daha iyi hale gelmek anlamına gelir"
   ]
  },
  {
   "cell_type": "markdown",
   "id": "185e5b9d",
   "metadata": {},
   "source": [
    "### 2-) “Can you name four types of applications where it shines?”(“Parladığı dört tür uygulama alanını sayabilir misin?”)\n",
    "\n",
    "Makine Öğrenmesi\n",
    "\n",
    "* Algoritmik bir çözümün olmadığı karmaşık problemler için,\n",
    "* Elle ayarlanmış uzun kural listelerinin(manually crafted) yerini almak için.(yani sistem geliştiricinin elle belirlediği uzun kural listeleri yerine , örneklerden öğrenerek en uygun kararları verir)\n",
    "* Değişken ortamlara uyum sağlayabilen sistemler kurmak için\n",
    "* İnsanlara öğrenmede yardımcı olmak için\n",
    "\n",
    "yararlıdır"
   ]
  },
  {
   "cell_type": "markdown",
   "id": "36add834",
   "metadata": {},
   "source": [
    "### 3-) “What is a labeled training set?”\n",
    "\n",
    "* Etiketli eğitim kümesi,her bir örnek(instance) için istenen çözümü(label) içeren eğitim kümesidir"
   ]
  },
  {
   "cell_type": "markdown",
   "id": "78a2fbb9",
   "metadata": {},
   "source": [
    "### 4-)“What are the two most common supervised tasks?”\n",
    "\n",
    "* Regression\n",
    "* Classification"
   ]
  },
  {
   "cell_type": "markdown",
   "id": "397fca00",
   "metadata": {},
   "source": [
    "### 5-) “Can you name four common unsupervised tasks?”\n",
    "\n",
    "* Clustering(Kümeleme)\n",
    "* Visualization(Görselleştirme)\n",
    "* Dimensionality Reduction(Boyut İndirgeme)\n",
    "* Association Rule Learning(İlişki Kuralı Öğrenimi)(Ekmek alanların çoğu peynir de alıyor vs.)\n",
    "\n",
    "\n",
    "\n"
   ]
  },
  {
   "cell_type": "markdown",
   "id": "7b0d83cd",
   "metadata": {},
   "source": [
    "### 6-) “What type of algorithm would you use to allow a robot to walk in various unknown terrains?”(“Bir robotun çeşitli bilinmeyen arazilerde yürümesini sağlamak için hangi tür algoritmayı kullanırsın?”)\n",
    "\n",
    "* Bir robotun bilinmeyen arazilerde yürümeyi öğrenmesini istiyorsak en iyi sonucu büyük olasılıkla pekiştirmeli öğrenme(Reinforcement Learning) verir.Çünkü bu tür problemler genelde pekiştirmeli öğrenmenin ele aldığı problemlerdir.\n",
    "* Bu problem denetimli ya da yarı denetimli öğrenme problemi olarak da ifade edilebilir, ancak bu daha yapay(less natural) bir yaklaşım olur\n",
    "\n"
   ]
  },
  {
   "cell_type": "markdown",
   "id": "1d379a26",
   "metadata": {},
   "source": [
    "### 7-) “What type of algorithm would you use to segment your customers into multiple groups?”\n",
    "\n",
    "* Eğer grupları nasıl tanımlayacağımızı bilmiyorsak(label yok), benzer özelliklere sahip müşterileri kümelere ayırmak için kümeleme algoritması(denetimsiz öğrenme) kullanabiliriz.\n",
    "* Hangi gruplara sahip olmak istediğimiz biliyorsak(label var) her gruptan birçok örneği sınıflandırma algoritmasına(denetimli öğrenme) verebilir ve bu algoritmanın tüm müşterileri bu gruplara(labellara) göre ayırmasını sağlayabiliriz\n",
    "\n"
   ]
  },
  {
   "cell_type": "markdown",
   "id": "9ad2e0aa",
   "metadata": {},
   "source": [
    "### 8-) “Would you frame the problem of spam detection as a supervised learning problem or an unsupervised learning problem”(“Spam tespiti problemini denetimli bir öğrenme problemi olarak mı yoksa denetimsiz bir öğrenme problemi olarak mı ele alırsın?”)\n",
    "\n",
    "* Spam tespiti, klasik denetimli öğrenme problemidir.Algoritmaya bir çok eposta,bunların etiketleriyle(label) birlikte(spam ya da spam değil) öğretilir\n"
   ]
  },
  {
   "cell_type": "markdown",
   "id": "8065cbc1",
   "metadata": {},
   "source": [
    "### 9-) “What is an online learning system?”\n",
    "\n",
    "* Çevrimiçi(online) öğrenme sistemi, yığın(batch) öğrenme sistemlerinin aksine artımlı(kademeli,incrementally) olarak öğrenebilir.Bu sayede değişen verilere ve otonom sistemlere hızla uyum sağlar ve çok büyük miktarda veriyi eğitmek için kullanılabilir.\n",
    "* Örneğin araç sürüş sırasında yeni yol koşullarıyla karşılaştığında sensör verilerinden anında öğrenerek davranışı ayarlar\n"
   ]
  },
  {
   "cell_type": "markdown",
   "id": "c0edbcc6",
   "metadata": {},
   "source": [
    "### 10-) “What is out-of-core learning?”(bellek dışı öğrenme nedir?)\n",
    "\n",
    "* Bellek dışı(out-of-core) algoritmalar bilgisiyarın ana belleğine sığmayan çok büyük miktarda veriyi işler.Bu tür algoritma, veriyi küçük parçalara(mini-batch) ayırır ve bu mini batchlerden çevrim içi öğrenme teknikleri kullanarak öğrenir\n",
    "\n"
   ]
  },
  {
   "cell_type": "markdown",
   "id": "222cdf71",
   "metadata": {},
   "source": [
    "### 11-)“What type of algorithm relies on a similarity measure to make predictions?”(“Tahmin yapmak için benzerlik ölçümüne dayanan algoritma türü hangisidir?”)\n",
    "\n",
    "* Örnek tabanlı(instance-based) öğrenme sistemi,eğitim verilerini ezberler(hafızada saklar), ardından bir önek verildiğinde, benzerlik ölçümünü kullanarak(karşılaştırarak) en çok benzeyen öğrenilmiş örnekleri bulur ve bu örneklerden yararlanarak tahmin yapar\n",
    "* Örnek olarak(K-Nearest Neighbors)\n",
    "\n",
    "\n",
    "\n"
   ]
  },
  {
   "cell_type": "markdown",
   "id": "671ebd53",
   "metadata": {},
   "source": [
    "### 12-) “What is the difference between a model parameter and a model hyperparameter?”\n",
    "\n",
    "* Bir model, yeni bir örnek verildiğinde ne tahmin edeceğini belirleyen bir veya daha fazla model parametresine sahiptir(doğrusal bir modelin eğimi).Bir öğrenme algoritması modelin yeni örneklerle iyi genelleme yapmasını sağlayacak şekilde bu parametreler için en uygun değerleri bulmaya çalışır.Bir hiperparametre ise modelin değil,öğrenem algoritmasının kendi parametresidir.(uygulancak regularization miktarı)"
   ]
  },
  {
   "cell_type": "markdown",
   "id": "224e8554",
   "metadata": {},
   "source": [
    "### 13-) “What do model-based algorithms search for? What is the most common strategy they use to succeed? How do they make predictions?”(“Model tabanlı algoritmalar neyi bulmaya çalışır?Başarılı olmak için en yaygın olarak hangi stratejiyi kullanırlar? Tahminleri nasıl yaparlar?”)\n",
    "\n",
    "* Model tabanlı öğrenme algoritmaları,modelin yeni örneklerle iyi genelleme yapmasını sağlayacak şekilde model parametreleri için en uygun değerleri bulmaya çalışır\n",
    "* Genellikle bu tür sistemleri modelin eğitim verisi üzerindeki tahmin hatasını ölçen bir maliyet fonksiyonunu(ve eğer model denlileştirilmişse,model karmaşıklığı için bir ceza terimini) en aza indirerek eğitiriz.\n",
    "* Tahmin yapmak için öğrenme algoritması tarafından bulunan parametre değerlerini kullanarak yeni bir örneğin özelliklerini modelin tahmin fonksiyonuna uygularız\n",
    "\n"
   ]
  },
  {
   "cell_type": "markdown",
   "id": "6a33a3ba",
   "metadata": {},
   "source": [
    "### 14-) “Can you name four of the main challenges in machine learning?”\n",
    "\n",
    "* Veri eksikliği\n",
    "* DÜşük veri kalitesi \n",
    "* Bilgi açısından yetersiz özellikler\n",
    "* Eğitim verisini yeterince öğrenemeyen aşırı basit modeller(underfitting)\n",
    "* Veriye aşırı uyum sağlayan karmaşık modeller(overfitting)"
   ]
  },
  {
   "cell_type": "markdown",
   "id": "a98e2988",
   "metadata": {},
   "source": [
    "### 15-) “If your model performs great on the training data but generalizes poorly to new instances, what is happening? Can you name three possible solutions?”\n",
    "\n",
    "* Model eğitim verisinde çok iyi performans gösterip yeni örneklere karşı zayıf genelleme yapıyorsa model eğitim verisine aşırı uyum sağlamıştır(ya da eğitim verisinde aşırı sanslı bir denk gelme yaşanmıştır). Aşırı uyum(overfitting) sorununa olası çözümler\n",
    "* Daha fazla veri toplamak\n",
    "* Modeli basitleştirmek(daha basit bir algoritma seçmek,kullanılan parametre veya özellik sayısını azaltmak)\n",
    "* Eğitim verisindeki gürültüyü azaltmaktır"
   ]
  },
  {
   "cell_type": "markdown",
   "id": "799dfeba",
   "metadata": {},
   "source": [
    "### 16-) “What is a test set, and why would you want to use it?(“Test kümesi nedir ve neden kullanmak istersiniz?”)\n",
    "\n",
    "* Test kümesi,model üretim ortamında kullanılmadan önce, modelin yeni örnekler üzerinde yapacağı genelleme hatasını tahmin etmek için kullanılır.\n",
    "\n",
    "\n",
    "\n"
   ]
  },
  {
   "cell_type": "markdown",
   "id": "2ee46d0c",
   "metadata": {},
   "source": [
    "### 17-) “What is the purpose of a validation set?”\n",
    "\n",
    "* Bir doğrulama kümesi, modelleri karşılaştırmak için kullanılır. En iyi modeli seçmeye ve hiperparametreleri ayarlamaya olanak sağlar"
   ]
  },
  {
   "cell_type": "markdown",
   "id": "3861b88b",
   "metadata": {},
   "source": [
    "### 18-) “What is the train-dev set, when do you need it, and how do you use it?”\n",
    "\n",
    "* Train-dev kümesi, eğitim verisi ile doğrulama ve test veri kümeleri arasında bir uyumsuzluk riski olduğunda kullanılır(doğrulama ve test verilerinin,model üretimdeyken kullanılacak verilere oldukca benzer olması gerekir.)Train-dev kümesi,eğitim verisinin bir kısmıdır ancak model bu kısımda eğitilmez.Model,eğitim verisinin geri kalan kısmında eğitilir ve hem train-dev kümesi hem de doğrulama kümesi üzerinde değerlendirilir.Eğer model eğitim kümesinde iyi performans gösterip train-dev kümesinde kötü performans gösteriyorsa muhtemelen eğitim verisine aşırı uyum sağlamıştır.Eğer model hem eğitim kümesinde hem de train-dev kümesinde iyi performans gösteriyor ancak doğrulama kümesinde zayıf kalıyorsa, bu durumda eğitim verisi ile doğrulama + test verileri arasında belirgin bir veri uyumsuzluğu vardır ve bu durumda eğitim verisini,doğrulama + test verilerine daha çok benzeyecek şekilde iyileştirmeye çalışmak gerekir."
   ]
  },
  {
   "cell_type": "markdown",
   "id": "e7334aa6",
   "metadata": {},
   "source": [
    "### 19-) “What can go wrong if you tune hyperparameters using the test set?”(“Test kümesini kullanarak hiperparametre ayarlaması yaparsanız ne ters gidebilir?”)\n",
    "\n",
    "* Eğer hiperparametreleri test kümesini kullanarak ayarlarsak, test kümesine aşırı uyum sağlama riski ortaya çıkar ve ölçtüğümüz genelleme hatası olduğundan daha iyimser görünür(beklediğinizden daha kötü performans gösteren bir modeli üretime alabilirsiniz)\n",
    "\n"
   ]
  },
  {
   "cell_type": "markdown",
   "id": "5dbb5ce1",
   "metadata": {},
   "source": []
  }
 ],
 "metadata": {
  "language_info": {
   "name": "python"
  }
 },
 "nbformat": 4,
 "nbformat_minor": 5
}
